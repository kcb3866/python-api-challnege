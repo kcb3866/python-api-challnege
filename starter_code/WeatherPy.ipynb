{
 "cells": [
  {
   "cell_type": "markdown",
   "metadata": {},
   "source": [
    "# WeatherPy\n",
    "----\n",
    "\n",
    "#### Note\n",
    "* Instructions have been included for each segment. You do not have to follow them exactly, but they are included to help you think through the steps."
   ]
  },
  {
   "cell_type": "code",
   "execution_count": 37,
   "metadata": {
    "scrolled": true
   },
   "outputs": [],
   "source": [
    "# Dependencies and Setup\n",
    "import matplotlib.pyplot as plt\n",
    "import pandas as pd\n",
    "import numpy as np\n",
    "import requests\n",
    "import time\n",
    "from scipy.stats import linregress\n",
    "\n",
    "# Import API key\n",
    "from api_keys import weather_api_key\n",
    "#api_key = weather_api_key\n",
    "# Incorporated citipy to determine city based on latitude and longitude\n",
    "from citipy import citipy\n",
    "\n",
    "# Output File (CSV)\n",
    "output_data_file = \"output_data/cities.csv\"\n",
    "\n",
    "# Range of latitudes and longitudes\n",
    "lat_range = (-90, 90)\n",
    "lng_range = (-180, 180)"
   ]
  },
  {
   "cell_type": "markdown",
   "metadata": {},
   "source": [
    "## Generate Cities List"
   ]
  },
  {
   "cell_type": "code",
   "execution_count": 38,
   "metadata": {},
   "outputs": [
    {
     "name": "stdout",
     "output_type": "stream",
     "text": [
      "<zip object at 0x00000186FF45B9C8>\n"
     ]
    },
    {
     "data": {
      "text/plain": [
       "['anta',\n",
       " 'fuzhou',\n",
       " 'bluff',\n",
       " 'lebu',\n",
       " 'waipawa',\n",
       " 'rikitea',\n",
       " 'belyy yar',\n",
       " 'port macquarie',\n",
       " 'nikolskoye',\n",
       " 'sofiysk',\n",
       " 'tumannyy',\n",
       " 'cape town',\n",
       " 'mataura',\n",
       " 'hashtgerd',\n",
       " 'bredasdorp',\n",
       " 'port elizabeth',\n",
       " 'albany',\n",
       " 'ostrovnoy',\n",
       " 'qaanaaq',\n",
       " 'tasiilaq',\n",
       " 'hilo',\n",
       " 'jamestown',\n",
       " 'akdagmadeni',\n",
       " 'faanui',\n",
       " 'eyl',\n",
       " 'san patricio',\n",
       " 'busselton',\n",
       " 'provideniya',\n",
       " 'punta arenas',\n",
       " 'swinoujscie',\n",
       " 'khatanga',\n",
       " 'vardo',\n",
       " 'ushuaia',\n",
       " 'maldonado',\n",
       " 'orocue',\n",
       " 'puerto ayora',\n",
       " 'atuona',\n",
       " 'virginia beach',\n",
       " 'batagay',\n",
       " 'coruripe',\n",
       " 'butaritari',\n",
       " 'panguna',\n",
       " 'barentsburg',\n",
       " 'labutta',\n",
       " 'kodiak',\n",
       " 'georgetown',\n",
       " 'castro',\n",
       " 'narsaq',\n",
       " 'taman',\n",
       " 'windhoek']"
      ]
     },
     "execution_count": 38,
     "metadata": {},
     "output_type": "execute_result"
    }
   ],
   "source": [
    "# List for holding lat_lngs and cities\n",
    "lat_lngs = []\n",
    "cities = []\n",
    "\n",
    "# Create a set of random lat and lng combinations\n",
    "lats = np.random.uniform(lat_range[0], lat_range[1], size=1500)\n",
    "lngs = np.random.uniform(lng_range[0], lng_range[1], size=1500)\n",
    "lat_lngs = zip(lats, lngs)\n",
    "print(lat_lngs)\n",
    "# Identify nearest city for each lat, lng combination\n",
    "for lat_lng in lat_lngs:\n",
    "    city = citipy.nearest_city(lat_lng[0], lat_lng[1]).city_name\n",
    "    \n",
    "    # If the city is unique, then add it to a our cities list\n",
    "    if city not in cities:\n",
    "        cities.append(city)\n",
    "\n",
    "# Print the city count to confirm sufficient count\n",
    "len(cities)\n",
    "#debugging no more than 60 per min\n",
    "cities=cities[0:50]\n",
    "cities"
   ]
  },
  {
   "cell_type": "markdown",
   "metadata": {},
   "source": [
    "### Perform API Calls\n",
    "* Perform a weather check on each city using a series of successive API calls.\n",
    "* Include a print log of each city as it'sbeing processed (with the city number and city name).\n"
   ]
  },
  {
   "cell_type": "code",
   "execution_count": 39,
   "metadata": {},
   "outputs": [
    {
     "data": {
      "text/plain": [
       "'http://api.openweathermap.org/data/2.5/weather?appid=775126892489447e8d019010166b439e&units=Imperial'"
      ]
     },
     "execution_count": 39,
     "metadata": {},
     "output_type": "execute_result"
    }
   ],
   "source": [
    "# Perform a weather check on each city using a series of successive API calls.\n",
    "url = \"http://api.openweathermap.org/data/2.5/weather?\"\n",
    "units = \"Imperial\"\n",
    "\n",
    "weather_url = f\"{url}appid={weather_api_key}&units={units}\"\n",
    "weather_url\n"
   ]
  },
  {
   "cell_type": "code",
   "execution_count": 50,
   "metadata": {},
   "outputs": [
    {
     "name": "stdout",
     "output_type": "stream",
     "text": [
      "- Processing request -\n",
      "---------------------\n",
      "anta is 0 of 50\n",
      "- Processing request -\n",
      "---------------------\n",
      "fuzhou is 0 of 50\n",
      "- Processing request -\n",
      "---------------------\n",
      "bluff is 0 of 50\n",
      "- Processing request -\n",
      "---------------------\n",
      "lebu is 0 of 50\n",
      "- Processing request -\n",
      "---------------------\n",
      "waipawa is 0 of 50\n",
      "- Processing request -\n",
      "---------------------\n",
      "rikitea is 0 of 50\n",
      "- Processing request -\n",
      "---------------------\n",
      "belyy yar is 0 of 50\n",
      "- Processing request -\n",
      "---------------------\n",
      "port macquarie is 0 of 50\n",
      "- Processing request -\n",
      "---------------------\n",
      "nikolskoye is 0 of 50\n",
      "City not found. Skipping...\n",
      "City not found. Skipping...\n",
      "- Processing request -\n",
      "---------------------\n",
      "cape town is 0 of 50\n",
      "- Processing request -\n",
      "---------------------\n",
      "mataura is 0 of 50\n",
      "- Processing request -\n",
      "---------------------\n",
      "hashtgerd is 0 of 50\n",
      "- Processing request -\n",
      "---------------------\n",
      "bredasdorp is 0 of 50\n",
      "- Processing request -\n",
      "---------------------\n",
      "port elizabeth is 0 of 50\n",
      "- Processing request -\n",
      "---------------------\n",
      "albany is 0 of 50\n",
      "- Processing request -\n",
      "---------------------\n",
      "ostrovnoy is 0 of 50\n",
      "- Processing request -\n",
      "---------------------\n",
      "qaanaaq is 0 of 50\n",
      "- Processing request -\n",
      "---------------------\n",
      "tasiilaq is 0 of 50\n",
      "- Processing request -\n",
      "---------------------\n",
      "hilo is 0 of 50\n",
      "- Processing request -\n",
      "---------------------\n",
      "jamestown is 0 of 50\n",
      "- Processing request -\n",
      "---------------------\n",
      "akdagmadeni is 0 of 50\n",
      "- Processing request -\n",
      "---------------------\n",
      "faanui is 0 of 50\n",
      "- Processing request -\n",
      "---------------------\n",
      "eyl is 0 of 50\n",
      "- Processing request -\n",
      "---------------------\n",
      "san patricio is 0 of 50\n",
      "- Processing request -\n",
      "---------------------\n",
      "busselton is 0 of 50\n",
      "- Processing request -\n",
      "---------------------\n",
      "provideniya is 0 of 50\n",
      "- Processing request -\n",
      "---------------------\n",
      "punta arenas is 0 of 50\n",
      "- Processing request -\n",
      "---------------------\n",
      "swinoujscie is 0 of 50\n",
      "- Processing request -\n",
      "---------------------\n",
      "khatanga is 0 of 50\n",
      "- Processing request -\n",
      "---------------------\n",
      "vardo is 0 of 50\n",
      "- Processing request -\n",
      "---------------------\n",
      "ushuaia is 0 of 50\n",
      "- Processing request -\n",
      "---------------------\n",
      "maldonado is 0 of 50\n",
      "- Processing request -\n",
      "---------------------\n",
      "orocue is 0 of 50\n",
      "- Processing request -\n",
      "---------------------\n",
      "puerto ayora is 0 of 50\n",
      "- Processing request -\n",
      "---------------------\n",
      "atuona is 0 of 50\n",
      "- Processing request -\n",
      "---------------------\n",
      "virginia beach is 0 of 50\n",
      "- Processing request -\n",
      "---------------------\n",
      "batagay is 0 of 50\n",
      "- Processing request -\n",
      "---------------------\n",
      "coruripe is 0 of 50\n",
      "- Processing request -\n",
      "---------------------\n",
      "butaritari is 0 of 50\n",
      "- Processing request -\n",
      "---------------------\n",
      "panguna is 0 of 50\n",
      "City not found. Skipping...\n",
      "City not found. Skipping...\n",
      "- Processing request -\n",
      "---------------------\n",
      "kodiak is 0 of 50\n",
      "- Processing request -\n",
      "---------------------\n",
      "georgetown is 0 of 50\n",
      "- Processing request -\n",
      "---------------------\n",
      "castro is 0 of 50\n",
      "- Processing request -\n",
      "---------------------\n",
      "narsaq is 0 of 50\n",
      "- Processing request -\n",
      "---------------------\n",
      "taman is 0 of 50\n",
      "- Processing request -\n",
      "---------------------\n",
      "windhoek is 0 of 50\n",
      "-----------------------\n",
      "Processing Finished!\n"
     ]
    }
   ],
   "source": [
    "city_data_list = []\n",
    "\n",
    "#number\n",
    "number=0\n",
    "series_number = 1\n",
    "# Include a print log of each city as it'sbeing processed (with the city number and city name).\n",
    "for city in cities:\n",
    "    city_dict = {}\n",
    "    try:\n",
    "        query_url = f'{weather_url}&q={city}'\n",
    "        \n",
    "        response = requests.get(query_url).json()\n",
    "        \n",
    "        city_dict['city'] = city\n",
    "        city_dict['temp_max']= response['main']['temp_max']\n",
    "        city_dict['humidity']= response['main']['humidity']\n",
    "        city_dict['clouds']= response['clouds']['all']\n",
    "        city_dict['windspeed']= response['wind']['speed']\n",
    "        city_dict['lat']=response['coord']['lat']\n",
    "        city_dict['lng']= response['coord']['lon']\n",
    "        city_dict['country']= response['sys']['country']\n",
    "        city_dict['date']= (response['dt'])\n",
    "        #append to list\n",
    "        city_data_list.append(city_dict)\n",
    "        if number % 50:\n",
    "            time.sleep(60)\n",
    "#             number = 1\n",
    "#             series_number += 1\n",
    "#             city_data_list(city_dict)\n",
    "#         else:\n",
    "#             number += 1\n",
    "#             city_data_list(city)\n",
    "        print(\"- Processing next 50 -\")\n",
    "        print(\"---------------------\")\n",
    "        print(f'{city} is {number} of {len(cities)}')\n",
    "    except:\n",
    "        print('City not found. Skipping...')\n",
    "        pass\n",
    "        \n",
    "print(\"-----------------------\")       \n",
    "print(\"Processing Finished!\")"
   ]
  },
  {
   "cell_type": "markdown",
   "metadata": {},
   "source": [
    "### Convert Raw Data to DataFrame\n",
    "* Export the city data into a .csv.\n",
    "* Display the DataFrame"
   ]
  },
  {
   "cell_type": "code",
   "execution_count": 54,
   "metadata": {},
   "outputs": [
    {
     "data": {
      "text/html": [
       "<div>\n",
       "<style scoped>\n",
       "    .dataframe tbody tr th:only-of-type {\n",
       "        vertical-align: middle;\n",
       "    }\n",
       "\n",
       "    .dataframe tbody tr th {\n",
       "        vertical-align: top;\n",
       "    }\n",
       "\n",
       "    .dataframe thead th {\n",
       "        text-align: right;\n",
       "    }\n",
       "</style>\n",
       "<table border=\"1\" class=\"dataframe\">\n",
       "  <thead>\n",
       "    <tr style=\"text-align: right;\">\n",
       "      <th></th>\n",
       "      <th>city</th>\n",
       "      <th>temp_max</th>\n",
       "      <th>humidity</th>\n",
       "      <th>clouds</th>\n",
       "      <th>windspeed</th>\n",
       "      <th>lat</th>\n",
       "      <th>lng</th>\n",
       "      <th>country</th>\n",
       "      <th>date</th>\n",
       "    </tr>\n",
       "  </thead>\n",
       "  <tbody>\n",
       "    <tr>\n",
       "      <th>0</th>\n",
       "      <td>anta</td>\n",
       "      <td>60.17</td>\n",
       "      <td>33</td>\n",
       "      <td>0</td>\n",
       "      <td>1.23</td>\n",
       "      <td>25.1500</td>\n",
       "      <td>76.3000</td>\n",
       "      <td>IN</td>\n",
       "      <td>1612719352</td>\n",
       "    </tr>\n",
       "    <tr>\n",
       "      <th>1</th>\n",
       "      <td>fuzhou</td>\n",
       "      <td>62.60</td>\n",
       "      <td>72</td>\n",
       "      <td>75</td>\n",
       "      <td>6.71</td>\n",
       "      <td>26.0614</td>\n",
       "      <td>119.3061</td>\n",
       "      <td>CN</td>\n",
       "      <td>1612719056</td>\n",
       "    </tr>\n",
       "    <tr>\n",
       "      <th>2</th>\n",
       "      <td>bluff</td>\n",
       "      <td>54.05</td>\n",
       "      <td>85</td>\n",
       "      <td>100</td>\n",
       "      <td>5.10</td>\n",
       "      <td>-46.6000</td>\n",
       "      <td>168.3333</td>\n",
       "      <td>NZ</td>\n",
       "      <td>1612719275</td>\n",
       "    </tr>\n",
       "    <tr>\n",
       "      <th>3</th>\n",
       "      <td>lebu</td>\n",
       "      <td>64.33</td>\n",
       "      <td>73</td>\n",
       "      <td>51</td>\n",
       "      <td>8.50</td>\n",
       "      <td>-37.6167</td>\n",
       "      <td>-73.6500</td>\n",
       "      <td>CL</td>\n",
       "      <td>1612719065</td>\n",
       "    </tr>\n",
       "    <tr>\n",
       "      <th>4</th>\n",
       "      <td>waipawa</td>\n",
       "      <td>62.60</td>\n",
       "      <td>88</td>\n",
       "      <td>75</td>\n",
       "      <td>17.27</td>\n",
       "      <td>-41.4122</td>\n",
       "      <td>175.5153</td>\n",
       "      <td>NZ</td>\n",
       "      <td>1612719352</td>\n",
       "    </tr>\n",
       "  </tbody>\n",
       "</table>\n",
       "</div>"
      ],
      "text/plain": [
       "      city  temp_max  humidity  clouds  windspeed      lat       lng country  \\\n",
       "0     anta     60.17        33       0       1.23  25.1500   76.3000      IN   \n",
       "1   fuzhou     62.60        72      75       6.71  26.0614  119.3061      CN   \n",
       "2    bluff     54.05        85     100       5.10 -46.6000  168.3333      NZ   \n",
       "3     lebu     64.33        73      51       8.50 -37.6167  -73.6500      CL   \n",
       "4  waipawa     62.60        88      75      17.27 -41.4122  175.5153      NZ   \n",
       "\n",
       "         date  \n",
       "0  1612719352  \n",
       "1  1612719056  \n",
       "2  1612719275  \n",
       "3  1612719065  \n",
       "4  1612719352  "
      ]
     },
     "execution_count": 54,
     "metadata": {},
     "output_type": "execute_result"
    }
   ],
   "source": [
    "# Output File (CSV)\n",
    "output_data_file = \"output_data/cities.csv\"\n",
    "#convert to dataframe\n",
    "weather_data = pd.DataFrame(city_data_list)\n",
    "weather_data.to_csv(output_data_file)\n",
    "weather_data.head()"
   ]
  },
  {
   "cell_type": "markdown",
   "metadata": {},
   "source": [
    "## Inspect the data and remove the cities where the humidity > 100%.\n",
    "----\n",
    "Skip this step if there are no cities that have humidity > 100%. "
   ]
  },
  {
   "cell_type": "code",
   "execution_count": 51,
   "metadata": {},
   "outputs": [
    {
     "ename": "ValueError",
     "evalue": "The truth value of a Series is ambiguous. Use a.empty, a.bool(), a.item(), a.any() or a.all().",
     "output_type": "error",
     "traceback": [
      "\u001b[1;31m---------------------------------------------------------------------------\u001b[0m",
      "\u001b[1;31mValueError\u001b[0m                                Traceback (most recent call last)",
      "\u001b[1;32m<ipython-input-51-42a7af374280>\u001b[0m in \u001b[0;36m<module>\u001b[1;34m\u001b[0m\n\u001b[0;32m      4\u001b[0m \u001b[1;31m#create list loop\u001b[0m\u001b[1;33m\u001b[0m\u001b[1;33m\u001b[0m\u001b[1;33m\u001b[0m\u001b[0m\n\u001b[0;32m      5\u001b[0m \u001b[1;32mfor\u001b[0m \u001b[0mhumidity\u001b[0m \u001b[1;32min\u001b[0m \u001b[0mhumidity_scale\u001b[0m\u001b[1;33m:\u001b[0m\u001b[1;33m\u001b[0m\u001b[1;33m\u001b[0m\u001b[0m\n\u001b[1;32m----> 6\u001b[1;33m     \u001b[1;32mif\u001b[0m \u001b[0mhumidity\u001b[0m \u001b[1;32min\u001b[0m \u001b[0mhumidity_scale\u001b[0m \u001b[1;33m>\u001b[0m \u001b[1;36m100\u001b[0m\u001b[1;33m:\u001b[0m\u001b[1;33m\u001b[0m\u001b[1;33m\u001b[0m\u001b[0m\n\u001b[0m\u001b[0;32m      7\u001b[0m         \u001b[0mprint\u001b[0m\u001b[1;33m(\u001b[0m\u001b[1;34mf\"{city['city']} is sweaty\"\u001b[0m\u001b[1;33m)\u001b[0m\u001b[1;33m\u001b[0m\u001b[1;33m\u001b[0m\u001b[0m\n\u001b[0;32m      8\u001b[0m     \u001b[1;32melse\u001b[0m\u001b[1;33m:\u001b[0m\u001b[1;33m\u001b[0m\u001b[1;33m\u001b[0m\u001b[0m\n",
      "\u001b[1;32mc:\\users\\kcb38\\anaconda3\\envs\\pythondata\\lib\\site-packages\\pandas\\core\\generic.py\u001b[0m in \u001b[0;36m__nonzero__\u001b[1;34m(self)\u001b[0m\n\u001b[0;32m   1328\u001b[0m     \u001b[1;32mdef\u001b[0m \u001b[0m__nonzero__\u001b[0m\u001b[1;33m(\u001b[0m\u001b[0mself\u001b[0m\u001b[1;33m)\u001b[0m\u001b[1;33m:\u001b[0m\u001b[1;33m\u001b[0m\u001b[1;33m\u001b[0m\u001b[0m\n\u001b[0;32m   1329\u001b[0m         raise ValueError(\n\u001b[1;32m-> 1330\u001b[1;33m             \u001b[1;34mf\"The truth value of a {type(self).__name__} is ambiguous. \"\u001b[0m\u001b[1;33m\u001b[0m\u001b[1;33m\u001b[0m\u001b[0m\n\u001b[0m\u001b[0;32m   1331\u001b[0m             \u001b[1;34m\"Use a.empty, a.bool(), a.item(), a.any() or a.all().\"\u001b[0m\u001b[1;33m\u001b[0m\u001b[1;33m\u001b[0m\u001b[0m\n\u001b[0;32m   1332\u001b[0m         )\n",
      "\u001b[1;31mValueError\u001b[0m: The truth value of a Series is ambiguous. Use a.empty, a.bool(), a.item(), a.any() or a.all()."
     ]
    }
   ],
   "source": [
    "#  Get the indices of cities that have humidity over 100%.\n",
    "humidity_scale = weather_data[\"Humidity\"]\n",
    "\n",
    "#create list loop\n",
    "for humidity in humidity_scale:\n",
    "    if humidity in humidity_scale > 100:\n",
    "        print(f\"{city['city']} is sweaty\")\n",
    "    else:\n",
    "        Print(\"The weather is nice\")\n",
    "\n",
    "\n",
    "\n",
    "\n"
   ]
  },
  {
   "cell_type": "code",
   "execution_count": 7,
   "metadata": {},
   "outputs": [],
   "source": [
    "# Make a new DataFrame equal to the city data to drop all humidity outliers by index.\n",
    "# Passing \"inplace=False\" will make a copy of the city_data DataFrame, which we call \"clean_city_data\".\n"
   ]
  },
  {
   "cell_type": "code",
   "execution_count": null,
   "metadata": {},
   "outputs": [],
   "source": [
    "\n"
   ]
  },
  {
   "cell_type": "markdown",
   "metadata": {},
   "source": [
    "## Plotting the Data\n",
    "* Use proper labeling of the plots using plot titles (including date of analysis) and axes labels.\n",
    "* Save the plotted figures as .pngs."
   ]
  },
  {
   "cell_type": "markdown",
   "metadata": {},
   "source": [
    "## Latitude vs. Temperature Plot"
   ]
  },
  {
   "cell_type": "code",
   "execution_count": null,
   "metadata": {
    "scrolled": true
   },
   "outputs": [],
   "source": []
  },
  {
   "cell_type": "markdown",
   "metadata": {},
   "source": [
    "## Latitude vs. Humidity Plot"
   ]
  },
  {
   "cell_type": "code",
   "execution_count": null,
   "metadata": {},
   "outputs": [],
   "source": []
  },
  {
   "cell_type": "markdown",
   "metadata": {},
   "source": [
    "## Latitude vs. Cloudiness Plot"
   ]
  },
  {
   "cell_type": "code",
   "execution_count": null,
   "metadata": {},
   "outputs": [],
   "source": []
  },
  {
   "cell_type": "markdown",
   "metadata": {},
   "source": [
    "## Latitude vs. Wind Speed Plot"
   ]
  },
  {
   "cell_type": "code",
   "execution_count": null,
   "metadata": {},
   "outputs": [],
   "source": []
  },
  {
   "cell_type": "markdown",
   "metadata": {},
   "source": [
    "## Linear Regression"
   ]
  },
  {
   "cell_type": "code",
   "execution_count": null,
   "metadata": {},
   "outputs": [],
   "source": []
  },
  {
   "cell_type": "markdown",
   "metadata": {},
   "source": [
    "####  Northern Hemisphere - Max Temp vs. Latitude Linear Regression"
   ]
  },
  {
   "cell_type": "code",
   "execution_count": null,
   "metadata": {},
   "outputs": [],
   "source": []
  },
  {
   "cell_type": "markdown",
   "metadata": {},
   "source": [
    "####  Southern Hemisphere - Max Temp vs. Latitude Linear Regression"
   ]
  },
  {
   "cell_type": "code",
   "execution_count": null,
   "metadata": {},
   "outputs": [],
   "source": []
  },
  {
   "cell_type": "markdown",
   "metadata": {},
   "source": [
    "####  Northern Hemisphere - Humidity (%) vs. Latitude Linear Regression"
   ]
  },
  {
   "cell_type": "code",
   "execution_count": null,
   "metadata": {},
   "outputs": [],
   "source": []
  },
  {
   "cell_type": "markdown",
   "metadata": {},
   "source": [
    "####  Southern Hemisphere - Humidity (%) vs. Latitude Linear Regression"
   ]
  },
  {
   "cell_type": "code",
   "execution_count": null,
   "metadata": {},
   "outputs": [],
   "source": []
  },
  {
   "cell_type": "markdown",
   "metadata": {},
   "source": [
    "####  Northern Hemisphere - Cloudiness (%) vs. Latitude Linear Regression"
   ]
  },
  {
   "cell_type": "code",
   "execution_count": null,
   "metadata": {},
   "outputs": [],
   "source": []
  },
  {
   "cell_type": "markdown",
   "metadata": {},
   "source": [
    "####  Southern Hemisphere - Cloudiness (%) vs. Latitude Linear Regression"
   ]
  },
  {
   "cell_type": "code",
   "execution_count": null,
   "metadata": {},
   "outputs": [],
   "source": []
  },
  {
   "cell_type": "markdown",
   "metadata": {},
   "source": [
    "####  Northern Hemisphere - Wind Speed (mph) vs. Latitude Linear Regression"
   ]
  },
  {
   "cell_type": "code",
   "execution_count": null,
   "metadata": {},
   "outputs": [],
   "source": []
  },
  {
   "cell_type": "markdown",
   "metadata": {},
   "source": [
    "####  Southern Hemisphere - Wind Speed (mph) vs. Latitude Linear Regression"
   ]
  },
  {
   "cell_type": "code",
   "execution_count": null,
   "metadata": {},
   "outputs": [],
   "source": []
  },
  {
   "cell_type": "code",
   "execution_count": null,
   "metadata": {},
   "outputs": [],
   "source": []
  }
 ],
 "metadata": {
  "anaconda-cloud": {},
  "kernel_info": {
   "name": "python3"
  },
  "kernelspec": {
   "display_name": "Python 3",
   "language": "python",
   "name": "python3"
  },
  "language_info": {
   "codemirror_mode": {
    "name": "ipython",
    "version": 3
   },
   "file_extension": ".py",
   "mimetype": "text/x-python",
   "name": "python",
   "nbconvert_exporter": "python",
   "pygments_lexer": "ipython3",
   "version": "3.6.12"
  },
  "latex_envs": {
   "LaTeX_envs_menu_present": true,
   "autoclose": false,
   "autocomplete": true,
   "bibliofile": "biblio.bib",
   "cite_by": "apalike",
   "current_citInitial": 1,
   "eqLabelWithNumbers": true,
   "eqNumInitial": 1,
   "hotkeys": {
    "equation": "Ctrl-E",
    "itemize": "Ctrl-I"
   },
   "labels_anchors": false,
   "latex_user_defs": false,
   "report_style_numbering": false,
   "user_envs_cfg": false
  },
  "nteract": {
   "version": "0.12.3"
  }
 },
 "nbformat": 4,
 "nbformat_minor": 2
}
