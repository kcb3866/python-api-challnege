{
 "cells": [
  {
   "cell_type": "markdown",
   "metadata": {},
   "source": [
    "# WeatherPy\n",
    "----\n",
    "\n",
    "#### Note\n",
    "* Instructions have been included for each segment. You do not have to follow them exactly, but they are included to help you think through the steps."
   ]
  },
  {
   "cell_type": "code",
   "execution_count": 1,
   "metadata": {
    "scrolled": true
   },
   "outputs": [],
   "source": [
    "# Dependencies and Setup\n",
    "import matplotlib.pyplot as plt\n",
    "import pandas as pd\n",
    "import numpy as np\n",
    "import requests\n",
    "import time\n",
    "from scipy.stats import linregress\n",
    "\n",
    "# Import API key\n",
    "from api_keys import weather_api_key\n",
    "#api_key = weather_api_key\n",
    "# Incorporated citipy to determine city based on latitude and longitude\n",
    "from citipy import citipy\n",
    "\n",
    "# Output File (CSV)\n",
    "output_data_file = \"output_data/cities.csv\"\n",
    "\n",
    "# Range of latitudes and longitudes\n",
    "lat_range = (-90, 90)\n",
    "lng_range = (-180, 180)"
   ]
  },
  {
   "cell_type": "markdown",
   "metadata": {},
   "source": [
    "## Generate Cities List"
   ]
  },
  {
   "cell_type": "code",
   "execution_count": 2,
   "metadata": {},
   "outputs": [
    {
     "name": "stdout",
     "output_type": "stream",
     "text": [
      "<zip object at 0x0000020AA90D8588>\n"
     ]
    },
    {
     "data": {
      "text/plain": [
       "['kalmunai',\n",
       " 'altay',\n",
       " 'chokurdakh',\n",
       " 'qaanaaq',\n",
       " 'morris',\n",
       " 'yuncheng',\n",
       " 'trairi',\n",
       " 'castro',\n",
       " 'lavrentiya',\n",
       " 'kitob',\n",
       " 'bredasdorp',\n",
       " 'rikitea',\n",
       " 'santiago del estero',\n",
       " 'hovd',\n",
       " 'punta arenas',\n",
       " 'albany',\n",
       " 'andenes',\n",
       " 'hasaki',\n",
       " 'ushuaia',\n",
       " 'vila franca do campo',\n",
       " 'najran',\n",
       " 'puerto ayora',\n",
       " 'san pablo tacachico',\n",
       " 'grand river south east',\n",
       " 'tonj',\n",
       " 'banjar',\n",
       " 'mahebourg',\n",
       " 'bluff',\n",
       " 'yinchuan',\n",
       " 'amderma',\n",
       " 'yellowknife',\n",
       " 'mataura',\n",
       " 'port elizabeth',\n",
       " 'busselton',\n",
       " 'upernavik',\n",
       " 'saleaula',\n",
       " 'clyde river',\n",
       " 'dickinson',\n",
       " 'sao filipe',\n",
       " 'atuona',\n",
       " 'margate',\n",
       " 'vaini',\n",
       " 'new norfolk',\n",
       " 'ntcheu',\n",
       " 'gzhatsk',\n",
       " 'karratha',\n",
       " 'vestmanna',\n",
       " 'mocuba',\n",
       " 'buala',\n",
       " 'arraial do cabo']"
      ]
     },
     "execution_count": 2,
     "metadata": {},
     "output_type": "execute_result"
    }
   ],
   "source": [
    "# List for holding lat_lngs and cities\n",
    "lat_lngs = []\n",
    "cities = []\n",
    "\n",
    "# Create a set of random lat and lng combinations\n",
    "lats = np.random.uniform(lat_range[0], lat_range[1], size=1500)\n",
    "lngs = np.random.uniform(lng_range[0], lng_range[1], size=1500)\n",
    "lat_lngs = zip(lats, lngs)\n",
    "print(lat_lngs)\n",
    "# Identify nearest city for each lat, lng combination\n",
    "for lat_lng in lat_lngs:\n",
    "    city = citipy.nearest_city(lat_lng[0], lat_lng[1]).city_name\n",
    "    \n",
    "    # If the city is unique, then add it to a our cities list\n",
    "    if city not in cities:\n",
    "        cities.append(city)\n",
    "\n",
    "# Print the city count to confirm sufficient count\n",
    "len(cities)\n",
    "#debugging no more than 60 per min\n",
    "cities=cities[0:50]\n",
    "cities"
   ]
  },
  {
   "cell_type": "markdown",
   "metadata": {},
   "source": [
    "### Perform API Calls\n",
    "* Perform a weather check on each city using a series of successive API calls.\n",
    "* Include a print log of each city as it'sbeing processed (with the city number and city name).\n"
   ]
  },
  {
   "cell_type": "code",
   "execution_count": 3,
   "metadata": {},
   "outputs": [],
   "source": [
    "# Perform a weather check on each city using a series of successive API calls.\n",
    "url = \"http://api.openweathermap.org/data/2.5/weather?\"\n",
    "units = \"Imperial\"\n",
    "\n",
    "weather_url = f\"{url}appid={weather_api_key}&units={units}\"\n",
    "# weather_url\n"
   ]
  },
  {
   "cell_type": "code",
   "execution_count": 7,
   "metadata": {},
   "outputs": [
    {
     "name": "stdout",
     "output_type": "stream",
     "text": [
      "- Processing next -\n",
      "---------------------\n",
      "kalmunai is 0 of 50\n",
      "- Processing next -\n",
      "---------------------\n",
      "altay is 1 of 50\n",
      "- Processing next -\n",
      "---------------------\n",
      "chokurdakh is 2 of 50\n",
      "- Processing next -\n",
      "---------------------\n",
      "qaanaaq is 3 of 50\n",
      "- Processing next -\n",
      "---------------------\n",
      "morris is 4 of 50\n",
      "- Processing next -\n",
      "---------------------\n",
      "yuncheng is 5 of 50\n",
      "- Processing next -\n",
      "---------------------\n",
      "trairi is 6 of 50\n",
      "- Processing next -\n",
      "---------------------\n",
      "castro is 7 of 50\n",
      "- Processing next -\n",
      "---------------------\n",
      "lavrentiya is 8 of 50\n",
      "- Processing next -\n",
      "---------------------\n",
      "kitob is 9 of 50\n",
      "- Processing next -\n",
      "---------------------\n",
      "bredasdorp is 10 of 50\n",
      "- Processing next -\n",
      "---------------------\n",
      "rikitea is 11 of 50\n",
      "- Processing next -\n",
      "---------------------\n",
      "santiago del estero is 12 of 50\n",
      "- Processing next -\n",
      "---------------------\n",
      "hovd is 13 of 50\n",
      "- Processing next -\n",
      "---------------------\n",
      "punta arenas is 14 of 50\n",
      "- Processing next -\n",
      "---------------------\n",
      "albany is 15 of 50\n",
      "- Processing next -\n",
      "---------------------\n",
      "andenes is 16 of 50\n",
      "- Processing next -\n",
      "---------------------\n",
      "hasaki is 17 of 50\n",
      "- Processing next -\n",
      "---------------------\n",
      "ushuaia is 18 of 50\n",
      "- Processing next -\n",
      "---------------------\n",
      "vila franca do campo is 19 of 50\n",
      "- Processing next -\n",
      "---------------------\n",
      "najran is 20 of 50\n",
      "- Processing next -\n",
      "---------------------\n",
      "puerto ayora is 21 of 50\n",
      "- Processing next -\n",
      "---------------------\n",
      "san pablo tacachico is 22 of 50\n",
      "City not found. Skipping...\n",
      "- Processing next -\n",
      "---------------------\n",
      "tonj is 24 of 50\n",
      "- Processing next -\n",
      "---------------------\n",
      "banjar is 25 of 50\n",
      "- Processing next -\n",
      "---------------------\n",
      "mahebourg is 26 of 50\n",
      "- Processing next -\n",
      "---------------------\n",
      "bluff is 27 of 50\n",
      "- Processing next -\n",
      "---------------------\n",
      "yinchuan is 28 of 50\n",
      "City not found. Skipping...\n",
      "- Processing next -\n",
      "---------------------\n",
      "yellowknife is 30 of 50\n",
      "- Processing next -\n",
      "---------------------\n",
      "mataura is 31 of 50\n",
      "- Processing next -\n",
      "---------------------\n",
      "port elizabeth is 32 of 50\n",
      "- Processing next -\n",
      "---------------------\n",
      "busselton is 33 of 50\n",
      "- Processing next -\n",
      "---------------------\n",
      "upernavik is 34 of 50\n",
      "City not found. Skipping...\n",
      "- Processing next -\n",
      "---------------------\n",
      "clyde river is 36 of 50\n",
      "- Processing next -\n",
      "---------------------\n",
      "dickinson is 37 of 50\n",
      "- Processing next -\n",
      "---------------------\n",
      "sao filipe is 38 of 50\n",
      "- Processing next -\n",
      "---------------------\n",
      "atuona is 39 of 50\n",
      "- Processing next -\n",
      "---------------------\n",
      "margate is 40 of 50\n",
      "- Processing next -\n",
      "---------------------\n",
      "vaini is 41 of 50\n",
      "- Processing next -\n",
      "---------------------\n",
      "new norfolk is 42 of 50\n",
      "- Processing next -\n",
      "---------------------\n",
      "ntcheu is 43 of 50\n",
      "City not found. Skipping...\n",
      "- Processing next -\n",
      "---------------------\n",
      "karratha is 45 of 50\n",
      "- Processing next -\n",
      "---------------------\n",
      "vestmanna is 46 of 50\n",
      "- Processing next -\n",
      "---------------------\n",
      "mocuba is 47 of 50\n",
      "- Processing next -\n",
      "---------------------\n",
      "buala is 48 of 50\n",
      "- Processing next -\n",
      "---------------------\n",
      "arraial do cabo is 49 of 50\n",
      "-----------------------\n",
      "Processing Finished!\n"
     ]
    }
   ],
   "source": [
    "city_data_list = []\n",
    "\n",
    "#number\n",
    "number=0\n",
    "# series_number = 1\n",
    "# Include a print log of each city as it'sbeing processed (with the city number and city name).\n",
    "for number, city in enumerate(cities):\n",
    "    city_dict = {}\n",
    "    try:\n",
    "        query_url = f'{weather_url}&q={city}'\n",
    "        \n",
    "        response = requests.get(query_url).json()\n",
    "#         print(response)\n",
    "        city_dict['city'] = city\n",
    "        city_dict['temp_max']= response['main']['temp_max']\n",
    "        city_dict['humidity']= response['main']['humidity']\n",
    "        city_dict['clouds']= response['clouds']['all']\n",
    "        city_dict['windspeed']= response['wind']['speed']\n",
    "        city_dict['lat']=response['coord']['lat']\n",
    "        city_dict['lng']= response['coord']['lon']\n",
    "        city_dict['country']= response['sys']['country']\n",
    "        city_dict['date']= (response['dt'])\n",
    "        #append to list\n",
    "        city_data_list.append(city_dict)\n",
    "#         if number % 50:\n",
    "#             time.sleep(60)\n",
    "#             number = 1\n",
    "#             series_number += 1\n",
    "#             city_data_list(city_dict)\n",
    "#         else:\n",
    "#             number += 1\n",
    "#             city_data_list(city)\n",
    "       \n",
    "        \n",
    "        print(f'{city} is {number} of {len(cities)}')\n",
    "        print(\"---------------------\")\n",
    "    except:\n",
    "        print('City not found. Skipping...')\n",
    "        pass\n",
    "        \n",
    "print(\"-----------------------\")       \n",
    "print(\"Processing Finished!\")"
   ]
  },
  {
   "cell_type": "markdown",
   "metadata": {},
   "source": [
    "### Convert Raw Data to DataFrame\n",
    "* Export the city data into a .csv.\n",
    "* Display the DataFrame"
   ]
  },
  {
   "cell_type": "code",
   "execution_count": 5,
   "metadata": {},
   "outputs": [
    {
     "data": {
      "text/html": [
       "<div>\n",
       "<style scoped>\n",
       "    .dataframe tbody tr th:only-of-type {\n",
       "        vertical-align: middle;\n",
       "    }\n",
       "\n",
       "    .dataframe tbody tr th {\n",
       "        vertical-align: top;\n",
       "    }\n",
       "\n",
       "    .dataframe thead th {\n",
       "        text-align: right;\n",
       "    }\n",
       "</style>\n",
       "<table border=\"1\" class=\"dataframe\">\n",
       "  <thead>\n",
       "    <tr style=\"text-align: right;\">\n",
       "      <th></th>\n",
       "      <th>city</th>\n",
       "      <th>temp_max</th>\n",
       "      <th>humidity</th>\n",
       "      <th>clouds</th>\n",
       "      <th>windspeed</th>\n",
       "      <th>lat</th>\n",
       "      <th>lng</th>\n",
       "      <th>country</th>\n",
       "      <th>date</th>\n",
       "    </tr>\n",
       "  </thead>\n",
       "  <tbody>\n",
       "    <tr>\n",
       "      <th>0</th>\n",
       "      <td>kalmunai</td>\n",
       "      <td>76.19</td>\n",
       "      <td>89</td>\n",
       "      <td>33</td>\n",
       "      <td>9.57</td>\n",
       "      <td>7.4167</td>\n",
       "      <td>81.8167</td>\n",
       "      <td>LK</td>\n",
       "      <td>1612747621</td>\n",
       "    </tr>\n",
       "    <tr>\n",
       "      <th>1</th>\n",
       "      <td>altay</td>\n",
       "      <td>21.06</td>\n",
       "      <td>81</td>\n",
       "      <td>66</td>\n",
       "      <td>3.49</td>\n",
       "      <td>47.8667</td>\n",
       "      <td>88.1167</td>\n",
       "      <td>CN</td>\n",
       "      <td>1612747621</td>\n",
       "    </tr>\n",
       "    <tr>\n",
       "      <th>2</th>\n",
       "      <td>chokurdakh</td>\n",
       "      <td>-15.34</td>\n",
       "      <td>88</td>\n",
       "      <td>100</td>\n",
       "      <td>7.94</td>\n",
       "      <td>70.6333</td>\n",
       "      <td>147.9167</td>\n",
       "      <td>RU</td>\n",
       "      <td>1612747373</td>\n",
       "    </tr>\n",
       "    <tr>\n",
       "      <th>3</th>\n",
       "      <td>qaanaaq</td>\n",
       "      <td>15.80</td>\n",
       "      <td>85</td>\n",
       "      <td>100</td>\n",
       "      <td>6.40</td>\n",
       "      <td>77.4840</td>\n",
       "      <td>-69.3632</td>\n",
       "      <td>GL</td>\n",
       "      <td>1612747365</td>\n",
       "    </tr>\n",
       "    <tr>\n",
       "      <th>4</th>\n",
       "      <td>morris</td>\n",
       "      <td>30.99</td>\n",
       "      <td>78</td>\n",
       "      <td>70</td>\n",
       "      <td>1.99</td>\n",
       "      <td>40.8334</td>\n",
       "      <td>-74.5329</td>\n",
       "      <td>US</td>\n",
       "      <td>1612747621</td>\n",
       "    </tr>\n",
       "  </tbody>\n",
       "</table>\n",
       "</div>"
      ],
      "text/plain": [
       "         city  temp_max  humidity  clouds  windspeed      lat       lng  \\\n",
       "0    kalmunai     76.19        89      33       9.57   7.4167   81.8167   \n",
       "1       altay     21.06        81      66       3.49  47.8667   88.1167   \n",
       "2  chokurdakh    -15.34        88     100       7.94  70.6333  147.9167   \n",
       "3     qaanaaq     15.80        85     100       6.40  77.4840  -69.3632   \n",
       "4      morris     30.99        78      70       1.99  40.8334  -74.5329   \n",
       "\n",
       "  country        date  \n",
       "0      LK  1612747621  \n",
       "1      CN  1612747621  \n",
       "2      RU  1612747373  \n",
       "3      GL  1612747365  \n",
       "4      US  1612747621  "
      ]
     },
     "execution_count": 5,
     "metadata": {},
     "output_type": "execute_result"
    }
   ],
   "source": [
    "# Output File (CSV)\n",
    "output_data_file = \"output_data/cities.csv\"\n",
    "#convert to dataframe\n",
    "weather_data = pd.DataFrame(city_data_list)\n",
    "weather_data.to_csv(output_data_file)\n",
    "weather_data.head()"
   ]
  },
  {
   "cell_type": "markdown",
   "metadata": {},
   "source": [
    "## Inspect the data and remove the cities where the humidity > 100%.\n",
    "----\n",
    "Skip this step if there are no cities that have humidity > 100%. "
   ]
  },
  {
   "cell_type": "code",
   "execution_count": 12,
   "metadata": {},
   "outputs": [
    {
     "data": {
      "text/plain": [
       "100"
      ]
     },
     "execution_count": 12,
     "metadata": {},
     "output_type": "execute_result"
    }
   ],
   "source": [
    "#  Get the indices of cities that have humidity over 100%.\n",
    "max_humidity = weather_data['humidity'].max()\n",
    "max_humidity"
   ]
  },
  {
   "cell_type": "code",
   "execution_count": null,
   "metadata": {},
   "outputs": [],
   "source": [
    "# Make a new DataFrame equal to the city data to drop all humidity outliers by index.\n",
    "# Passing \"inplace=False\" will make a copy of the city_data DataFrame, which we call \"clean_city_data\".\n"
   ]
  },
  {
   "cell_type": "code",
   "execution_count": null,
   "metadata": {},
   "outputs": [],
   "source": [
    "\n"
   ]
  },
  {
   "cell_type": "markdown",
   "metadata": {},
   "source": [
    "## Plotting the Data\n",
    "* Use proper labeling of the plots using plot titles (including date of analysis) and axes labels.\n",
    "* Save the plotted figures as .pngs."
   ]
  },
  {
   "cell_type": "markdown",
   "metadata": {},
   "source": [
    "## Latitude vs. Temperature Plot"
   ]
  },
  {
   "cell_type": "code",
   "execution_count": 8,
   "metadata": {
    "scrolled": true
   },
   "outputs": [
    {
     "data": {
      "image/png": "[encoded data removed]",
      "text/plain": [
       "<Figure size 432x288 with 1 Axes>"
      ]
     },
     "metadata": {
      "needs_background": "light"
     },
     "output_type": "display_data"
    }
   ],
   "source": [
    "# Build a scatter plot for each data type\n",
    "plt.scatter(weather_data[\"lat\"], weather_data[\"temp_max\"], marker=\"o\")\n",
    "\n",
    "# Incorporate the other graph properties\n",
    "plt.title(\"Temperature in World Cities\")\n",
    "plt.ylabel(\"Temperature (Fahrenheit)\")\n",
    "plt.xlabel(\"Latitude\")\n",
    "plt.grid(True)\n",
    "\n",
    "# Save the figure\n",
    "plt.savefig(\"TemperatureInWorldCities.png\")\n",
    "\n",
    "# Show plot\n",
    "plt.show()"
   ]
  },
  {
   "cell_type": "markdown",
   "metadata": {},
   "source": [
    "## Latitude vs. Humidity Plot"
   ]
  },
  {
   "cell_type": "code",
   "execution_count": 9,
   "metadata": {},
   "outputs": [
    {
     "data": {
      "image/png": "[encoded data removed]",
      "text/plain": [
       "<Figure size 432x288 with 1 Axes>"
      ]
     },
     "metadata": {
      "needs_background": "light"
     },
     "output_type": "display_data"
    }
   ],
   "source": [
    "# Build a scatter plot for each data type\n",
    "plt.scatter(weather_data[\"lat\"], weather_data[\"humidity\"], marker=\"o\")\n",
    "\n",
    "# Incorporate the other graph properties\n",
    "plt.title(\"Humidity in World Cities\")\n",
    "plt.ylabel(\"Humitidy (%)\")\n",
    "plt.xlabel(\"Latitude\")\n",
    "plt.grid(True)\n",
    "\n",
    "# Save the figure\n",
    "plt.savefig(\"HumidityInWorldCities.png\")\n",
    "\n",
    "# Show plot\n",
    "plt.show()"
   ]
  },
  {
   "cell_type": "markdown",
   "metadata": {},
   "source": [
    "## Latitude vs. Cloudiness Plot"
   ]
  },
  {
   "cell_type": "code",
   "execution_count": 10,
   "metadata": {},
   "outputs": [
    {
     "data": {
      "image/png": "[encoded data removed]",
      "text/plain": [
       "<Figure size 432x288 with 1 Axes>"
      ]
     },
     "metadata": {
      "needs_background": "light"
     },
     "output_type": "display_data"
    }
   ],
   "source": [
    "# Build a scatter plot for each data type\n",
    "plt.scatter(weather_data[\"lat\"], weather_data[\"clouds\"], marker=\"o\")\n",
    "\n",
    "# Incorporate the other graph properties\n",
    "plt.title(\"cloudiness in World Cities\")\n",
    "plt.ylabel(\"cloudiness (%)\")\n",
    "plt.xlabel(\"Latitude\")\n",
    "plt.grid(True)\n",
    "\n",
    "# Save the figure\n",
    "plt.savefig(\"CloudinessInWorldCities.png\")\n",
    "\n",
    "# Show plot\n",
    "plt.show()"
   ]
  },
  {
   "cell_type": "markdown",
   "metadata": {},
   "source": [
    "## Latitude vs. Wind Speed Plot"
   ]
  },
  {
   "cell_type": "code",
   "execution_count": 11,
   "metadata": {},
   "outputs": [
    {
     "data": {
      "image/png": "[encoded data removed]",
      "text/plain": [
       "<Figure size 432x288 with 1 Axes>"
      ]
     },
     "metadata": {
      "needs_background": "light"
     },
     "output_type": "display_data"
    }
   ],
   "source": [
    "# Build a scatter plot for each data type\n",
    "plt.scatter(weather_data[\"lat\"], weather_data[\"windspeed\"], marker=\"o\")\n",
    "\n",
    "# Incorporate the other graph properties\n",
    "plt.title(\"Windspeed in World Cities\")\n",
    "plt.ylabel(\"windspeed (mph)\")\n",
    "plt.xlabel(\"Latitude\")\n",
    "plt.grid(True)\n",
    "\n",
    "# Save the figure\n",
    "plt.savefig(\"WindspeedInWorldCities.png\")\n",
    "\n",
    "# Show plot\n",
    "plt.show()"
   ]
  },
  {
   "cell_type": "markdown",
   "metadata": {},
   "source": [
    "## Linear Regression"
   ]
  },
  {
   "cell_type": "code",
   "execution_count": 15,
   "metadata": {},
   "outputs": [
    {
     "data": {
      "text/plain": [
       "LinregressResult(slope=-0.5709208859102086, intercept=57.20162317467356, rvalue=-0.7771398956066482, pvalue=2.1470389891116468e-10, stderr=0.06969913065003161)"
      ]
     },
     "execution_count": 15,
     "metadata": {},
     "output_type": "execute_result"
    }
   ],
   "source": [
    "regress_model = linregress(weather_data[\"lat\"],weather_data[\"temp_max\"] )\n",
    "regress_model\n"
   ]
  },
  {
   "cell_type": "code",
   "execution_count": 18,
   "metadata": {},
   "outputs": [],
   "source": [
    "x_values=weather_data[\"lat\"] \n",
    "#y= mx +b\n",
    "m= regress_model[0]\n",
    "b= regress_model[1]\n",
    "y_values= (m * x_values) + b\n",
    "# line_eq = \"y = \"\n",
    "\n",
    "\n",
    "# plt.scatter(cap_avg[\"Weight (g)\"], cap_avg[\"Tumor Volume (mm3)\"])\n",
    "\n",
    "# print(plt.scatter)\n",
    "# plt.plot(x_values, y_values, \"r-\")\n",
    "# plt.plot"
   ]
  },
  {
   "cell_type": "markdown",
   "metadata": {},
   "source": [
    "####  Northern Hemisphere - Max Temp vs. Latitude Linear Regression"
   ]
  },
  {
   "cell_type": "code",
   "execution_count": 21,
   "metadata": {},
   "outputs": [
    {
     "name": "stdout",
     "output_type": "stream",
     "text": [
      "<function scatter at 0x0000020A966DE400>\n"
     ]
    },
    {
     "data": {
      "text/plain": [
       "<function matplotlib.pyplot.plot(*args, scalex=True, scaley=True, data=None, **kwargs)>"
      ]
     },
     "execution_count": 21,
     "metadata": {},
     "output_type": "execute_result"
    },
    {
     "data": {
      "image/png": "[encoded data removed]",
      "text/plain": [
       "<Figure size 432x288 with 1 Axes>"
      ]
     },
     "metadata": {
      "needs_background": "light"
     },
     "output_type": "display_data"
    }
   ],
   "source": [
    "#separate northern and southern hemispheres\n",
    "northern_hem = weather_data.loc[weather_data[\"lat\"] >= 0]\n",
    "southern_hem = weather_data.loc[weather_data[\"lat\"] < 0]\n",
    "\n",
    "#print scatter plot with regression\n",
    "plt.scatter(northern_hem['lat'],northern_hem['temp_max'])\n",
    "plt.title(\"Northern Hemisphere Temperature Regression\")\n",
    "plt.ylabel(\"Temperature (Fahrenheit)\")\n",
    "plt.xlabel(\"Latitude\")\n",
    "plt.grid(True)\n",
    "\n",
    "print(plt.scatter)\n",
    "plt.plot(x_values, y_values, \"r-\")\n",
    "plt.plot\n"
   ]
  },
  {
   "cell_type": "markdown",
   "metadata": {},
   "source": [
    "####  Southern Hemisphere - Max Temp vs. Latitude Linear Regression"
   ]
  },
  {
   "cell_type": "code",
   "execution_count": 22,
   "metadata": {},
   "outputs": [
    {
     "name": "stdout",
     "output_type": "stream",
     "text": [
      "<function scatter at 0x0000020A966DE400>\n"
     ]
    },
    {
     "data": {
      "text/plain": [
       "<function matplotlib.pyplot.plot(*args, scalex=True, scaley=True, data=None, **kwargs)>"
      ]
     },
     "execution_count": 22,
     "metadata": {},
     "output_type": "execute_result"
    },
    {
     "data": {
      "image/png": "[encoded data removed]",
      "text/plain": [
       "<Figure size 432x288 with 1 Axes>"
      ]
     },
     "metadata": {
      "needs_background": "light"
     },
     "output_type": "display_data"
    }
   ],
   "source": [
    "#southern hem scatter and regress\n",
    "plt.scatter(southern_hem['lat'],southern_hem['temp_max'])\n",
    "plt.title(\"Southern Hemisphere Temperature Regression\")\n",
    "plt.ylabel(\"Temperature (Fahrenheit)\")\n",
    "plt.xlabel(\"Latitude\")\n",
    "plt.grid(True)\n",
    "\n",
    "print(plt.scatter)\n",
    "plt.plot(x_values, y_values, \"r-\")\n",
    "plt.plot"
   ]
  },
  {
   "cell_type": "markdown",
   "metadata": {},
   "source": [
    "####  Northern Hemisphere - Humidity (%) vs. Latitude Linear Regression"
   ]
  },
  {
   "cell_type": "code",
   "execution_count": 32,
   "metadata": {},
   "outputs": [
    {
     "name": "stdout",
     "output_type": "stream",
     "text": [
      "<function scatter at 0x0000020A966DE400>\n"
     ]
    },
    {
     "data": {
      "text/plain": [
       "<function matplotlib.pyplot.plot(*args, scalex=True, scaley=True, data=None, **kwargs)>"
      ]
     },
     "execution_count": 32,
     "metadata": {},
     "output_type": "execute_result"
    },
    {
     "data": {
      "image/png": "[encoded data removed]",
      "text/plain": [
       "<Figure size 432x288 with 1 Axes>"
      ]
     },
     "metadata": {
      "needs_background": "light"
     },
     "output_type": "display_data"
    }
   ],
   "source": [
    "#regress for humidity\n",
    "regress_model = linregress(weather_data[\"lat\"],weather_data[\"humidity\"] )\n",
    "x_values=weather_data[\"lat\"] \n",
    "#y= mx +b\n",
    "m= regress_model[0]\n",
    "b= regress_model[1]\n",
    "y_values= (m * x_values) + b\n",
    "\n",
    "#scatter\n",
    "plt.scatter(northern_hem['lat'],northern_hem['humidity'])\n",
    "plt.title(\"Northern Hemisphere Humidity Regression\")\n",
    "plt.ylabel(\"Humidity (%)\")\n",
    "plt.xlabel(\"Latitude\")\n",
    "plt.grid(True)\n",
    "\n",
    "# # Print r value\n",
    "# print(f\"The r-value is: {rvalue**2}\")\n",
    "\n",
    "print(plt.scatter)\n",
    "plt.plot(x_values, y_values, \"r-\")\n",
    "plt.plot"
   ]
  },
  {
   "cell_type": "markdown",
   "metadata": {},
   "source": [
    "####  Southern Hemisphere - Humidity (%) vs. Latitude Linear Regression"
   ]
  },
  {
   "cell_type": "code",
   "execution_count": 33,
   "metadata": {},
   "outputs": [
    {
     "name": "stdout",
     "output_type": "stream",
     "text": [
      "<function scatter at 0x0000020A966DE400>\n"
     ]
    },
    {
     "data": {
      "text/plain": [
       "<function matplotlib.pyplot.plot(*args, scalex=True, scaley=True, data=None, **kwargs)>"
      ]
     },
     "execution_count": 33,
     "metadata": {},
     "output_type": "execute_result"
    },
    {
     "data": {
      "image/png": "[encoded data removed]",
      "text/plain": [
       "<Figure size 432x288 with 1 Axes>"
      ]
     },
     "metadata": {
      "needs_background": "light"
     },
     "output_type": "display_data"
    }
   ],
   "source": [
    "plt.scatter(southern_hem['lat'],southern_hem['humidity'])\n",
    "plt.title(\"Southern Hemisphere Humidity Regression\")\n",
    "plt.ylabel(\"Humidity (%)\")\n",
    "plt.xlabel(\"Latitude\")\n",
    "plt.grid(True)\n",
    "\n",
    "print(plt.scatter)\n",
    "plt.plot(x_values, y_values, \"r-\")\n",
    "plt.plot"
   ]
  },
  {
   "cell_type": "markdown",
   "metadata": {},
   "source": [
    "####  Northern Hemisphere - Cloudiness (%) vs. Latitude Linear Regression"
   ]
  },
  {
   "cell_type": "code",
   "execution_count": 35,
   "metadata": {},
   "outputs": [
    {
     "name": "stdout",
     "output_type": "stream",
     "text": [
      "<function scatter at 0x0000020A966DE400>\n"
     ]
    },
    {
     "data": {
      "text/plain": [
       "<function matplotlib.pyplot.plot(*args, scalex=True, scaley=True, data=None, **kwargs)>"
      ]
     },
     "execution_count": 35,
     "metadata": {},
     "output_type": "execute_result"
    },
    {
     "data": {
      "image/png": "[encoded data removed]",
      "text/plain": [
       "<Figure size 432x288 with 1 Axes>"
      ]
     },
     "metadata": {
      "needs_background": "light"
     },
     "output_type": "display_data"
    }
   ],
   "source": [
    "#regress for humidity\n",
    "regress_model = linregress(weather_data[\"lat\"],weather_data[\"clouds\"] )\n",
    "x_values=weather_data[\"lat\"] \n",
    "#y= mx +b\n",
    "m= regress_model[0]\n",
    "b= regress_model[1]\n",
    "y_values= (m * x_values) + b\n",
    "\n",
    "\n",
    "plt.scatter(northern_hem['lat'],northern_hem['clouds'])\n",
    "plt.title(\"Northern Hemisphere Cloudiness Regression\")\n",
    "plt.ylabel(\"Cloudiness (%)\")\n",
    "plt.xlabel(\"Latitude\")\n",
    "plt.grid(True)\n",
    "\n",
    "print(plt.scatter)\n",
    "plt.plot(x_values, y_values, \"r-\")\n",
    "plt.plot"
   ]
  },
  {
   "cell_type": "markdown",
   "metadata": {},
   "source": [
    "####  Southern Hemisphere - Cloudiness (%) vs. Latitude Linear Regression"
   ]
  },
  {
   "cell_type": "code",
   "execution_count": 37,
   "metadata": {},
   "outputs": [
    {
     "name": "stdout",
     "output_type": "stream",
     "text": [
      "<function scatter at 0x0000020A966DE400>\n"
     ]
    },
    {
     "data": {
      "text/plain": [
       "<function matplotlib.pyplot.plot(*args, scalex=True, scaley=True, data=None, **kwargs)>"
      ]
     },
     "execution_count": 37,
     "metadata": {},
     "output_type": "execute_result"
    },
    {
     "data": {
      "image/png": "[encoded data removed]",
      "text/plain": [
       "<Figure size 432x288 with 1 Axes>"
      ]
     },
     "metadata": {
      "needs_background": "light"
     },
     "output_type": "display_data"
    }
   ],
   "source": [
    "plt.scatter(southern_hem['lat'],southern_hem['clouds'])\n",
    "plt.title(\"Southern Hemisphere Cloudiness Regression\")\n",
    "plt.ylabel(\"Cloudiness (%)\")\n",
    "plt.xlabel(\"Latitude\")\n",
    "plt.grid(True)\n",
    "\n",
    "print(plt.scatter)\n",
    "plt.plot(x_values, y_values, \"r-\")\n",
    "plt.plot"
   ]
  },
  {
   "cell_type": "markdown",
   "metadata": {},
   "source": [
    "####  Northern Hemisphere - Wind Speed (mph) vs. Latitude Linear Regression"
   ]
  },
  {
   "cell_type": "code",
   "execution_count": 39,
   "metadata": {},
   "outputs": [
    {
     "name": "stdout",
     "output_type": "stream",
     "text": [
      "<function scatter at 0x0000020A966DE400>\n"
     ]
    },
    {
     "data": {
      "text/plain": [
       "<function matplotlib.pyplot.plot(*args, scalex=True, scaley=True, data=None, **kwargs)>"
      ]
     },
     "execution_count": 39,
     "metadata": {},
     "output_type": "execute_result"
    },
    {
     "data": {
      "image/png": "[encoded data removed]",
      "text/plain": [
       "<Figure size 432x288 with 1 Axes>"
      ]
     },
     "metadata": {
      "needs_background": "light"
     },
     "output_type": "display_data"
    }
   ],
   "source": [
    "#regress for humidity\n",
    "regress_model = linregress(weather_data[\"lat\"],weather_data[\"windspeed\"] )\n",
    "x_values=weather_data[\"lat\"] \n",
    "#y= mx +b\n",
    "m= regress_model[0]\n",
    "b= regress_model[1]\n",
    "y_values= (m * x_values) + b\n",
    "\n",
    "plt.scatter(northern_hem['lat'],northern_hem['windspeed'])\n",
    "plt.title(\"Northern Hemisphere Windspeed Regression\")\n",
    "plt.ylabel(\"Windspeed (Mph)\")\n",
    "plt.xlabel(\"Latitude\")\n",
    "plt.grid(True)\n",
    "\n",
    "print(plt.scatter)\n",
    "plt.plot(x_values, y_values, \"r-\")\n",
    "plt.plot"
   ]
  },
  {
   "cell_type": "markdown",
   "metadata": {},
   "source": [
    "####  Southern Hemisphere - Wind Speed (mph) vs. Latitude Linear Regression"
   ]
  },
  {
   "cell_type": "code",
   "execution_count": 40,
   "metadata": {},
   "outputs": [
    {
     "name": "stdout",
     "output_type": "stream",
     "text": [
      "<function scatter at 0x0000020A966DE400>\n"
     ]
    },
    {
     "data": {
      "text/plain": [
       "<function matplotlib.pyplot.plot(*args, scalex=True, scaley=True, data=None, **kwargs)>"
      ]
     },
     "execution_count": 40,
     "metadata": {},
     "output_type": "execute_result"
    },
    {
     "data": {
      "image/png": "[encoded data removed]",
      "text/plain": [
       "<Figure size 432x288 with 1 Axes>"
      ]
     },
     "metadata": {
      "needs_background": "light"
     },
     "output_type": "display_data"
    }
   ],
   "source": [
    "plt.scatter(southern_hem['lat'],southern_hem['windspeed'])\n",
    "plt.title(\"Northern Hemisphere Windspeed Regression\")\n",
    "plt.ylabel(\"Windspeed (Mph)\")\n",
    "plt.xlabel(\"Latitude\")\n",
    "plt.grid(True)\n",
    "\n",
    "print(plt.scatter)\n",
    "plt.plot(x_values, y_values, \"r-\")\n",
    "plt.plot"
   ]
  },
  {
   "cell_type": "code",
   "execution_count": null,
   "metadata": {},
   "outputs": [],
   "source": []
  }
 ],
 "metadata": {
  "anaconda-cloud": {},
  "kernel_info": {
   "name": "python3"
  },
  "kernelspec": {
   "display_name": "Python 3",
   "language": "python",
   "name": "python3"
  },
  "language_info": {
   "codemirror_mode": {
    "name": "ipython",
    "version": 3
   },
   "file_extension": ".py",
   "mimetype": "text/x-python",
   "name": "python",
   "nbconvert_exporter": "python",
   "pygments_lexer": "ipython3",
   "version": "3.6.12"
  },
  "latex_envs": {
   "LaTeX_envs_menu_present": true,
   "autoclose": false,
   "autocomplete": true,
   "bibliofile": "biblio.bib",
   "cite_by": "apalike",
   "current_citInitial": 1,
   "eqLabelWithNumbers": true,
   "eqNumInitial": 1,
   "hotkeys": {
    "equation": "Ctrl-E",
    "itemize": "Ctrl-I"
   },
   "labels_anchors": false,
   "latex_user_defs": false,
   "report_style_numbering": false,
   "user_envs_cfg": false
  },
  "nteract": {
   "version": "0.12.3"
  }
 },
 "nbformat": 4,
 "nbformat_minor": 2
}
