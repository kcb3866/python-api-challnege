{
 "cells": [
  {
   "cell_type": "markdown",
   "metadata": {},
   "source": [
    "# WeatherPy\n",
    "----\n",
    "\n",
    "#### Note\n",
    "* Instructions have been included for each segment. You do not have to follow them exactly, but they are included to help you think through the steps."
   ]
  },
  {
   "cell_type": "code",
   "execution_count": 1,
   "metadata": {
    "scrolled": true
   },
   "outputs": [],
   "source": [
    "# Dependencies and Setup\n",
    "import matplotlib.pyplot as plt\n",
    "import pandas as pd\n",
    "import numpy as np\n",
    "import requests\n",
    "import time\n",
    "from scipy.stats import linregress\n",
    "\n",
    "# Import API key\n",
    "from api_keys import weather_api_key\n",
    "#api_key = weather_api_key\n",
    "# Incorporated citipy to determine city based on latitude and longitude\n",
    "from citipy import citipy\n",
    "\n",
    "# Output File (CSV)\n",
    "output_data_file = \"output_data/cities.csv\"\n",
    "\n",
    "# Range of latitudes and longitudes\n",
    "lat_range = (-90, 90)\n",
    "lng_range = (-180, 180)"
   ]
  },
  {
   "cell_type": "markdown",
   "metadata": {},
   "source": [
    "## Generate Cities List"
   ]
  },
  {
   "cell_type": "code",
   "execution_count": 2,
   "metadata": {},
   "outputs": [
    {
     "name": "stdout",
     "output_type": "stream",
     "text": [
      "<zip object at 0x0000016546D787C8>\n"
     ]
    },
    {
     "data": {
      "text/plain": [
       "['mawlaik',\n",
       " 'puqi',\n",
       " 'bredasdorp',\n",
       " 'hurghada',\n",
       " 'bengkulu',\n",
       " 'rikitea',\n",
       " 'ribeira grande',\n",
       " 'clyde river',\n",
       " 'sturgeon falls',\n",
       " 'albany',\n",
       " 'saint anthony',\n",
       " 'vaini',\n",
       " 'barrow',\n",
       " 'east london',\n",
       " 'chicama',\n",
       " 'cape town',\n",
       " 'genthin',\n",
       " 'mataura',\n",
       " 'chokurdakh',\n",
       " 'barentsburg',\n",
       " 'jaumave',\n",
       " 'carnarvon',\n",
       " 'utiroa',\n",
       " 'constantine',\n",
       " 'wanderlandia',\n",
       " 'hirara',\n",
       " 'caravelas',\n",
       " 'pecanha',\n",
       " 'saint george',\n",
       " 'yenagoa',\n",
       " 'palabuhanratu',\n",
       " 'mehamn',\n",
       " 'hermanus',\n",
       " 'tuktoyaktuk',\n",
       " 'castro',\n",
       " 'saskylakh',\n",
       " 'port alfred',\n",
       " 'mitzic',\n",
       " 'sisimiut',\n",
       " 'kahului',\n",
       " 'georgetown',\n",
       " 'hilo',\n",
       " 'muslyumovo',\n",
       " 'coahuayana',\n",
       " 'hithadhoo',\n",
       " 'santa maria',\n",
       " 'ushuaia',\n",
       " 'provideniya',\n",
       " 'taolanaro',\n",
       " 'longyearbyen']"
      ]
     },
     "execution_count": 2,
     "metadata": {},
     "output_type": "execute_result"
    }
   ],
   "source": [
    "# List for holding lat_lngs and cities\n",
    "lat_lngs = []\n",
    "cities = []\n",
    "\n",
    "# Create a set of random lat and lng combinations\n",
    "lats = np.random.uniform(lat_range[0], lat_range[1], size=1500)\n",
    "lngs = np.random.uniform(lng_range[0], lng_range[1], size=1500)\n",
    "lat_lngs = zip(lats, lngs)\n",
    "print(lat_lngs)\n",
    "# Identify nearest city for each lat, lng combination\n",
    "for lat_lng in lat_lngs:\n",
    "    city = citipy.nearest_city(lat_lng[0], lat_lng[1]).city_name\n",
    "    \n",
    "    # If the city is unique, then add it to a our cities list\n",
    "    if city not in cities:\n",
    "        cities.append(city)\n",
    "\n",
    "# Print the city count to confirm sufficient count\n",
    "len(cities)\n",
    "#debugging no more than 60 per min\n",
    "cities=cities[0:50]\n",
    "cities"
   ]
  },
  {
   "cell_type": "markdown",
   "metadata": {},
   "source": [
    "### Perform API Calls\n",
    "* Perform a weather check on each city using a series of successive API calls.\n",
    "* Include a print log of each city as it'sbeing processed (with the city number and city name).\n"
   ]
  },
  {
   "cell_type": "code",
   "execution_count": 3,
   "metadata": {},
   "outputs": [],
   "source": [
    "# Perform a weather check on each city using a series of successive API calls.\n",
    "url = \"http://api.openweathermap.org/data/2.5/weather?\"\n",
    "units = \"Imperial\"\n",
    "\n",
    "weather_url = f\"{url}appid={weather_api_key}&units={units}\"\n",
    "# weather_url\n"
   ]
  },
  {
   "cell_type": "code",
   "execution_count": 4,
   "metadata": {},
   "outputs": [
    {
     "name": "stdout",
     "output_type": "stream",
     "text": [
      "{'coord': {'lon': 94.4167, 'lat': 23.6333}, 'weather': [{'id': 801, 'main': 'Clouds', 'description': 'few clouds', 'icon': '02n'}], 'base': 'stations', 'main': {'temp': 58.19, 'feels_like': 55.13, 'temp_min': 58.19, 'temp_max': 58.19, 'pressure': 1015, 'humidity': 51, 'sea_level': 1015, 'grnd_level': 1002}, 'visibility': 10000, 'wind': {'speed': 1.54, 'deg': 305}, 'clouds': {'all': 13}, 'dt': 1612724733, 'sys': {'country': 'MM', 'sunrise': 1612743583, 'sunset': 1612784003}, 'timezone': 23400, 'id': 1310120, 'name': 'Mawlaik', 'cod': 200}\n",
      "- Processing next 50 -\n",
      "---------------------\n",
      "mawlaik is 0 of 50\n",
      "{'coord': {'lon': 113.8833, 'lat': 29.7167}, 'weather': [{'id': 500, 'main': 'Rain', 'description': 'light rain', 'icon': '10n'}], 'base': 'stations', 'main': {'temp': 49.41, 'feels_like': 46.08, 'temp_min': 49.41, 'temp_max': 49.41, 'pressure': 1025, 'humidity': 89, 'sea_level': 1025, 'grnd_level': 1020}, 'visibility': 10000, 'wind': {'speed': 4.38, 'deg': 27}, 'rain': {'1h': 0.562}, 'clouds': {'all': 100}, 'dt': 1612724733, 'sys': {'country': 'CN', 'sunrise': 1612739396, 'sunset': 1612778846}, 'timezone': 28800, 'id': 1798473, 'name': 'Puqi', 'cod': 200}\n",
      "- Processing next 50 -\n",
      "---------------------\n",
      "puqi is 0 of 50\n",
      "{'coord': {'lon': 20.0403, 'lat': -34.5322}, 'weather': [{'id': 800, 'main': 'Clear', 'description': 'clear sky', 'icon': '01n'}], 'base': 'stations', 'main': {'temp': 68, 'feels_like': 63.28, 'temp_min': 68, 'temp_max': 68, 'pressure': 1015, 'humidity': 60}, 'visibility': 10000, 'wind': {'speed': 10.36, 'deg': 270}, 'clouds': {'all': 3}, 'dt': 1612724733, 'sys': {'type': 1, 'id': 1966, 'country': 'ZA', 'sunrise': 1612670788, 'sunset': 1612719693}, 'timezone': 7200, 'id': 1015776, 'name': 'Bredasdorp', 'cod': 200}\n",
      "- Processing next 50 -\n",
      "---------------------\n",
      "bredasdorp is 0 of 50\n",
      "{'coord': {'lon': 33.8129, 'lat': 27.2574}, 'weather': [{'id': 800, 'main': 'Clear', 'description': 'clear sky', 'icon': '01n'}], 'base': 'stations', 'main': {'temp': 68, 'feels_like': 66.94, 'temp_min': 68, 'temp_max': 68, 'pressure': 1020, 'humidity': 56}, 'visibility': 10000, 'wind': {'speed': 2.86, 'deg': 269}, 'clouds': {'all': 0}, 'dt': 1612724733, 'sys': {'type': 1, 'id': 2513, 'country': 'EG', 'sunrise': 1612672041, 'sunset': 1612711829}, 'timezone': 7200, 'id': 361291, 'name': 'Hurghada', 'cod': 200}\n",
      "- Processing next 50 -\n",
      "---------------------\n",
      "hurghada is 0 of 50\n",
      "{'coord': {'lon': 102.2655, 'lat': -3.8004}, 'weather': [{'id': 500, 'main': 'Rain', 'description': 'light rain', 'icon': '10n'}], 'base': 'stations', 'main': {'temp': 76.05, 'feels_like': 80.38, 'temp_min': 76.05, 'temp_max': 76.05, 'pressure': 1009, 'humidity': 85, 'sea_level': 1009, 'grnd_level': 1006}, 'visibility': 10000, 'wind': {'speed': 6.93, 'deg': 9}, 'rain': {'1h': 0.7160000000000001}, 'clouds': {'all': 100}, 'dt': 1612724733, 'sys': {'country': 'ID', 'sunrise': 1612739857, 'sunset': 1612783961}, 'timezone': 25200, 'id': 1649150, 'name': 'Bengkulu', 'cod': 200}\n",
      "- Processing next 50 -\n",
      "---------------------\n",
      "bengkulu is 0 of 50\n",
      "{'coord': {'lon': -134.9692, 'lat': -23.1203}, 'weather': [{'id': 804, 'main': 'Clouds', 'description': 'overcast clouds', 'icon': '04d'}], 'base': 'stations', 'main': {'temp': 77.32, 'feels_like': 76.84, 'temp_min': 77.32, 'temp_max': 77.32, 'pressure': 1018, 'humidity': 72, 'sea_level': 1018, 'grnd_level': 1015}, 'visibility': 10000, 'wind': {'speed': 12.3, 'deg': 117}, 'clouds': {'all': 91}, 'dt': 1612724733, 'sys': {'country': 'PF', 'sunrise': 1612709028, 'sunset': 1612755861}, 'timezone': -32400, 'id': 4030556, 'name': 'Rikitea', 'cod': 200}\n",
      "- Processing next 50 -\n",
      "---------------------\n",
      "rikitea is 0 of 50\n",
      "{'coord': {'lon': -28.7, 'lat': 38.5167}, 'weather': [{'id': 802, 'main': 'Clouds', 'description': 'scattered clouds', 'icon': '03d'}], 'base': 'stations', 'main': {'temp': 60.8, 'feels_like': 52.29, 'temp_min': 60.8, 'temp_max': 60.8, 'pressure': 1020, 'humidity': 72}, 'visibility': 10000, 'wind': {'speed': 16.11, 'deg': 300}, 'clouds': {'all': 40}, 'dt': 1612724734, 'sys': {'type': 1, 'id': 6883, 'country': 'PT', 'sunrise': 1612688069, 'sunset': 1612725808}, 'timezone': -3600, 'id': 3372707, 'name': 'Ribeira Grande', 'cod': 200}\n",
      "- Processing next 50 -\n",
      "---------------------\n",
      "ribeira grande is 0 of 50\n",
      "{'coord': {'lon': -68.5914, 'lat': 70.4692}, 'weather': [{'id': 600, 'main': 'Snow', 'description': 'light snow', 'icon': '13d'}], 'base': 'stations', 'main': {'temp': -4, 'feels_like': -15.05, 'temp_min': -4, 'temp_max': -4, 'pressure': 1034, 'humidity': 92}, 'visibility': 3621, 'wind': {'speed': 8.05, 'deg': 290}, 'clouds': {'all': 75}, 'dt': 1612724734, 'sys': {'type': 1, 'id': 776, 'country': 'CA', 'sunrise': 1612705966, 'sunset': 1612727060}, 'timezone': -18000, 'id': 5924351, 'name': 'Clyde River', 'cod': 200}\n",
      "- Processing next 50 -\n",
      "---------------------\n",
      "clyde river is 0 of 50\n",
      "{'coord': {'lon': -79.9326, 'lat': 46.3646}, 'weather': [{'id': 801, 'main': 'Clouds', 'description': 'few clouds', 'icon': '02d'}], 'base': 'stations', 'main': {'temp': 11.95, 'feels_like': -0.87, 'temp_min': 8.6, 'temp_max': 14, 'pressure': 1010, 'humidity': 56}, 'visibility': 10000, 'wind': {'speed': 11.5, 'deg': 240, 'gust': 18.41}, 'clouds': {'all': 20}, 'dt': 1612724734, 'sys': {'type': 1, 'id': 988, 'country': 'CA', 'sunrise': 1612701289, 'sunset': 1612737181}, 'timezone': -18000, 'id': 5952554, 'name': 'Sturgeon Falls', 'cod': 200}\n",
      "- Processing next 50 -\n",
      "---------------------\n",
      "sturgeon falls is 0 of 50\n",
      "{'coord': {'lon': -73.9662, 'lat': 42.6001}, 'weather': [{'id': 600, 'main': 'Snow', 'description': 'light snow', 'icon': '13d'}], 'base': 'stations', 'main': {'temp': 28.67, 'feels_like': 22.91, 'temp_min': 28, 'temp_max': 28.99, 'pressure': 1008, 'humidity': 73}, 'visibility': 149, 'wind': {'speed': 1.54, 'deg': 81}, 'snow': {'1h': 0.49}, 'clouds': {'all': 100}, 'dt': 1612724734, 'sys': {'type': 3, 'id': 19530, 'country': 'US', 'sunrise': 1612699381, 'sunset': 1612736226}, 'timezone': -18000, 'id': 5106841, 'name': 'Albany', 'cod': 200}\n",
      "- Processing next 50 -\n",
      "---------------------\n",
      "albany is 0 of 50\n",
      "{'coord': {'lon': -93.218, 'lat': 45.0205}, 'weather': [{'id': 800, 'main': 'Clear', 'description': 'clear sky', 'icon': '01d'}], 'base': 'stations', 'main': {'temp': -5.33, 'feels_like': -15.66, 'temp_min': -7.6, 'temp_max': -4, 'pressure': 1025, 'humidity': 54}, 'visibility': 10000, 'wind': {'speed': 6.24, 'deg': 291}, 'clouds': {'all': 1}, 'dt': 1612724734, 'sys': {'type': 1, 'id': 4900, 'country': 'US', 'sunrise': 1612704297, 'sunset': 1612740551}, 'timezone': -21600, 'id': 5044290, 'name': 'Saint Anthony', 'cod': 200}\n",
      "- Processing next 50 -\n",
      "---------------------\n",
      "saint anthony is 0 of 50\n",
      "{'coord': {'lon': -175.2, 'lat': -21.2}, 'weather': [{'id': 500, 'main': 'Rain', 'description': 'light rain', 'icon': '10n'}], 'base': 'stations', 'main': {'temp': 78.8, 'feels_like': 82.18, 'temp_min': 78.8, 'temp_max': 78.8, 'pressure': 1008, 'humidity': 89}, 'visibility': 10000, 'wind': {'speed': 12.66, 'deg': 20}, 'rain': {'1h': 0.89}, 'clouds': {'all': 75}, 'dt': 1612724734, 'sys': {'type': 1, 'id': 7285, 'country': 'TO', 'sunrise': 1612805272, 'sunset': 1612851734}, 'timezone': 46800, 'id': 4032243, 'name': 'Vaini', 'cod': 200}\n",
      "- Processing next 50 -\n",
      "---------------------\n",
      "vaini is 0 of 50\n",
      "{'coord': {'lon': -156.7887, 'lat': 71.2906}, 'weather': [{'id': 721, 'main': 'Haze', 'description': 'haze', 'icon': '50n'}], 'base': 'stations', 'main': {'temp': -23.8, 'feels_like': -37.26, 'temp_min': -23.8, 'temp_max': -23.8, 'pressure': 1051, 'humidity': 76}, 'visibility': 6437, 'wind': {'speed': 11.5, 'deg': 60}, 'clouds': {'all': 20}, 'dt': 1612724695, 'sys': {'type': 1, 'id': 7649, 'country': 'US', 'sunrise': 1612727745, 'sunset': 1612747617}, 'timezone': -32400, 'id': 5880054, 'name': 'Barrow', 'cod': 200}\n",
      "- Processing next 50 -\n",
      "---------------------\n",
      "barrow is 0 of 50\n",
      "{'coord': {'lon': 27.9116, 'lat': -33.0153}, 'weather': [{'id': 500, 'main': 'Rain', 'description': 'light rain', 'icon': '10n'}], 'base': 'stations', 'main': {'temp': 71.6, 'feels_like': 76.24, 'temp_min': 71.6, 'temp_max': 71.6, 'pressure': 1012, 'humidity': 88}, 'visibility': 10000, 'wind': {'speed': 3.44, 'deg': 260}, 'rain': {'1h': 0.19}, 'clouds': {'all': 40}, 'dt': 1612724678, 'sys': {'type': 1, 'id': 1912, 'country': 'ZA', 'sunrise': 1612669049, 'sunset': 1612717654}, 'timezone': 7200, 'id': 1006984, 'name': 'East London', 'cod': 200}\n",
      "- Processing next 50 -\n",
      "---------------------\n",
      "east london is 0 of 50\n",
      "{'coord': {'lon': -79.1469, 'lat': -7.8447}, 'weather': [{'id': 800, 'main': 'Clear', 'description': 'clear sky', 'icon': '01d'}], 'base': 'stations', 'main': {'temp': 75.2, 'feels_like': 75.07, 'temp_min': 75.2, 'temp_max': 75.2, 'pressure': 1010, 'humidity': 73}, 'visibility': 10000, 'wind': {'speed': 10.36, 'deg': 180}, 'clouds': {'all': 0}, 'dt': 1612724541, 'sys': {'type': 1, 'id': 8690, 'country': 'PE', 'sunrise': 1612696724, 'sunset': 1612741369}, 'timezone': -18000, 'id': 3698359, 'name': 'Chicama', 'cod': 200}\n",
      "- Processing next 50 -\n",
      "---------------------\n",
      "chicama is 0 of 50\n"
     ]
    },
    {
     "name": "stdout",
     "output_type": "stream",
     "text": [
      "{'coord': {'lon': 18.4232, 'lat': -33.9258}, 'weather': [{'id': 800, 'main': 'Clear', 'description': 'clear sky', 'icon': '01n'}], 'base': 'stations', 'main': {'temp': 67.66, 'feels_like': 54.41, 'temp_min': 66, 'temp_max': 69.01, 'pressure': 1015, 'humidity': 60}, 'visibility': 10000, 'wind': {'speed': 25.32, 'deg': 180}, 'clouds': {'all': 0}, 'dt': 1612724496, 'sys': {'type': 1, 'id': 1899, 'country': 'ZA', 'sunrise': 1612671238, 'sunset': 1612720019}, 'timezone': 7200, 'id': 3369157, 'name': 'Cape Town', 'cod': 200}\n",
      "- Processing next 50 -\n",
      "---------------------\n",
      "cape town is 0 of 50\n",
      "{'coord': {'lon': 12.1667, 'lat': 52.4}, 'weather': [{'id': 601, 'main': 'Snow', 'description': 'snow', 'icon': '13n'}], 'base': 'stations', 'main': {'temp': 20.7, 'feels_like': 13.01, 'temp_min': 18, 'temp_max': 21.99, 'pressure': 1006, 'humidity': 78}, 'visibility': 674, 'wind': {'speed': 4, 'deg': 224, 'gust': 5.99}, 'snow': {'1h': 0.65}, 'clouds': {'all': 100}, 'dt': 1612724735, 'sys': {'type': 3, 'id': 2012153, 'country': 'DE', 'sunrise': 1612680146, 'sunset': 1612714114}, 'timezone': 3600, 'id': 2921309, 'name': 'Genthin', 'cod': 200}\n",
      "- Processing next 50 -\n",
      "---------------------\n",
      "genthin is 0 of 50\n",
      "{'coord': {'lon': 168.8643, 'lat': -46.1927}, 'weather': [{'id': 804, 'main': 'Clouds', 'description': 'overcast clouds', 'icon': '04d'}], 'base': 'stations', 'main': {'temp': 53.46, 'feels_like': 51.78, 'temp_min': 53.46, 'temp_max': 53.46, 'pressure': 1009, 'humidity': 80, 'sea_level': 1009, 'grnd_level': 1003}, 'visibility': 10000, 'wind': {'speed': 1.95, 'deg': 355}, 'clouds': {'all': 98}, 'dt': 1612723919, 'sys': {'country': 'NZ', 'sunrise': 1612720100, 'sunset': 1612771750}, 'timezone': 46800, 'id': 6201424, 'name': 'Mataura', 'cod': 200}\n",
      "- Processing next 50 -\n",
      "---------------------\n",
      "mataura is 0 of 50\n",
      "{'coord': {'lon': 147.9167, 'lat': 70.6333}, 'weather': [{'id': 804, 'main': 'Clouds', 'description': 'overcast clouds', 'icon': '04n'}], 'base': 'stations', 'main': {'temp': -22.59, 'feels_like': -33.97, 'temp_min': -22.59, 'temp_max': -22.59, 'pressure': 1043, 'humidity': 86, 'sea_level': 1043, 'grnd_level': 1038}, 'visibility': 10000, 'wind': {'speed': 7.85, 'deg': 38}, 'clouds': {'all': 99}, 'dt': 1612724735, 'sys': {'country': 'RU', 'sunrise': 1612740405, 'sunset': 1612761500}, 'timezone': 39600, 'id': 2126123, 'name': 'Chokurdakh', 'cod': 200}\n",
      "- Processing next 50 -\n",
      "---------------------\n",
      "chokurdakh is 0 of 50\n",
      "{'cod': '404', 'message': 'city not found'}\n",
      "City not found. Skipping...\n",
      "{'coord': {'lon': -99.3833, 'lat': 23.4167}, 'weather': [{'id': 801, 'main': 'Clouds', 'description': 'few clouds', 'icon': '02d'}], 'base': 'stations', 'main': {'temp': 79.23, 'feels_like': 73.8, 'temp_min': 78.01, 'temp_max': 80.6, 'pressure': 1015, 'humidity': 28}, 'visibility': 10000, 'wind': {'speed': 6.91, 'deg': 130, 'gust': 19.57}, 'clouds': {'all': 20}, 'dt': 1612724735, 'sys': {'type': 1, 'id': 7112, 'country': 'MX', 'sunrise': 1612703694, 'sunset': 1612744113}, 'timezone': -21600, 'id': 3526564, 'name': 'Jaumave', 'cod': 200}\n",
      "- Processing next 50 -\n",
      "---------------------\n",
      "jaumave is 0 of 50\n",
      "{'coord': {'lon': 113.6333, 'lat': -24.8667}, 'weather': [{'id': 802, 'main': 'Clouds', 'description': 'scattered clouds', 'icon': '03n'}], 'base': 'stations', 'main': {'temp': 77, 'feels_like': 81.43, 'temp_min': 77, 'temp_max': 77, 'pressure': 1005, 'humidity': 100}, 'visibility': 10000, 'wind': {'speed': 12.66, 'deg': 200}, 'clouds': {'all': 40}, 'dt': 1612724621, 'sys': {'type': 1, 'id': 9505, 'country': 'AU', 'sunrise': 1612735636, 'sunset': 1612782725}, 'timezone': 28800, 'id': 2074865, 'name': 'Carnarvon', 'cod': 200}\n",
      "- Processing next 50 -\n",
      "---------------------\n",
      "carnarvon is 0 of 50\n",
      "{'cod': '404', 'message': 'city not found'}\n",
      "City not found. Skipping...\n",
      "{'coord': {'lon': 6.6147, 'lat': 36.365}, 'weather': [{'id': 802, 'main': 'Clouds', 'description': 'scattered clouds', 'icon': '03n'}], 'base': 'stations', 'main': {'temp': 46.4, 'feels_like': 38.84, 'temp_min': 46.4, 'temp_max': 46.4, 'pressure': 1007, 'humidity': 76}, 'visibility': 10000, 'wind': {'speed': 9.22, 'deg': 330}, 'clouds': {'all': 40}, 'dt': 1612724735, 'sys': {'type': 1, 'id': 1074, 'country': 'DZ', 'sunrise': 1612679380, 'sunset': 1612717546}, 'timezone': 3600, 'id': 2501152, 'name': 'Constantine', 'cod': 200}\n",
      "- Processing next 50 -\n",
      "---------------------\n",
      "constantine is 0 of 50\n",
      "{'cod': '404', 'message': 'city not found'}\n",
      "City not found. Skipping...\n",
      "{'coord': {'lon': 125.2833, 'lat': 24.8}, 'weather': [{'id': 803, 'main': 'Clouds', 'description': 'broken clouds', 'icon': '04n'}], 'base': 'stations', 'main': {'temp': 68.83, 'feels_like': 66.04, 'temp_min': 68.83, 'temp_max': 68.83, 'pressure': 1019, 'humidity': 69, 'sea_level': 1019, 'grnd_level': 1016}, 'visibility': 10000, 'wind': {'speed': 9.62, 'deg': 58}, 'clouds': {'all': 84}, 'dt': 1612724699, 'sys': {'country': 'JP', 'sunrise': 1612736267, 'sunset': 1612776503}, 'timezone': 32400, 'id': 1862505, 'name': 'Hirara', 'cod': 200}\n",
      "- Processing next 50 -\n",
      "---------------------\n",
      "hirara is 0 of 50\n",
      "{'coord': {'lon': -39.2481, 'lat': -17.7125}, 'weather': [{'id': 500, 'main': 'Rain', 'description': 'light rain', 'icon': '10d'}], 'base': 'stations', 'main': {'temp': 79.77, 'feels_like': 85.57, 'temp_min': 79.77, 'temp_max': 79.77, 'pressure': 1011, 'humidity': 87, 'sea_level': 1011, 'grnd_level': 1010}, 'visibility': 6536, 'wind': {'speed': 8.68, 'deg': 25}, 'rain': {'1h': 0.4866}, 'clouds': {'all': 100}, 'dt': 1612724735, 'sys': {'country': 'BR', 'sunrise': 1612686457, 'sunset': 1612732483}, 'timezone': -10800, 'id': 3466980, 'name': 'Caravelas', 'cod': 200}\n",
      "- Processing next 50 -\n",
      "---------------------\n",
      "caravelas is 0 of 50\n",
      "{'coord': {'lon': -42.5569, 'lat': -18.5486}, 'weather': [{'id': 500, 'main': 'Rain', 'description': 'light rain', 'icon': '10d'}], 'base': 'stations', 'main': {'temp': 69.73, 'feels_like': 74.57, 'temp_min': 69.73, 'temp_max': 69.73, 'pressure': 1010, 'humidity': 98, 'sea_level': 1010, 'grnd_level': 919}, 'visibility': 10000, 'wind': {'speed': 4.21, 'deg': 49}, 'rain': {'1h': 0.1712}, 'clouds': {'all': 100}, 'dt': 1612724735, 'sys': {'country': 'BR', 'sunrise': 1612687190, 'sunset': 1612733339}, 'timezone': -10800, 'id': 3454628, 'name': 'Peçanha', 'cod': 200}\n",
      "- Processing next 50 -\n",
      "---------------------\n",
      "pecanha is 0 of 50\n",
      "{'coord': {'lon': -113.5841, 'lat': 37.1041}, 'weather': [{'id': 800, 'main': 'Clear', 'description': 'clear sky', 'icon': '01d'}], 'base': 'stations', 'main': {'temp': 52.02, 'feels_like': 45.95, 'temp_min': 48.2, 'temp_max': 54, 'pressure': 1016, 'humidity': 29}, 'visibility': 10000, 'wind': {'speed': 2.01, 'deg': 248}, 'clouds': {'all': 1}, 'dt': 1612724599, 'sys': {'type': 1, 'id': 5832, 'country': 'US', 'sunrise': 1612708282, 'sunset': 1612746341}, 'timezone': -25200, 'id': 5546220, 'name': 'Saint George', 'cod': 200}\n",
      "- Processing next 50 -\n",
      "---------------------\n",
      "saint george is 0 of 50\n",
      "{'coord': {'lon': 6.2642, 'lat': 4.9247}, 'weather': [{'id': 804, 'main': 'Clouds', 'description': 'overcast clouds', 'icon': '04n'}], 'base': 'stations', 'main': {'temp': 82.69, 'feels_like': 87.96, 'temp_min': 82.69, 'temp_max': 82.69, 'pressure': 1008, 'humidity': 75, 'sea_level': 1008, 'grnd_level': 1007}, 'visibility': 10000, 'wind': {'speed': 7.92, 'deg': 239}, 'clouds': {'all': 100}, 'dt': 1612724736, 'sys': {'country': 'NG', 'sunrise': 1612677063, 'sunset': 1612720031}, 'timezone': 3600, 'id': 2318123, 'name': 'Yenagoa', 'cod': 200}\n",
      "- Processing next 50 -\n",
      "---------------------\n",
      "yenagoa is 0 of 50\n",
      "{'cod': '404', 'message': 'city not found'}\n",
      "City not found. Skipping...\n",
      "{'coord': {'lon': 27.8492, 'lat': 71.0357}, 'weather': [{'id': 600, 'main': 'Snow', 'description': 'light snow', 'icon': '13n'}], 'base': 'stations', 'main': {'temp': 24.8, 'feels_like': 2.26, 'temp_min': 24.8, 'temp_max': 24.8, 'pressure': 1023, 'humidity': 80}, 'visibility': 8000, 'wind': {'speed': 31.07, 'deg': 340}, 'snow': {'1h': 0.11}, 'clouds': {'all': 75}, 'dt': 1612724736, 'sys': {'type': 1, 'id': 1633, 'country': 'NO', 'sunrise': 1612683386, 'sunset': 1612703347}, 'timezone': 3600, 'id': 778707, 'name': 'Mehamn', 'cod': 200}\n",
      "- Processing next 50 -\n",
      "---------------------\n",
      "mehamn is 0 of 50\n",
      "{'coord': {'lon': 19.2345, 'lat': -34.4187}, 'weather': [{'id': 800, 'main': 'Clear', 'description': 'clear sky', 'icon': '01n'}], 'base': 'stations', 'main': {'temp': 68, 'feels_like': 70.63, 'temp_min': 68, 'temp_max': 68, 'pressure': 1016, 'humidity': 75}, 'visibility': 10000, 'wind': {'speed': 1.01, 'deg': 340, 'gust': 1.99}, 'clouds': {'all': 2}, 'dt': 1612724258, 'sys': {'type': 3, 'id': 2006131, 'country': 'ZA', 'sunrise': 1612670993, 'sunset': 1612719874}, 'timezone': 7200, 'id': 3366880, 'name': 'Hermanus', 'cod': 200}\n",
      "- Processing next 50 -\n",
      "---------------------\n",
      "hermanus is 0 of 50\n"
     ]
    },
    {
     "name": "stdout",
     "output_type": "stream",
     "text": [
      "{'coord': {'lon': -133.0374, 'lat': 69.4541}, 'weather': [{'id': 601, 'main': 'Snow', 'description': 'snow', 'icon': '13d'}], 'base': 'stations', 'main': {'temp': -25.6, 'feels_like': -43.64, 'temp_min': -25.6, 'temp_max': -25.6, 'pressure': 1037, 'humidity': 75}, 'visibility': 9656, 'wind': {'speed': 19.57, 'deg': 330}, 'clouds': {'all': 75}, 'dt': 1612724736, 'sys': {'type': 1, 'id': 942, 'country': 'CA', 'sunrise': 1612720632, 'sunset': 1612743329}, 'timezone': -25200, 'id': 6170031, 'name': 'Tuktoyaktuk', 'cod': 200}\n",
      "- Processing next 50 -\n",
      "---------------------\n",
      "tuktoyaktuk is 0 of 50\n",
      "{'coord': {'lon': -50.0119, 'lat': -24.7911}, 'weather': [{'id': 800, 'main': 'Clear', 'description': 'clear sky', 'icon': '01d'}], 'base': 'stations', 'main': {'temp': 76.24, 'feels_like': 75.69, 'temp_min': 76.24, 'temp_max': 76.24, 'pressure': 1011, 'humidity': 47, 'sea_level': 1011, 'grnd_level': 903}, 'visibility': 10000, 'wind': {'speed': 3.47, 'deg': 157}, 'clouds': {'all': 0}, 'dt': 1612724736, 'sys': {'country': 'BR', 'sunrise': 1612688495, 'sunset': 1612735613}, 'timezone': -10800, 'id': 3466704, 'name': 'Castro', 'cod': 200}\n",
      "- Processing next 50 -\n",
      "---------------------\n",
      "castro is 0 of 50\n",
      "{'coord': {'lon': 114.0833, 'lat': 71.9167}, 'weather': [{'id': 802, 'main': 'Clouds', 'description': 'scattered clouds', 'icon': '03n'}], 'base': 'stations', 'main': {'temp': -37.95, 'feels_like': -51.99, 'temp_min': -37.95, 'temp_max': -37.95, 'pressure': 1027, 'humidity': 78, 'sea_level': 1027, 'grnd_level': 1026}, 'visibility': 10000, 'wind': {'speed': 12.33, 'deg': 139}, 'clouds': {'all': 25}, 'dt': 1612724362, 'sys': {'country': 'RU', 'sunrise': 1612749638, 'sunset': 1612768508}, 'timezone': 32400, 'id': 2017155, 'name': 'Saskylakh', 'cod': 200}\n",
      "- Processing next 50 -\n",
      "---------------------\n",
      "saskylakh is 0 of 50\n",
      "{'coord': {'lon': 26.891, 'lat': -33.5906}, 'weather': [{'id': 500, 'main': 'Rain', 'description': 'light rain', 'icon': '10n'}], 'base': 'stations', 'main': {'temp': 66, 'feels_like': 65.89, 'temp_min': 66, 'temp_max': 66, 'pressure': 1013, 'humidity': 95}, 'visibility': 10000, 'wind': {'speed': 9.22, 'deg': 169}, 'rain': {'1h': 0.13}, 'clouds': {'all': 99}, 'dt': 1612724736, 'sys': {'type': 3, 'id': 2011314, 'country': 'ZA', 'sunrise': 1612669238, 'sunset': 1612717955}, 'timezone': 7200, 'id': 964432, 'name': 'Port Alfred', 'cod': 200}\n",
      "- Processing next 50 -\n",
      "---------------------\n",
      "port alfred is 0 of 50\n",
      "{'coord': {'lon': 11.549, 'lat': 0.7821}, 'weather': [{'id': 500, 'main': 'Rain', 'description': 'light rain', 'icon': '10n'}], 'base': 'stations', 'main': {'temp': 72.12, 'feels_like': 77.49, 'temp_min': 72.12, 'temp_max': 72.12, 'pressure': 1011, 'humidity': 93, 'sea_level': 1011, 'grnd_level': 946}, 'visibility': 10000, 'wind': {'speed': 4.03, 'deg': 256}, 'rain': {'1h': 0.25}, 'clouds': {'all': 98}, 'dt': 1612724736, 'sys': {'country': 'GA', 'sunrise': 1612675523, 'sunset': 1612719034}, 'timezone': 3600, 'id': 2398283, 'name': 'Mitzic', 'cod': 200}\n",
      "- Processing next 50 -\n",
      "---------------------\n",
      "mitzic is 0 of 50\n",
      "{'coord': {'lon': -53.6735, 'lat': 66.9395}, 'weather': [{'id': 800, 'main': 'Clear', 'description': 'clear sky', 'icon': '01d'}], 'base': 'stations', 'main': {'temp': 24.3, 'feels_like': 10.74, 'temp_min': 24.3, 'temp_max': 24.3, 'pressure': 1024, 'humidity': 81, 'sea_level': 1024, 'grnd_level': 1022}, 'visibility': 10000, 'wind': {'speed': 15.08, 'deg': 89}, 'clouds': {'all': 0}, 'dt': 1612724736, 'sys': {'country': 'GL', 'sunrise': 1612700174, 'sunset': 1612725691}, 'timezone': -10800, 'id': 3419842, 'name': 'Sisimiut', 'cod': 200}\n",
      "- Processing next 50 -\n",
      "---------------------\n",
      "sisimiut is 0 of 50\n",
      "{'coord': {'lon': -156.47, 'lat': 20.8947}, 'weather': [{'id': 801, 'main': 'Clouds', 'description': 'few clouds', 'icon': '02d'}], 'base': 'stations', 'main': {'temp': 66.15, 'feels_like': 65.71, 'temp_min': 62.6, 'temp_max': 70, 'pressure': 1017, 'humidity': 77}, 'visibility': 10000, 'wind': {'speed': 5.75, 'deg': 160}, 'clouds': {'all': 20}, 'dt': 1612724497, 'sys': {'type': 1, 'id': 7879, 'country': 'US', 'sunrise': 1612717202, 'sunset': 1612758007}, 'timezone': -36000, 'id': 5847411, 'name': 'Kahului', 'cod': 200}\n",
      "- Processing next 50 -\n",
      "---------------------\n",
      "kahului is 0 of 50\n",
      "{'coord': {'lon': 100.3354, 'lat': 5.4112}, 'weather': [{'id': 801, 'main': 'Clouds', 'description': 'few clouds', 'icon': '02n'}], 'base': 'stations', 'main': {'temp': 80.31, 'feels_like': 88.2, 'temp_min': 80.01, 'temp_max': 80.6, 'pressure': 1010, 'humidity': 83}, 'visibility': 8000, 'wind': {'speed': 4.03, 'deg': 92}, 'clouds': {'all': 20}, 'dt': 1612724546, 'sys': {'type': 1, 'id': 9429, 'country': 'MY', 'sunrise': 1612740915, 'sunset': 1612783830}, 'timezone': 28800, 'id': 1735106, 'name': 'George Town', 'cod': 200}\n",
      "- Processing next 50 -\n",
      "---------------------\n",
      "georgetown is 0 of 50\n",
      "{'coord': {'lon': -155.09, 'lat': 19.7297}, 'weather': [{'id': 801, 'main': 'Clouds', 'description': 'few clouds', 'icon': '02d'}], 'base': 'stations', 'main': {'temp': 71.49, 'feels_like': 69.35, 'temp_min': 66.99, 'temp_max': 75, 'pressure': 1017, 'humidity': 49}, 'visibility': 10000, 'wind': {'speed': 4.61, 'deg': 240}, 'clouds': {'all': 20}, 'dt': 1612724694, 'sys': {'type': 1, 'id': 7881, 'country': 'US', 'sunrise': 1612716787, 'sunset': 1612757761}, 'timezone': -36000, 'id': 5855927, 'name': 'Hilo', 'cod': 200}\n",
      "- Processing next 50 -\n",
      "---------------------\n",
      "hilo is 0 of 50\n",
      "{'coord': {'lon': 53.1947, 'lat': 55.3033}, 'weather': [{'id': 804, 'main': 'Clouds', 'description': 'overcast clouds', 'icon': '04n'}], 'base': 'stations', 'main': {'temp': -2.79, 'feels_like': -17.61, 'temp_min': -2.79, 'temp_max': -2.79, 'pressure': 1001, 'humidity': 90, 'sea_level': 1001, 'grnd_level': 991}, 'visibility': 708, 'wind': {'speed': 14.79, 'deg': 273}, 'clouds': {'all': 100}, 'dt': 1612724737, 'sys': {'country': 'RU', 'sunrise': 1612670871, 'sunset': 1612703695}, 'timezone': 10800, 'id': 524183, 'name': 'Muslyumovo', 'cod': 200}\n",
      "- Processing next 50 -\n",
      "---------------------\n",
      "muslyumovo is 0 of 50\n",
      "{'coord': {'lon': -103.6833, 'lat': 18.7333}, 'weather': [{'id': 801, 'main': 'Clouds', 'description': 'few clouds', 'icon': '02d'}], 'base': 'stations', 'main': {'temp': 77, 'feels_like': 78.28, 'temp_min': 77, 'temp_max': 77, 'pressure': 1016, 'humidity': 65}, 'visibility': 9656, 'wind': {'speed': 6.6, 'deg': 227}, 'clouds': {'all': 20}, 'dt': 1612724737, 'sys': {'type': 1, 'id': 7116, 'country': 'MX', 'sunrise': 1612704381, 'sunset': 1612745490}, 'timezone': -21600, 'id': 4013679, 'name': 'Coahuayana Viejo', 'cod': 200}\n",
      "- Processing next 50 -\n",
      "---------------------\n",
      "coahuayana is 0 of 50\n",
      "{'coord': {'lon': 73.0833, 'lat': -0.6}, 'weather': [{'id': 803, 'main': 'Clouds', 'description': 'broken clouds', 'icon': '04n'}], 'base': 'stations', 'main': {'temp': 82.02, 'feels_like': 85.69, 'temp_min': 82.02, 'temp_max': 82.02, 'pressure': 1011, 'humidity': 70, 'sea_level': 1011, 'grnd_level': 1011}, 'visibility': 10000, 'wind': {'speed': 8.19, 'deg': 13}, 'clouds': {'all': 83}, 'dt': 1612724737, 'sys': {'country': 'MV', 'sunrise': 1612747068, 'sunset': 1612790758}, 'timezone': 18000, 'id': 1282256, 'name': 'Hithadhoo', 'cod': 200}\n",
      "- Processing next 50 -\n",
      "---------------------\n",
      "hithadhoo is 0 of 50\n",
      "{'coord': {'lon': -53.8069, 'lat': -29.6842}, 'weather': [{'id': 801, 'main': 'Clouds', 'description': 'few clouds', 'icon': '02d'}], 'base': 'stations', 'main': {'temp': 86, 'feels_like': 88.38, 'temp_min': 86, 'temp_max': 86, 'pressure': 1013, 'humidity': 51}, 'visibility': 10000, 'wind': {'speed': 5.75, 'deg': 130}, 'clouds': {'all': 20}, 'dt': 1612724701, 'sys': {'type': 1, 'id': 8430, 'country': 'BR', 'sunrise': 1612688987, 'sunset': 1612736943}, 'timezone': -10800, 'id': 3450083, 'name': 'Santa Maria', 'cod': 200}\n",
      "- Processing next 50 -\n",
      "---------------------\n",
      "santa maria is 0 of 50\n",
      "{'coord': {'lon': -68.3, 'lat': -54.8}, 'weather': [{'id': 802, 'main': 'Clouds', 'description': 'scattered clouds', 'icon': '03d'}], 'base': 'stations', 'main': {'temp': 62.6, 'feels_like': 55.38, 'temp_min': 62.6, 'temp_max': 62.6, 'pressure': 1014, 'humidity': 45}, 'visibility': 10000, 'wind': {'speed': 9.22, 'deg': 230}, 'clouds': {'all': 40}, 'dt': 1612724737, 'sys': {'type': 1, 'id': 8303, 'country': 'AR', 'sunrise': 1612689024, 'sunset': 1612743863}, 'timezone': -10800, 'id': 3833367, 'name': 'Ushuaia', 'cod': 200}\n",
      "- Processing next 50 -\n",
      "---------------------\n",
      "ushuaia is 0 of 50\n",
      "{'coord': {'lon': -173.3, 'lat': 64.3833}, 'weather': [{'id': 804, 'main': 'Clouds', 'description': 'overcast clouds', 'icon': '04n'}], 'base': 'stations', 'main': {'temp': -3.93, 'feels_like': -19.93, 'temp_min': -3.93, 'temp_max': -3.93, 'pressure': 1038, 'humidity': 79, 'sea_level': 1038, 'grnd_level': 1038}, 'visibility': 10000, 'wind': {'speed': 16.67, 'deg': 46}, 'clouds': {'all': 100}, 'dt': 1612724737, 'sys': {'country': 'RU', 'sunrise': 1612813891, 'sunset': 1612842204}, 'timezone': 43200, 'id': 4031574, 'name': 'Provideniya', 'cod': 200}\n",
      "- Processing next 50 -\n",
      "---------------------\n",
      "provideniya is 0 of 50\n"
     ]
    },
    {
     "name": "stdout",
     "output_type": "stream",
     "text": [
      "{'cod': '404', 'message': 'city not found'}\n",
      "City not found. Skipping...\n",
      "{'coord': {'lon': 15.6401, 'lat': 78.2186}, 'weather': [{'id': 601, 'main': 'Snow', 'description': 'snow', 'icon': '13n'}], 'base': 'stations', 'main': {'temp': 15.8, 'feels_like': -2.47, 'temp_min': 15.8, 'temp_max': 15.8, 'pressure': 1034, 'humidity': 67}, 'visibility': 10000, 'wind': {'speed': 21.85, 'deg': 140}, 'clouds': {'all': 75}, 'dt': 1612724737, 'sys': {'type': 1, 'id': 1663, 'country': 'SJ', 'sunrise': 0, 'sunset': 0}, 'timezone': 3600, 'id': 2729907, 'name': 'Longyearbyen', 'cod': 200}\n",
      "- Processing next 50 -\n",
      "---------------------\n",
      "longyearbyen is 0 of 50\n",
      "-----------------------\n",
      "Processing Finished!\n"
     ]
    }
   ],
   "source": [
    "city_data_list = []\n",
    "\n",
    "#number\n",
    "number=0\n",
    "series_number = 1\n",
    "# Include a print log of each city as it'sbeing processed (with the city number and city name).\n",
    "for city in cities:\n",
    "    city_dict = {}\n",
    "    try:\n",
    "        query_url = f'{weather_url}&q={city}'\n",
    "        \n",
    "        response = requests.get(query_url).json()\n",
    "        print(response)\n",
    "        city_dict['city'] = city\n",
    "        city_dict['temp_max']= response['main']['temp_max']\n",
    "        city_dict['humidity']= response['main']['humidity']\n",
    "        city_dict['clouds']= response['clouds']['all']\n",
    "        city_dict['windspeed']= response['wind']['speed']\n",
    "        city_dict['lat']=response['coord']['lat']\n",
    "        city_dict['lng']= response['coord']['lon']\n",
    "        city_dict['country']= response['sys']['country']\n",
    "        city_dict['date']= (response['dt'])\n",
    "        #append to list\n",
    "        city_data_list.append(city_dict)\n",
    "#         if number % 50:\n",
    "#             time.sleep(60)\n",
    "#             number = 1\n",
    "#             series_number += 1\n",
    "#             city_data_list(city_dict)\n",
    "#         else:\n",
    "#             number += 1\n",
    "#             city_data_list(city)\n",
    "        print(\"- Processing next 50 -\")\n",
    "        print(\"---------------------\")\n",
    "        print(f'{city} is {number} of {len(cities)}')\n",
    "    except:\n",
    "        print('City not found. Skipping...')\n",
    "        pass\n",
    "        \n",
    "print(\"-----------------------\")       \n",
    "print(\"Processing Finished!\")"
   ]
  },
  {
   "cell_type": "markdown",
   "metadata": {},
   "source": [
    "### Convert Raw Data to DataFrame\n",
    "* Export the city data into a .csv.\n",
    "* Display the DataFrame"
   ]
  },
  {
   "cell_type": "code",
   "execution_count": 5,
   "metadata": {},
   "outputs": [
    {
     "data": {
      "text/html": [
       "<div>\n",
       "<style scoped>\n",
       "    .dataframe tbody tr th:only-of-type {\n",
       "        vertical-align: middle;\n",
       "    }\n",
       "\n",
       "    .dataframe tbody tr th {\n",
       "        vertical-align: top;\n",
       "    }\n",
       "\n",
       "    .dataframe thead th {\n",
       "        text-align: right;\n",
       "    }\n",
       "</style>\n",
       "<table border=\"1\" class=\"dataframe\">\n",
       "  <thead>\n",
       "    <tr style=\"text-align: right;\">\n",
       "      <th></th>\n",
       "      <th>city</th>\n",
       "      <th>temp_max</th>\n",
       "      <th>humidity</th>\n",
       "      <th>clouds</th>\n",
       "      <th>windspeed</th>\n",
       "      <th>lat</th>\n",
       "      <th>lng</th>\n",
       "      <th>country</th>\n",
       "      <th>date</th>\n",
       "    </tr>\n",
       "  </thead>\n",
       "  <tbody>\n",
       "    <tr>\n",
       "      <th>0</th>\n",
       "      <td>mawlaik</td>\n",
       "      <td>58.19</td>\n",
       "      <td>51</td>\n",
       "      <td>13</td>\n",
       "      <td>1.54</td>\n",
       "      <td>23.6333</td>\n",
       "      <td>94.4167</td>\n",
       "      <td>MM</td>\n",
       "      <td>1612724733</td>\n",
       "    </tr>\n",
       "    <tr>\n",
       "      <th>1</th>\n",
       "      <td>puqi</td>\n",
       "      <td>49.41</td>\n",
       "      <td>89</td>\n",
       "      <td>100</td>\n",
       "      <td>4.38</td>\n",
       "      <td>29.7167</td>\n",
       "      <td>113.8833</td>\n",
       "      <td>CN</td>\n",
       "      <td>1612724733</td>\n",
       "    </tr>\n",
       "    <tr>\n",
       "      <th>2</th>\n",
       "      <td>bredasdorp</td>\n",
       "      <td>68.00</td>\n",
       "      <td>60</td>\n",
       "      <td>3</td>\n",
       "      <td>10.36</td>\n",
       "      <td>-34.5322</td>\n",
       "      <td>20.0403</td>\n",
       "      <td>ZA</td>\n",
       "      <td>1612724733</td>\n",
       "    </tr>\n",
       "    <tr>\n",
       "      <th>3</th>\n",
       "      <td>hurghada</td>\n",
       "      <td>68.00</td>\n",
       "      <td>56</td>\n",
       "      <td>0</td>\n",
       "      <td>2.86</td>\n",
       "      <td>27.2574</td>\n",
       "      <td>33.8129</td>\n",
       "      <td>EG</td>\n",
       "      <td>1612724733</td>\n",
       "    </tr>\n",
       "    <tr>\n",
       "      <th>4</th>\n",
       "      <td>bengkulu</td>\n",
       "      <td>76.05</td>\n",
       "      <td>85</td>\n",
       "      <td>100</td>\n",
       "      <td>6.93</td>\n",
       "      <td>-3.8004</td>\n",
       "      <td>102.2655</td>\n",
       "      <td>ID</td>\n",
       "      <td>1612724733</td>\n",
       "    </tr>\n",
       "  </tbody>\n",
       "</table>\n",
       "</div>"
      ],
      "text/plain": [
       "         city  temp_max  humidity  clouds  windspeed      lat       lng  \\\n",
       "0     mawlaik     58.19        51      13       1.54  23.6333   94.4167   \n",
       "1        puqi     49.41        89     100       4.38  29.7167  113.8833   \n",
       "2  bredasdorp     68.00        60       3      10.36 -34.5322   20.0403   \n",
       "3    hurghada     68.00        56       0       2.86  27.2574   33.8129   \n",
       "4    bengkulu     76.05        85     100       6.93  -3.8004  102.2655   \n",
       "\n",
       "  country        date  \n",
       "0      MM  1612724733  \n",
       "1      CN  1612724733  \n",
       "2      ZA  1612724733  \n",
       "3      EG  1612724733  \n",
       "4      ID  1612724733  "
      ]
     },
     "execution_count": 5,
     "metadata": {},
     "output_type": "execute_result"
    }
   ],
   "source": [
    "# Output File (CSV)\n",
    "output_data_file = \"output_data/cities.csv\"\n",
    "#convert to dataframe\n",
    "weather_data = pd.DataFrame(city_data_list)\n",
    "weather_data.to_csv(output_data_file)\n",
    "weather_data.head()"
   ]
  },
  {
   "cell_type": "markdown",
   "metadata": {},
   "source": [
    "## Inspect the data and remove the cities where the humidity > 100%.\n",
    "----\n",
    "Skip this step if there are no cities that have humidity > 100%. "
   ]
  },
  {
   "cell_type": "code",
   "execution_count": 8,
   "metadata": {},
   "outputs": [
    {
     "ename": "TypeError",
     "evalue": "'RangeIndex' object is not callable",
     "output_type": "error",
     "traceback": [
      "\u001b[1;31m---------------------------------------------------------------------------\u001b[0m",
      "\u001b[1;31mTypeError\u001b[0m                                 Traceback (most recent call last)",
      "\u001b[1;32m<ipython-input-8-ff53eed1943f>\u001b[0m in \u001b[0;36m<module>\u001b[1;34m\u001b[0m\n\u001b[0;32m      1\u001b[0m \u001b[1;31m#  Get the indices of cities that have humidity over 100%.\u001b[0m\u001b[1;33m\u001b[0m\u001b[1;33m\u001b[0m\u001b[1;33m\u001b[0m\u001b[0m\n\u001b[1;32m----> 2\u001b[1;33m \u001b[0mweather_data\u001b[0m\u001b[1;33m[\u001b[0m\u001b[1;34m'city'\u001b[0m\u001b[1;33m]\u001b[0m\u001b[1;33m.\u001b[0m\u001b[0mindex\u001b[0m\u001b[1;33m(\u001b[0m\u001b[1;34m'humidity'\u001b[0m\u001b[1;33m)\u001b[0m\u001b[1;33m\u001b[0m\u001b[1;33m\u001b[0m\u001b[0m\n\u001b[0m\u001b[0;32m      3\u001b[0m \u001b[1;33m\u001b[0m\u001b[0m\n\u001b[0;32m      4\u001b[0m \u001b[1;33m\u001b[0m\u001b[0m\n\u001b[0;32m      5\u001b[0m \u001b[1;33m\u001b[0m\u001b[0m\n",
      "\u001b[1;31mTypeError\u001b[0m: 'RangeIndex' object is not callable"
     ]
    }
   ],
   "source": [
    "#  Get the indices of cities that have humidity over 100%.\n",
    "weather_data['city'].index('humidity')\n",
    "\n",
    "\n",
    "\n",
    "\n",
    "\n"
   ]
  },
  {
   "cell_type": "code",
   "execution_count": null,
   "metadata": {},
   "outputs": [],
   "source": [
    "# Make a new DataFrame equal to the city data to drop all humidity outliers by index.\n",
    "# Passing \"inplace=False\" will make a copy of the city_data DataFrame, which we call \"clean_city_data\".\n"
   ]
  },
  {
   "cell_type": "code",
   "execution_count": null,
   "metadata": {},
   "outputs": [],
   "source": [
    "\n"
   ]
  },
  {
   "cell_type": "markdown",
   "metadata": {},
   "source": [
    "## Plotting the Data\n",
    "* Use proper labeling of the plots using plot titles (including date of analysis) and axes labels.\n",
    "* Save the plotted figures as .pngs."
   ]
  },
  {
   "cell_type": "markdown",
   "metadata": {},
   "source": [
    "## Latitude vs. Temperature Plot"
   ]
  },
  {
   "cell_type": "code",
   "execution_count": 11,
   "metadata": {
    "scrolled": true
   },
   "outputs": [
    {
     "data": {
      "image/png": "[encoded data removed]",
      "text/plain": [
       "<Figure size 432x288 with 1 Axes>"
      ]
     },
     "metadata": {
      "needs_background": "light"
     },
     "output_type": "display_data"
    }
   ],
   "source": [
    "# Build a scatter plot for each data type\n",
    "plt.scatter(weather_data[\"lat\"], weather_data[\"temp_max\"], marker=\"o\")\n",
    "\n",
    "# Incorporate the other graph properties\n",
    "plt.title(\"Temperature in World Cities\")\n",
    "plt.ylabel(\"Temperature (Fahrenheit)\")\n",
    "plt.xlabel(\"Latitude\")\n",
    "plt.grid(True)\n",
    "\n",
    "# Save the figure\n",
    "plt.savefig(\"TemperatureInWorldCities.png\")\n",
    "\n",
    "# Show plot\n",
    "plt.show()"
   ]
  },
  {
   "cell_type": "markdown",
   "metadata": {},
   "source": [
    "## Latitude vs. Humidity Plot"
   ]
  },
  {
   "cell_type": "code",
   "execution_count": 13,
   "metadata": {},
   "outputs": [
    {
     "data": {
      "image/png": "[encoded data removed]",
      "text/plain": [
       "<Figure size 432x288 with 1 Axes>"
      ]
     },
     "metadata": {
      "needs_background": "light"
     },
     "output_type": "display_data"
    }
   ],
   "source": [
    "# Build a scatter plot for each data type\n",
    "plt.scatter(weather_data[\"lat\"], weather_data[\"humidity\"], marker=\"o\")\n",
    "\n",
    "# Incorporate the other graph properties\n",
    "plt.title(\"Humidity in World Cities\")\n",
    "plt.ylabel(\"Humitidy (%)\")\n",
    "plt.xlabel(\"Latitude\")\n",
    "plt.grid(True)\n",
    "\n",
    "# Save the figure\n",
    "plt.savefig(\"HumidityInWorldCities.png\")\n",
    "\n",
    "# Show plot\n",
    "plt.show()"
   ]
  },
  {
   "cell_type": "markdown",
   "metadata": {},
   "source": [
    "## Latitude vs. Cloudiness Plot"
   ]
  },
  {
   "cell_type": "code",
   "execution_count": 14,
   "metadata": {},
   "outputs": [
    {
     "data": {
      "image/png": "[encoded data removed]",
      "text/plain": [
       "<Figure size 432x288 with 1 Axes>"
      ]
     },
     "metadata": {
      "needs_background": "light"
     },
     "output_type": "display_data"
    }
   ],
   "source": [
    "# Build a scatter plot for each data type\n",
    "plt.scatter(weather_data[\"lat\"], weather_data[\"clouds\"], marker=\"o\")\n",
    "\n",
    "# Incorporate the other graph properties\n",
    "plt.title(\"cloudiness in World Cities\")\n",
    "plt.ylabel(\"cloudiness (%)\")\n",
    "plt.xlabel(\"Latitude\")\n",
    "plt.grid(True)\n",
    "\n",
    "# Save the figure\n",
    "plt.savefig(\"CloudinessInWorldCities.png\")\n",
    "\n",
    "# Show plot\n",
    "plt.show()"
   ]
  },
  {
   "cell_type": "markdown",
   "metadata": {},
   "source": [
    "## Latitude vs. Wind Speed Plot"
   ]
  },
  {
   "cell_type": "code",
   "execution_count": 15,
   "metadata": {},
   "outputs": [
    {
     "data": {
      "image/png": "[encoded data removed]",
      "text/plain": [
       "<Figure size 432x288 with 1 Axes>"
      ]
     },
     "metadata": {
      "needs_background": "light"
     },
     "output_type": "display_data"
    }
   ],
   "source": [
    "# Build a scatter plot for each data type\n",
    "plt.scatter(weather_data[\"lat\"], weather_data[\"windspeed\"], marker=\"o\")\n",
    "\n",
    "# Incorporate the other graph properties\n",
    "plt.title(\"Windspeed in World Cities\")\n",
    "plt.ylabel(\"windspeed (mph)\")\n",
    "plt.xlabel(\"Latitude\")\n",
    "plt.grid(True)\n",
    "\n",
    "# Save the figure\n",
    "plt.savefig(\"WindspeedInWorldCities.png\")\n",
    "\n",
    "# Show plot\n",
    "plt.show()"
   ]
  },
  {
   "cell_type": "markdown",
   "metadata": {},
   "source": [
    "## Linear Regression"
   ]
  },
  {
   "cell_type": "code",
   "execution_count": null,
   "metadata": {},
   "outputs": [],
   "source": []
  },
  {
   "cell_type": "markdown",
   "metadata": {},
   "source": [
    "####  Northern Hemisphere - Max Temp vs. Latitude Linear Regression"
   ]
  },
  {
   "cell_type": "code",
   "execution_count": null,
   "metadata": {},
   "outputs": [],
   "source": []
  },
  {
   "cell_type": "markdown",
   "metadata": {},
   "source": [
    "####  Southern Hemisphere - Max Temp vs. Latitude Linear Regression"
   ]
  },
  {
   "cell_type": "code",
   "execution_count": null,
   "metadata": {},
   "outputs": [],
   "source": []
  },
  {
   "cell_type": "markdown",
   "metadata": {},
   "source": [
    "####  Northern Hemisphere - Humidity (%) vs. Latitude Linear Regression"
   ]
  },
  {
   "cell_type": "code",
   "execution_count": null,
   "metadata": {},
   "outputs": [],
   "source": []
  },
  {
   "cell_type": "markdown",
   "metadata": {},
   "source": [
    "####  Southern Hemisphere - Humidity (%) vs. Latitude Linear Regression"
   ]
  },
  {
   "cell_type": "code",
   "execution_count": null,
   "metadata": {},
   "outputs": [],
   "source": []
  },
  {
   "cell_type": "markdown",
   "metadata": {},
   "source": [
    "####  Northern Hemisphere - Cloudiness (%) vs. Latitude Linear Regression"
   ]
  },
  {
   "cell_type": "code",
   "execution_count": null,
   "metadata": {},
   "outputs": [],
   "source": []
  },
  {
   "cell_type": "markdown",
   "metadata": {},
   "source": [
    "####  Southern Hemisphere - Cloudiness (%) vs. Latitude Linear Regression"
   ]
  },
  {
   "cell_type": "code",
   "execution_count": null,
   "metadata": {},
   "outputs": [],
   "source": []
  },
  {
   "cell_type": "markdown",
   "metadata": {},
   "source": [
    "####  Northern Hemisphere - Wind Speed (mph) vs. Latitude Linear Regression"
   ]
  },
  {
   "cell_type": "code",
   "execution_count": null,
   "metadata": {},
   "outputs": [],
   "source": []
  },
  {
   "cell_type": "markdown",
   "metadata": {},
   "source": [
    "####  Southern Hemisphere - Wind Speed (mph) vs. Latitude Linear Regression"
   ]
  },
  {
   "cell_type": "code",
   "execution_count": null,
   "metadata": {},
   "outputs": [],
   "source": []
  },
  {
   "cell_type": "code",
   "execution_count": null,
   "metadata": {},
   "outputs": [],
   "source": []
  }
 ],
 "metadata": {
  "anaconda-cloud": {},
  "kernel_info": {
   "name": "python3"
  },
  "kernelspec": {
   "display_name": "Python 3",
   "language": "python",
   "name": "python3"
  },
  "language_info": {
   "codemirror_mode": {
    "name": "ipython",
    "version": 3
   },
   "file_extension": ".py",
   "mimetype": "text/x-python",
   "name": "python",
   "nbconvert_exporter": "python",
   "pygments_lexer": "ipython3",
   "version": "3.6.12"
  },
  "latex_envs": {
   "LaTeX_envs_menu_present": true,
   "autoclose": false,
   "autocomplete": true,
   "bibliofile": "biblio.bib",
   "cite_by": "apalike",
   "current_citInitial": 1,
   "eqLabelWithNumbers": true,
   "eqNumInitial": 1,
   "hotkeys": {
    "equation": "Ctrl-E",
    "itemize": "Ctrl-I"
   },
   "labels_anchors": false,
   "latex_user_defs": false,
   "report_style_numbering": false,
   "user_envs_cfg": false
  },
  "nteract": {
   "version": "0.12.3"
  }
 },
 "nbformat": 4,
 "nbformat_minor": 2
}
