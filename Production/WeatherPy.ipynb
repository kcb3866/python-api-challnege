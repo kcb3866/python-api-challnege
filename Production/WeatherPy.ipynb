{
 "cells": [
  {
   "cell_type": "markdown",
   "metadata": {},
   "source": [
    "# WeatherPy\n",
    "----\n",
    "\n",
    "#### Analysis\n",
    "* As expected, the weather becomes significantly warmer as one approaches the equator (0 Deg. Latitude). More interestingly, however, is the fact that the southern hemisphere tends to be warmer this time of year than the northern hemisphere. This may be due to the tilt of the earth.There is no strong relationship between latitude and cloudiness. However, it is interesting to see that a strong band of cities sits at 0, 80, and 100% cloudiness.There is no strong relationship between latitude and wind speed. However, in northern hemispheres there is a flurry of cities with over 20 mph of wind."
   ]
  },
  {
   "cell_type": "code",
   "execution_count": 1,
   "metadata": {
    "scrolled": true
   },
   "outputs": [],
   "source": [
    "# Dependencies and Setup\n",
    "import matplotlib.pyplot as plt\n",
    "import pandas as pd\n",
    "import numpy as np\n",
    "import requests\n",
    "import time\n",
    "from scipy.stats import linregress\n",
    "\n",
    "# Import API key\n",
    "from api_keys import weather_api_key\n",
    "#api_key = weather_api_key\n",
    "# Incorporated citipy to determine city based on latitude and longitude\n",
    "from citipy import citipy\n",
    "\n",
    "# Output File (CSV)\n",
    "output_data_file = \"output_data/cities.csv\"\n",
    "\n",
    "# Range of latitudes and longitudes\n",
    "lat_range = (-90, 90)\n",
    "lng_range = (-180, 180)"
   ]
  },
  {
   "cell_type": "markdown",
   "metadata": {},
   "source": [
    "## Generate Cities List"
   ]
  },
  {
   "cell_type": "code",
   "execution_count": 2,
   "metadata": {},
   "outputs": [
    {
     "name": "stdout",
     "output_type": "stream",
     "text": [
      "<zip object at 0x000001945C45B888>\n"
     ]
    },
    {
     "data": {
      "text/plain": [
       "603"
      ]
     },
     "execution_count": 2,
     "metadata": {},
     "output_type": "execute_result"
    }
   ],
   "source": [
    "# List for holding lat_lngs and cities\n",
    "lat_lngs = []\n",
    "cities = []\n",
    "\n",
    "# Create a set of random lat and lng combinations\n",
    "lats = np.random.uniform(lat_range[0], lat_range[1], size=1500)\n",
    "lngs = np.random.uniform(lng_range[0], lng_range[1], size=1500)\n",
    "lat_lngs = zip(lats, lngs)\n",
    "print(lat_lngs)\n",
    "# Identify nearest city for each lat, lng combination\n",
    "for lat_lng in lat_lngs:\n",
    "    city = citipy.nearest_city(lat_lng[0], lat_lng[1]).city_name\n",
    "    \n",
    "    # If the city is unique, then add it to a our cities list\n",
    "    if city not in cities:\n",
    "        cities.append(city)\n",
    "\n",
    "# Print the city count to confirm sufficient count\n",
    "len(cities)\n",
    "#debugging no more than 60 per min\n",
    "# cities=cities[0:50]\n",
    "# cities"
   ]
  },
  {
   "cell_type": "markdown",
   "metadata": {},
   "source": [
    "### Perform API Calls\n"
   ]
  },
  {
   "cell_type": "code",
   "execution_count": 9,
   "metadata": {},
   "outputs": [
    {
     "name": "stdout",
     "output_type": "stream",
     "text": [
      "Beginning Data Retrieval     \n",
      "-----------------------------\n",
      "Processing Record 1 of Set 1 | nome\n",
      "Processing Record 2 of Set 1 | arraial do cabo\n",
      "Processing Record 3 of Set 1 | dunedin\n",
      "Processing Record 4 of Set 1 | hobart\n",
      "Processing Record 5 of Set 1 | ariquemes\n",
      "Processing Record 6 of Set 1 | ushuaia\n",
      "Processing Record 7 of Set 1 | inirida\n",
      "Processing Record 8 of Set 1 | illoqqortoormiut\n",
      "City not found. Skipping...\n",
      "Processing Record 9 of Set 1 | saint george\n",
      "Processing Record 10 of Set 1 | san andres\n",
      "Processing Record 11 of Set 1 | hermanus\n",
      "Processing Record 12 of Set 1 | redmond\n",
      "Processing Record 13 of Set 1 | mackay\n",
      "Processing Record 14 of Set 1 | butaritari\n",
      "Processing Record 15 of Set 1 | bolshiye berezniki\n",
      "City not found. Skipping...\n",
      "Processing Record 16 of Set 1 | new norfolk\n",
      "Processing Record 17 of Set 1 | rikitea\n",
      "Processing Record 18 of Set 1 | kinsale\n",
      "Processing Record 19 of Set 1 | castro\n",
      "Processing Record 20 of Set 1 | gigmoto\n",
      "Processing Record 21 of Set 1 | newport\n",
      "Processing Record 22 of Set 1 | mataura\n",
      "Processing Record 23 of Set 1 | vostok\n",
      "Processing Record 24 of Set 1 | bredasdorp\n",
      "Processing Record 25 of Set 1 | asau\n",
      "Processing Record 26 of Set 1 | qaanaaq\n",
      "Processing Record 27 of Set 1 | yumen\n",
      "Processing Record 28 of Set 1 | takoradi\n",
      "Processing Record 29 of Set 1 | san luis\n",
      "Processing Record 30 of Set 1 | kapaa\n",
      "Processing Record 31 of Set 1 | punta arenas\n",
      "Processing Record 32 of Set 1 | cape town\n",
      "Processing Record 33 of Set 1 | denpasar\n",
      "Processing Record 34 of Set 1 | cap malheureux\n",
      "Processing Record 35 of Set 1 | grindavik\n",
      "Processing Record 36 of Set 1 | port blair\n",
      "Processing Record 37 of Set 1 | ribeira grande\n",
      "Processing Record 38 of Set 1 | mount gambier\n",
      "Processing Record 39 of Set 1 | dikson\n",
      "Processing Record 40 of Set 1 | talaya\n",
      "Processing Record 41 of Set 1 | matara\n",
      "Processing Record 42 of Set 1 | tiarei\n",
      "Processing Record 43 of Set 1 | awbari\n",
      "Processing Record 44 of Set 1 | san patricio\n",
      "Processing Record 45 of Set 1 | omboue\n",
      "Processing Record 46 of Set 1 | tombouctou\n",
      "Processing Record 47 of Set 1 | surgut\n",
      "Processing Record 48 of Set 1 | leningradskiy\n",
      "Processing Record 49 of Set 1 | upernavik\n",
      "Processing Record 50 of Set 1 | bethel\n",
      "Processing Record 0 of Set 2 | jamestown\n",
      "Processing Record 1 of Set 2 | port alfred\n",
      "Processing Record 2 of Set 2 | yako\n",
      "Processing Record 3 of Set 2 | kirillov\n",
      "Processing Record 4 of Set 2 | korla\n",
      "Processing Record 5 of Set 2 | saint-philippe\n",
      "Processing Record 6 of Set 2 | albany\n",
      "Processing Record 7 of Set 2 | tiksi\n",
      "Processing Record 8 of Set 2 | isangel\n",
      "Processing Record 9 of Set 2 | hilo\n",
      "Processing Record 10 of Set 2 | saleaula\n",
      "City not found. Skipping...\n",
      "Processing Record 11 of Set 2 | chuy\n",
      "Processing Record 12 of Set 2 | bergen\n",
      "Processing Record 13 of Set 2 | samusu\n",
      "City not found. Skipping...\n",
      "Processing Record 14 of Set 2 | henties bay\n",
      "Processing Record 15 of Set 2 | dong hoi\n",
      "Processing Record 16 of Set 2 | tasiilaq\n",
      "Processing Record 17 of Set 2 | yanan\n",
      "City not found. Skipping...\n",
      "Processing Record 18 of Set 2 | prince albert\n",
      "Processing Record 19 of Set 2 | rio grande\n",
      "Processing Record 20 of Set 2 | abhar\n",
      "Processing Record 21 of Set 2 | mackenzie\n",
      "Processing Record 22 of Set 2 | san quintin\n",
      "Processing Record 23 of Set 2 | cidreira\n",
      "Processing Record 24 of Set 2 | victoria\n",
      "Processing Record 25 of Set 2 | nelson bay\n",
      "Processing Record 26 of Set 2 | provideniya\n",
      "Processing Record 27 of Set 2 | najran\n",
      "Processing Record 28 of Set 2 | boizenburg\n",
      "Processing Record 29 of Set 2 | lavrentiya\n",
      "Processing Record 30 of Set 2 | north bend\n",
      "Processing Record 31 of Set 2 | kavieng\n",
      "Processing Record 32 of Set 2 | avarua\n",
      "Processing Record 33 of Set 2 | touros\n",
      "Processing Record 34 of Set 2 | buy\n",
      "Processing Record 35 of Set 2 | znamenskoye\n",
      "Processing Record 36 of Set 2 | narsaq\n",
      "Processing Record 37 of Set 2 | atuona\n",
      "Processing Record 38 of Set 2 | mar del plata\n",
      "Processing Record 39 of Set 2 | alofi\n",
      "Processing Record 40 of Set 2 | goderich\n",
      "Processing Record 41 of Set 2 | saldanha\n",
      "Processing Record 42 of Set 2 | chokurdakh\n",
      "Processing Record 43 of Set 2 | esperance\n",
      "Processing Record 44 of Set 2 | college\n",
      "Processing Record 45 of Set 2 | busselton\n",
      "Processing Record 46 of Set 2 | severo-kurilsk\n",
      "Processing Record 47 of Set 2 | svetlogorsk\n",
      "Processing Record 48 of Set 2 | salalah\n",
      "Processing Record 49 of Set 2 | mwanza\n",
      "Processing Record 0 of Set 3 | ye\n",
      "City not found. Skipping...\n",
      "Processing Record 1 of Set 3 | bongor\n",
      "Processing Record 2 of Set 3 | clyde river\n",
      "Processing Record 3 of Set 3 | lae\n",
      "Processing Record 4 of Set 3 | westport\n",
      "Processing Record 5 of Set 3 | san matias\n",
      "Processing Record 6 of Set 3 | barrow\n",
      "Processing Record 7 of Set 3 | qandala\n",
      "Processing Record 8 of Set 3 | longyearbyen\n",
      "Processing Record 9 of Set 3 | cherskiy\n",
      "Processing Record 10 of Set 3 | kilosa\n",
      "Processing Record 11 of Set 3 | malwan\n",
      "City not found. Skipping...\n",
      "Processing Record 12 of Set 3 | puerto ayora\n",
      "Processing Record 13 of Set 3 | waingapu\n",
      "Processing Record 14 of Set 3 | deputatskiy\n",
      "Processing Record 15 of Set 3 | vardo\n",
      "Processing Record 16 of Set 3 | saint pete beach\n",
      "Processing Record 17 of Set 3 | kosice\n",
      "Processing Record 18 of Set 3 | hamilton\n",
      "Processing Record 19 of Set 3 | balabac\n",
      "Processing Record 20 of Set 3 | bonavista\n",
      "Processing Record 21 of Set 3 | ostrovnoy\n",
      "Processing Record 22 of Set 3 | lanzhou\n",
      "Processing Record 23 of Set 3 | tuatapere\n",
      "Processing Record 24 of Set 3 | oussouye\n",
      "Processing Record 25 of Set 3 | georgetown\n",
      "Processing Record 26 of Set 3 | camana\n",
      "Processing Record 27 of Set 3 | torbay\n",
      "Processing Record 28 of Set 3 | ossora\n",
      "Processing Record 29 of Set 3 | sitka\n",
      "Processing Record 30 of Set 3 | saint-augustin\n",
      "Processing Record 31 of Set 3 | bubaque\n",
      "Processing Record 32 of Set 3 | kaitangata\n",
      "Processing Record 33 of Set 3 | kodiak\n",
      "Processing Record 34 of Set 3 | okhotsk\n",
      "Processing Record 35 of Set 3 | nikolskoye\n",
      "Processing Record 36 of Set 3 | thompson\n",
      "Processing Record 37 of Set 3 | ayan\n",
      "Processing Record 38 of Set 3 | belushya guba\n",
      "City not found. Skipping...\n",
      "Processing Record 39 of Set 3 | wilmington\n",
      "Processing Record 40 of Set 3 | anadyr\n",
      "Processing Record 41 of Set 3 | bengkulu\n",
      "Processing Record 42 of Set 3 | tumannyy\n",
      "City not found. Skipping...\n",
      "Processing Record 43 of Set 3 | tsihombe\n",
      "City not found. Skipping...\n",
      "Processing Record 44 of Set 3 | rocha\n",
      "Processing Record 45 of Set 3 | malaryta\n",
      "Processing Record 46 of Set 3 | saint-pierre\n",
      "Processing Record 47 of Set 3 | margate\n",
      "Processing Record 48 of Set 3 | olinda\n",
      "Processing Record 49 of Set 3 | rungata\n",
      "City not found. Skipping...\n",
      "Processing Record 0 of Set 4 | dingli\n",
      "Processing Record 1 of Set 4 | kieta\n",
      "Processing Record 2 of Set 4 | faanui\n",
      "Processing Record 3 of Set 4 | eppingen\n",
      "Processing Record 4 of Set 4 | molina\n",
      "Processing Record 5 of Set 4 | east london\n",
      "Processing Record 6 of Set 4 | aginskoye\n",
      "Processing Record 7 of Set 4 | geraldton\n",
      "Processing Record 8 of Set 4 | warman\n",
      "Processing Record 9 of Set 4 | vila franca do campo\n",
      "Processing Record 10 of Set 4 | ushtobe\n",
      "Processing Record 11 of Set 4 | kachug\n",
      "Processing Record 12 of Set 4 | tucuman\n",
      "Processing Record 13 of Set 4 | tabou\n",
      "Processing Record 14 of Set 4 | sinnamary\n",
      "Processing Record 15 of Set 4 | hobyo\n",
      "Processing Record 16 of Set 4 | baglung\n",
      "Processing Record 17 of Set 4 | kachiry\n",
      "Processing Record 18 of Set 4 | ibra\n",
      "Processing Record 19 of Set 4 | saskylakh\n",
      "Processing Record 20 of Set 4 | necochea\n",
      "Processing Record 21 of Set 4 | khatanga\n",
      "Processing Record 22 of Set 4 | sretensk\n",
      "Processing Record 23 of Set 4 | tarudant\n",
      "City not found. Skipping...\n",
      "Processing Record 24 of Set 4 | sohag\n",
      "Processing Record 25 of Set 4 | gogrial\n",
      "Processing Record 26 of Set 4 | oistins\n",
      "Processing Record 27 of Set 4 | kamenka\n",
      "Processing Record 28 of Set 4 | haibowan\n",
      "City not found. Skipping...\n",
      "Processing Record 29 of Set 4 | bluff\n",
      "Processing Record 30 of Set 4 | sfantu gheorghe\n",
      "Processing Record 31 of Set 4 | maniitsoq\n",
      "Processing Record 32 of Set 4 | lagoa\n",
      "Processing Record 33 of Set 4 | taolanaro\n",
      "City not found. Skipping...\n",
      "Processing Record 34 of Set 4 | nanchang\n",
      "Processing Record 35 of Set 4 | attawapiskat\n",
      "City not found. Skipping...\n",
      "Processing Record 36 of Set 4 | port elizabeth\n",
      "Processing Record 37 of Set 4 | bambous virieux\n",
      "Processing Record 38 of Set 4 | simoes\n"
     ]
    },
    {
     "name": "stdout",
     "output_type": "stream",
     "text": [
      "Processing Record 39 of Set 4 | verkhnevilyuysk\n",
      "Processing Record 40 of Set 4 | viedma\n",
      "Processing Record 41 of Set 4 | fort nelson\n",
      "Processing Record 42 of Set 4 | vaini\n",
      "Processing Record 43 of Set 4 | broken hill\n",
      "Processing Record 44 of Set 4 | cabo san lucas\n",
      "Processing Record 45 of Set 4 | klaksvik\n",
      "Processing Record 46 of Set 4 | lata\n",
      "Processing Record 47 of Set 4 | ayna\n",
      "Processing Record 48 of Set 4 | lebu\n",
      "Processing Record 49 of Set 4 | kirakira\n",
      "Processing Record 0 of Set 5 | concordia\n",
      "Processing Record 1 of Set 5 | rock sound\n",
      "Processing Record 2 of Set 5 | sechura\n",
      "Processing Record 3 of Set 5 | agboville\n",
      "Processing Record 4 of Set 5 | namibe\n",
      "Processing Record 5 of Set 5 | weligama\n",
      "Processing Record 6 of Set 5 | ilka\n",
      "City not found. Skipping...\n",
      "Processing Record 7 of Set 5 | khao wong\n",
      "Processing Record 8 of Set 5 | guerrero negro\n",
      "Processing Record 9 of Set 5 | hosangadi\n",
      "Processing Record 10 of Set 5 | nhulunbuy\n",
      "Processing Record 11 of Set 5 | shingu\n",
      "Processing Record 12 of Set 5 | los llanos de aridane\n",
      "Processing Record 13 of Set 5 | tura\n",
      "Processing Record 14 of Set 5 | alakurtti\n",
      "Processing Record 15 of Set 5 | pisco\n",
      "Processing Record 16 of Set 5 | vila velha\n",
      "Processing Record 17 of Set 5 | souillac\n",
      "Processing Record 18 of Set 5 | kingsville\n",
      "Processing Record 19 of Set 5 | asyut\n",
      "Processing Record 20 of Set 5 | iqaluit\n",
      "Processing Record 21 of Set 5 | nha trang\n",
      "Processing Record 22 of Set 5 | whitefish\n",
      "Processing Record 23 of Set 5 | bathsheba\n",
      "Processing Record 24 of Set 5 | maraba\n",
      "Processing Record 25 of Set 5 | inyonga\n",
      "Processing Record 26 of Set 5 | saint-francois\n",
      "Processing Record 27 of Set 5 | nizhneyansk\n",
      "City not found. Skipping...\n",
      "Processing Record 28 of Set 5 | havoysund\n",
      "Processing Record 29 of Set 5 | tevaitoa\n",
      "Processing Record 30 of Set 5 | baoqing\n",
      "Processing Record 31 of Set 5 | ilulissat\n",
      "Processing Record 32 of Set 5 | fortuna\n",
      "Processing Record 33 of Set 5 | sharan\n",
      "Processing Record 34 of Set 5 | steinbach\n",
      "Processing Record 35 of Set 5 | tungkang\n",
      "City not found. Skipping...\n",
      "Processing Record 36 of Set 5 | vanavara\n",
      "Processing Record 37 of Set 5 | porosozero\n",
      "Processing Record 38 of Set 5 | alice springs\n",
      "Processing Record 39 of Set 5 | pitimbu\n",
      "Processing Record 40 of Set 5 | nantucket\n",
      "Processing Record 41 of Set 5 | punta alta\n",
      "Processing Record 42 of Set 5 | yar-sale\n",
      "Processing Record 43 of Set 5 | nelson\n",
      "Processing Record 44 of Set 5 | skjervoy\n",
      "Processing Record 45 of Set 5 | mustang\n",
      "Processing Record 46 of Set 5 | hithadhoo\n",
      "Processing Record 47 of Set 5 | nachalovo\n",
      "Processing Record 48 of Set 5 | freeport\n",
      "Processing Record 49 of Set 5 | yellowknife\n",
      "Processing Record 0 of Set 6 | mount isa\n",
      "Processing Record 1 of Set 6 | ishigaki\n",
      "Processing Record 2 of Set 6 | bargal\n",
      "City not found. Skipping...\n",
      "Processing Record 3 of Set 6 | chavakkad\n",
      "Processing Record 4 of Set 6 | taunggyi\n",
      "Processing Record 5 of Set 6 | la ronge\n",
      "Processing Record 6 of Set 6 | quatre cocos\n",
      "Processing Record 7 of Set 6 | tuktoyaktuk\n",
      "Processing Record 8 of Set 6 | avera\n",
      "Processing Record 9 of Set 6 | kununurra\n",
      "Processing Record 10 of Set 6 | nemuro\n",
      "Processing Record 11 of Set 6 | coihaique\n",
      "Processing Record 12 of Set 6 | lorengau\n",
      "Processing Record 13 of Set 6 | sumenep\n",
      "Processing Record 14 of Set 6 | laguna\n",
      "Processing Record 15 of Set 6 | atbasar\n",
      "Processing Record 16 of Set 6 | fare\n",
      "Processing Record 17 of Set 6 | belgrade\n",
      "Processing Record 18 of Set 6 | mayskiy\n",
      "Processing Record 19 of Set 6 | aykhal\n",
      "Processing Record 20 of Set 6 | karratha\n",
      "Processing Record 21 of Set 6 | alenquer\n",
      "Processing Record 22 of Set 6 | barentsburg\n",
      "City not found. Skipping...\n",
      "Processing Record 23 of Set 6 | peleduy\n",
      "Processing Record 24 of Set 6 | raga\n",
      "Processing Record 25 of Set 6 | grand island\n",
      "Processing Record 26 of Set 6 | fevralsk\n",
      "City not found. Skipping...\n",
      "Processing Record 27 of Set 6 | gambela\n",
      "Processing Record 28 of Set 6 | san cristobal\n",
      "Processing Record 29 of Set 6 | azul\n",
      "Processing Record 30 of Set 6 | shevchenkove\n",
      "Processing Record 31 of Set 6 | la paz\n",
      "Processing Record 32 of Set 6 | camacha\n",
      "Processing Record 33 of Set 6 | husavik\n",
      "Processing Record 34 of Set 6 | sao joao da barra\n",
      "Processing Record 35 of Set 6 | garavuti\n",
      "Processing Record 36 of Set 6 | rancharia\n",
      "Processing Record 37 of Set 6 | itoman\n",
      "Processing Record 38 of Set 6 | lufilufi\n",
      "Processing Record 39 of Set 6 | pemangkat\n",
      "Processing Record 40 of Set 6 | kenai\n",
      "Processing Record 41 of Set 6 | colorado\n",
      "Processing Record 42 of Set 6 | airai\n",
      "Processing Record 43 of Set 6 | port shepstone\n",
      "Processing Record 44 of Set 6 | tunceli\n",
      "Processing Record 45 of Set 6 | rabo de peixe\n",
      "Processing Record 46 of Set 6 | inhambane\n",
      "Processing Record 47 of Set 6 | ormara\n",
      "Processing Record 48 of Set 6 | vite\n",
      "Processing Record 49 of Set 6 | ornskoldsvik\n",
      "Processing Record 0 of Set 7 | flinders\n",
      "Processing Record 1 of Set 7 | vao\n",
      "Processing Record 2 of Set 7 | lolua\n",
      "City not found. Skipping...\n",
      "Processing Record 3 of Set 7 | codrington\n",
      "Processing Record 4 of Set 7 | porto walter\n",
      "Processing Record 5 of Set 7 | broome\n",
      "Processing Record 6 of Set 7 | shiyan\n",
      "Processing Record 7 of Set 7 | zharkent\n",
      "Processing Record 8 of Set 7 | liberia\n",
      "Processing Record 9 of Set 7 | kahului\n",
      "Processing Record 10 of Set 7 | tarakan\n",
      "Processing Record 11 of Set 7 | zabaykalsk\n",
      "Processing Record 12 of Set 7 | swanzey\n",
      "Processing Record 13 of Set 7 | mangan\n",
      "Processing Record 14 of Set 7 | louisbourg\n",
      "City not found. Skipping...\n",
      "Processing Record 15 of Set 7 | fairbanks\n",
      "Processing Record 16 of Set 7 | tuban\n",
      "Processing Record 17 of Set 7 | luderitz\n",
      "Processing Record 18 of Set 7 | jizan\n",
      "Processing Record 19 of Set 7 | donskoye\n",
      "Processing Record 20 of Set 7 | caxias\n",
      "Processing Record 21 of Set 7 | piacabucu\n",
      "Processing Record 22 of Set 7 | atar\n",
      "Processing Record 23 of Set 7 | mount pleasant\n",
      "Processing Record 24 of Set 7 | ponta do sol\n",
      "Processing Record 25 of Set 7 | ancud\n",
      "Processing Record 26 of Set 7 | pasighat\n",
      "Processing Record 27 of Set 7 | churapcha\n",
      "Processing Record 28 of Set 7 | mys shmidta\n",
      "City not found. Skipping...\n",
      "Processing Record 29 of Set 7 | lere\n",
      "Processing Record 30 of Set 7 | berlevag\n",
      "Processing Record 31 of Set 7 | jinchengjiang\n",
      "City not found. Skipping...\n",
      "Processing Record 32 of Set 7 | kitimat\n",
      "Processing Record 33 of Set 7 | sentyabrskiy\n",
      "City not found. Skipping...\n",
      "Processing Record 34 of Set 7 | aljezur\n",
      "Processing Record 35 of Set 7 | paamiut\n",
      "Processing Record 36 of Set 7 | kuching\n",
      "Processing Record 37 of Set 7 | lerwick\n",
      "Processing Record 38 of Set 7 | beaverlodge\n",
      "Processing Record 39 of Set 7 | zhigansk\n",
      "Processing Record 40 of Set 7 | norman wells\n",
      "Processing Record 41 of Set 7 | waipawa\n",
      "Processing Record 42 of Set 7 | maralal\n",
      "Processing Record 43 of Set 7 | kamenskoye\n",
      "City not found. Skipping...\n",
      "Processing Record 44 of Set 7 | hemsedal\n",
      "Processing Record 45 of Set 7 | itarema\n",
      "Processing Record 46 of Set 7 | caucaia\n",
      "Processing Record 47 of Set 7 | qaqortoq\n",
      "Processing Record 48 of Set 7 | hasaki\n",
      "Processing Record 49 of Set 7 | nishihara\n",
      "Processing Record 0 of Set 8 | khormuj\n",
      "City not found. Skipping...\n",
      "Processing Record 1 of Set 8 | ngukurr\n",
      "City not found. Skipping...\n",
      "Processing Record 2 of Set 8 | caravelas\n",
      "Processing Record 3 of Set 8 | prince rupert\n",
      "Processing Record 4 of Set 8 | calvinia\n",
      "Processing Record 5 of Set 8 | san felice sul panaro\n",
      "Processing Record 6 of Set 8 | faya\n",
      "Processing Record 7 of Set 8 | mora\n",
      "Processing Record 8 of Set 8 | lindsay\n",
      "Processing Record 9 of Set 8 | atambua\n",
      "Processing Record 10 of Set 8 | bolivar\n",
      "Processing Record 11 of Set 8 | nicoya\n",
      "Processing Record 12 of Set 8 | ballina\n",
      "Processing Record 13 of Set 8 | moose factory\n",
      "Processing Record 14 of Set 8 | cayenne\n",
      "Processing Record 15 of Set 8 | sorong\n",
      "Processing Record 16 of Set 8 | lakes entrance\n",
      "Processing Record 17 of Set 8 | tungi\n",
      "Processing Record 18 of Set 8 | dvinskoy\n",
      "Processing Record 19 of Set 8 | hualmay\n",
      "Processing Record 20 of Set 8 | leiyang\n",
      "Processing Record 21 of Set 8 | shimoda\n",
      "Processing Record 22 of Set 8 | trujillo\n",
      "Processing Record 23 of Set 8 | zhezkazgan\n",
      "Processing Record 24 of Set 8 | metlaltoyuca\n",
      "Processing Record 25 of Set 8 | kommunisticheskiy\n",
      "Processing Record 26 of Set 8 | muli\n",
      "Processing Record 27 of Set 8 | itaituba\n",
      "Processing Record 28 of Set 8 | bichena\n"
     ]
    },
    {
     "name": "stdout",
     "output_type": "stream",
     "text": [
      "Processing Record 29 of Set 8 | hollins\n",
      "Processing Record 30 of Set 8 | labuhan\n",
      "Processing Record 31 of Set 8 | balkanabat\n",
      "Processing Record 32 of Set 8 | tilichiki\n",
      "Processing Record 33 of Set 8 | satrikh\n",
      "Processing Record 34 of Set 8 | brae\n",
      "Processing Record 35 of Set 8 | rosarito\n",
      "Processing Record 36 of Set 8 | port lincoln\n",
      "Processing Record 37 of Set 8 | puro\n",
      "Processing Record 38 of Set 8 | komsomolskoye\n",
      "Processing Record 39 of Set 8 | eyl\n",
      "Processing Record 40 of Set 8 | marystown\n",
      "Processing Record 41 of Set 8 | tonekabon\n",
      "Processing Record 42 of Set 8 | lexington park\n",
      "Processing Record 43 of Set 8 | marzuq\n",
      "Processing Record 44 of Set 8 | krasnyy chikoy\n",
      "Processing Record 45 of Set 8 | whitehorse\n",
      "Processing Record 46 of Set 8 | lucapa\n",
      "Processing Record 47 of Set 8 | solnechnyy\n",
      "Processing Record 48 of Set 8 | hambantota\n",
      "Processing Record 49 of Set 8 | kalengwa\n",
      "Processing Record 0 of Set 9 | dali\n",
      "Processing Record 1 of Set 9 | chicama\n",
      "Processing Record 2 of Set 9 | paita\n",
      "Processing Record 3 of Set 9 | beckley\n",
      "Processing Record 4 of Set 9 | tazmalt\n",
      "Processing Record 5 of Set 9 | tasbuget\n",
      "City not found. Skipping...\n",
      "Processing Record 6 of Set 9 | iberia\n",
      "Processing Record 7 of Set 9 | lake havasu city\n",
      "Processing Record 8 of Set 9 | forestville\n",
      "Processing Record 9 of Set 9 | esso\n",
      "Processing Record 10 of Set 9 | kristiinankaupunki\n",
      "Processing Record 11 of Set 9 | constitucion\n",
      "Processing Record 12 of Set 9 | honningsvag\n",
      "Processing Record 13 of Set 9 | wenatchee\n",
      "Processing Record 14 of Set 9 | san vicente\n",
      "Processing Record 15 of Set 9 | dien bien\n",
      "City not found. Skipping...\n",
      "Processing Record 16 of Set 9 | havre-saint-pierre\n",
      "Processing Record 17 of Set 9 | loandjili\n",
      "Processing Record 18 of Set 9 | gat\n",
      "Processing Record 19 of Set 9 | kantunilkin\n",
      "Processing Record 20 of Set 9 | kungurtug\n",
      "Processing Record 21 of Set 9 | traverse city\n",
      "Processing Record 22 of Set 9 | sandnessjoen\n",
      "Processing Record 23 of Set 9 | nambour\n",
      "Processing Record 24 of Set 9 | tessalit\n",
      "Processing Record 25 of Set 9 | bogorodskoye\n",
      "Processing Record 26 of Set 9 | tecoanapa\n",
      "Processing Record 27 of Set 9 | tabas\n",
      "Processing Record 28 of Set 9 | krasnoselkup\n",
      "Processing Record 29 of Set 9 | yulara\n",
      "Processing Record 30 of Set 9 | la libertad\n",
      "Processing Record 31 of Set 9 | zhumadian\n",
      "Processing Record 32 of Set 9 | north tonawanda\n",
      "Processing Record 33 of Set 9 | tubruq\n",
      "City not found. Skipping...\n",
      "Processing Record 34 of Set 9 | nioro\n",
      "Processing Record 35 of Set 9 | grand river south east\n",
      "City not found. Skipping...\n",
      "Processing Record 36 of Set 9 | mecca\n",
      "Processing Record 37 of Set 9 | magadan\n",
      "Processing Record 38 of Set 9 | promyshlennyy\n",
      "Processing Record 39 of Set 9 | cockburn town\n",
      "Processing Record 40 of Set 9 | namatanai\n",
      "Processing Record 41 of Set 9 | pundaguitan\n",
      "Processing Record 42 of Set 9 | wuwei\n",
      "Processing Record 43 of Set 9 | cururupu\n",
      "Processing Record 44 of Set 9 | totness\n",
      "Processing Record 45 of Set 9 | altay\n",
      "Processing Record 46 of Set 9 | samarai\n",
      "Processing Record 47 of Set 9 | carnarvon\n",
      "Processing Record 48 of Set 9 | xingcheng\n",
      "Processing Record 49 of Set 9 | conneaut\n",
      "Processing Record 0 of Set 10 | krasnoarmeysk\n",
      "Processing Record 1 of Set 10 | mathbaria\n",
      "Processing Record 2 of Set 10 | verkhnyaya inta\n",
      "Processing Record 3 of Set 10 | genhe\n",
      "Processing Record 4 of Set 10 | meadow lake\n",
      "Processing Record 5 of Set 10 | toamasina\n",
      "Processing Record 6 of Set 10 | urumqi\n",
      "Processing Record 7 of Set 10 | katsiveli\n",
      "City not found. Skipping...\n",
      "Processing Record 8 of Set 10 | gondanglegi\n",
      "Processing Record 9 of Set 10 | hanstholm\n",
      "Processing Record 10 of Set 10 | pozo colorado\n",
      "Processing Record 11 of Set 10 | hervey bay\n",
      "Processing Record 12 of Set 10 | veraval\n",
      "Processing Record 13 of Set 10 | moron\n",
      "Processing Record 14 of Set 10 | tual\n",
      "Processing Record 15 of Set 10 | marcona\n",
      "City not found. Skipping...\n",
      "Processing Record 16 of Set 10 | lasa\n",
      "Processing Record 17 of Set 10 | imperia\n",
      "Processing Record 18 of Set 10 | denau\n",
      "City not found. Skipping...\n",
      "Processing Record 19 of Set 10 | artyk\n",
      "City not found. Skipping...\n",
      "Processing Record 20 of Set 10 | lipin bor\n",
      "Processing Record 21 of Set 10 | pangnirtung\n",
      "Processing Record 22 of Set 10 | samalaeulu\n",
      "City not found. Skipping...\n",
      "Processing Record 23 of Set 10 | gondang\n",
      "Processing Record 24 of Set 10 | paka\n",
      "Processing Record 25 of Set 10 | petropavlovsk-kamchatskiy\n",
      "Processing Record 26 of Set 10 | port-cartier\n",
      "Processing Record 27 of Set 10 | rozvadiv\n",
      "Processing Record 28 of Set 10 | nanga eboko\n",
      "Processing Record 29 of Set 10 | richards bay\n",
      "Processing Record 30 of Set 10 | katsuura\n",
      "Processing Record 31 of Set 10 | bilibino\n",
      "Processing Record 32 of Set 10 | thinadhoo\n",
      "Processing Record 33 of Set 10 | minab\n",
      "Processing Record 34 of Set 10 | jalor\n",
      "Processing Record 35 of Set 10 | onega\n",
      "Processing Record 36 of Set 10 | thaba-tseka\n",
      "Processing Record 37 of Set 10 | shieli\n",
      "Processing Record 38 of Set 10 | dayong\n",
      "Processing Record 39 of Set 10 | manawar\n",
      "Processing Record 40 of Set 10 | andarab\n",
      "City not found. Skipping...\n",
      "Processing Record 41 of Set 10 | waddan\n",
      "Processing Record 42 of Set 10 | nanortalik\n",
      "Processing Record 43 of Set 10 | bonthe\n",
      "Processing Record 44 of Set 10 | stokmarknes\n",
      "Processing Record 45 of Set 10 | yarmolyntsi\n",
      "Processing Record 46 of Set 10 | luganville\n",
      "Processing Record 47 of Set 10 | vaitupu\n",
      "City not found. Skipping...\n",
      "Processing Record 48 of Set 10 | kadykchan\n",
      "City not found. Skipping...\n",
      "Processing Record 49 of Set 10 | belmonte\n",
      "Processing Record 0 of Set 11 | gwembe\n",
      "Processing Record 1 of Set 11 | baruun-urt\n",
      "Processing Record 2 of Set 11 | gamba\n",
      "Processing Record 3 of Set 11 | aflu\n",
      "City not found. Skipping...\n",
      "Processing Record 4 of Set 11 | santa flavia\n",
      "Processing Record 5 of Set 11 | bandipur\n",
      "Processing Record 6 of Set 11 | natal\n",
      "Processing Record 7 of Set 11 | marechal candido rondon\n",
      "Processing Record 8 of Set 11 | kruisfontein\n",
      "Processing Record 9 of Set 11 | amderma\n",
      "City not found. Skipping...\n",
      "Processing Record 10 of Set 11 | poum\n",
      "Processing Record 11 of Set 11 | aswan\n",
      "Processing Record 12 of Set 11 | ust-ilimsk\n",
      "Processing Record 13 of Set 11 | bima\n",
      "Processing Record 14 of Set 11 | sibolga\n",
      "Processing Record 15 of Set 11 | hihifo\n",
      "City not found. Skipping...\n",
      "Processing Record 16 of Set 11 | pyinmana\n",
      "Processing Record 17 of Set 11 | naze\n",
      "Processing Record 18 of Set 11 | xianyang\n",
      "Processing Record 19 of Set 11 | amalapuram\n",
      "Processing Record 20 of Set 11 | komsomolskiy\n",
      "Processing Record 21 of Set 11 | stanilesti\n",
      "Processing Record 22 of Set 11 | tagusao\n",
      "Processing Record 23 of Set 11 | carberry\n",
      "Processing Record 24 of Set 11 | vancouver\n",
      "Processing Record 25 of Set 11 | bandarbeyla\n",
      "Processing Record 26 of Set 11 | magdagachi\n",
      "Processing Record 27 of Set 11 | joetsu\n",
      "Processing Record 28 of Set 11 | pucara\n",
      "Processing Record 29 of Set 11 | toftir\n",
      "City not found. Skipping...\n",
      "Processing Record 30 of Set 11 | bolungarvik\n",
      "City not found. Skipping...\n",
      "Processing Record 31 of Set 11 | mehamn\n",
      "Processing Record 32 of Set 11 | emporia\n",
      "Processing Record 33 of Set 11 | port hueneme\n",
      "Processing Record 34 of Set 11 | aklavik\n",
      "Processing Record 35 of Set 11 | odweyne\n",
      "Processing Record 36 of Set 11 | lianzhou\n",
      "Processing Record 37 of Set 11 | calama\n",
      "Processing Record 38 of Set 11 | rio gallegos\n",
      "Processing Record 39 of Set 11 | beringovskiy\n",
      "Processing Record 40 of Set 11 | waterbury\n",
      "Processing Record 41 of Set 11 | nortelandia\n",
      "Processing Record 42 of Set 11 | falealupo\n",
      "City not found. Skipping...\n",
      "Processing Record 43 of Set 11 | las vegas\n",
      "Processing Record 44 of Set 11 | panama city\n",
      "Processing Record 45 of Set 11 | mouzakion\n",
      "City not found. Skipping...\n",
      "Processing Record 46 of Set 11 | haines junction\n",
      "Processing Record 47 of Set 11 | saint-denis\n",
      "Processing Record 48 of Set 11 | chifeng\n",
      "Processing Record 49 of Set 11 | constantine\n",
      "Processing Record 0 of Set 12 | byron bay\n",
      "Processing Record 1 of Set 12 | briceno\n",
      "Processing Record 2 of Set 12 | serik\n",
      "Processing Record 3 of Set 12 | port dover\n",
      "Processing Record 4 of Set 12 | noumea\n",
      "Processing Record 5 of Set 12 | tsarychanka\n",
      "Processing Record 6 of Set 12 | anchorage\n",
      "Processing Record 7 of Set 12 | saint anthony\n",
      "Processing Record 8 of Set 12 | formosa\n",
      "Processing Record 9 of Set 12 | baiyin\n",
      "Processing Record 10 of Set 12 | bereda\n"
     ]
    },
    {
     "name": "stdout",
     "output_type": "stream",
     "text": [
      "Processing Record 11 of Set 12 | ponta pora\n",
      "Processing Record 12 of Set 12 | ndele\n",
      "Processing Record 13 of Set 12 | edinburg\n",
      "Processing Record 14 of Set 12 | channel-port aux basques\n",
      "Processing Record 15 of Set 12 | kendari\n",
      "Processing Record 16 of Set 12 | gornoye loo\n",
      "Processing Record 17 of Set 12 | nizhneudinsk\n",
      "Processing Record 18 of Set 12 | panalingaan\n",
      "Processing Record 19 of Set 12 | segou\n",
      "Processing Record 20 of Set 12 | shouguang\n",
      "Processing Record 21 of Set 12 | dalby\n",
      "Processing Record 22 of Set 12 | syedove\n",
      "Processing Record 23 of Set 12 | palabuhanratu\n",
      "City not found. Skipping...\n",
      "Processing Record 24 of Set 12 | ankazobe\n",
      "Processing Record 25 of Set 12 | zarechnyy\n",
      "Processing Record 26 of Set 12 | bolshaya sosnova\n",
      "Processing Record 27 of Set 12 | rancho palos verdes\n",
      "Processing Record 28 of Set 12 | puerto ayacucho\n",
      "Processing Record 29 of Set 12 | tahlequah\n",
      "Processing Record 30 of Set 12 | kutum\n",
      "Processing Record 31 of Set 12 | mount darwin\n",
      "Processing Record 32 of Set 12 | stamsund\n",
      "City not found. Skipping...\n",
      "Processing Record 33 of Set 12 | chara\n",
      "Processing Record 34 of Set 12 | san diego de los banos\n",
      "Processing Record 35 of Set 12 | burica\n",
      "City not found. Skipping...\n",
      "Processing Record 36 of Set 12 | bambanglipuro\n",
      "Processing Record 37 of Set 12 | narbonne\n",
      "Processing Record 38 of Set 12 | vila\n",
      "Processing Record 39 of Set 12 | svetlaya\n",
      "Processing Record 40 of Set 12 | tiznit\n",
      "Processing Record 41 of Set 12 | serro\n",
      "Processing Record 42 of Set 12 | pacific grove\n",
      "Processing Record 43 of Set 12 | kudahuvadhoo\n",
      "Processing Record 44 of Set 12 | conway\n",
      "Processing Record 45 of Set 12 | neokhorion\n",
      "Processing Record 46 of Set 12 | dunboyne\n",
      "Processing Record 47 of Set 12 | dhidhdhoo\n",
      "Processing Record 48 of Set 12 | boguchany\n",
      "Processing Record 49 of Set 12 | impfondo\n",
      "Processing Record 0 of Set 13 | harper\n",
      "Processing Record 1 of Set 13 | great falls\n",
      "Processing Record 2 of Set 13 | yadrin\n",
      "-----------------------\n",
      "Processing Finished!\n",
      "-----------------------\n"
     ]
    }
   ],
   "source": [
    "url = \"http://api.openweathermap.org/data/2.5/weather?units=Imperial&APPID=\" + weather_api_key\n",
    "city_data = []\n",
    "\n",
    "print(\"Beginning Data Retrieval     \")\n",
    "print(\"-----------------------------\")\n",
    "\n",
    "#number\n",
    "record_number=1\n",
    "series_number = 1\n",
    "\n",
    "# Include a print log of each city as it'sbeing processed (with the city number and city name).\n",
    "for i, city in enumerate(cities):\n",
    "    \n",
    "    if (i % 50 == 0 and i >= 50):\n",
    "        series_number += 1\n",
    "        record_number = 0\n",
    "        \n",
    "    print(\"Processing Record %s of Set %s | %s\" % (record_number, series_number, city)) \n",
    "    \n",
    "    record_number += 1\n",
    "    \n",
    "    query_url = (url) + \"&q=\" + (city)\n",
    "    \n",
    "    try:\n",
    "                \n",
    "        city_weather = requests.get(query_url).json()\n",
    "        \n",
    "#         print(response)\n",
    "        city_lat = city_weather[\"coord\"]['lat']\n",
    "        city_lng = city_weather[\"coord\"][\"lon\"]\n",
    "        city_max_temp = city_weather['main']['temp_max']\n",
    "        city_humidity = city_weather['main']['humidity']\n",
    "        city_clouds = city_weather['clouds']['all']\n",
    "        city_wind = city_weather['wind']['speed']\n",
    "        city_country = city_weather['sys']['country']\n",
    "        city_date = city_weather['dt']\n",
    "        #append to list\n",
    "        city_data.append({\"City\": city, \n",
    "                          \"Lat\": city_lat, \n",
    "                          \"Lng\": city_lng, \n",
    "                          \"Max Temp\": city_max_temp,\n",
    "                          \"Humidity\": city_humidity,\n",
    "                          \"Cloudiness\": city_clouds,\n",
    "                          \"Wind Speed\": city_wind,\n",
    "                          \"Country\": city_country,\n",
    "                          \"Date\": city_date})\n",
    "#         if number % 50:\n",
    "#             time.sleep(60)\n",
    "#             record_number = 1\n",
    "#             series_number += 1\n",
    "# #             city_data_list(city_dict)\n",
    "#         else:\n",
    "#             record_number += 1\n",
    "#             city_data_list(city)\n",
    "       \n",
    "        \n",
    "        \n",
    "    except:\n",
    "        print('City not found. Skipping...')\n",
    "        pass\n",
    "        \n",
    "print(\"-----------------------\")       \n",
    "print(\"Processing Finished!\")\n",
    "print(\"-----------------------\")"
   ]
  },
  {
   "cell_type": "markdown",
   "metadata": {},
   "source": [
    "### Convert Raw Data to DataFrame\n",
    "* Export the city data into a .csv.\n",
    "* Display the DataFrame"
   ]
  },
  {
   "cell_type": "code",
   "execution_count": 10,
   "metadata": {},
   "outputs": [
    {
     "data": {
      "text/plain": [
       "City          552\n",
       "Lat           552\n",
       "Lng           552\n",
       "Max Temp      552\n",
       "Humidity      552\n",
       "Cloudiness    552\n",
       "Wind Speed    552\n",
       "Country       552\n",
       "Date          552\n",
       "dtype: int64"
      ]
     },
     "execution_count": 10,
     "metadata": {},
     "output_type": "execute_result"
    }
   ],
   "source": [
    "\n",
    "# convert to dataframe\n",
    "weather_data = pd.DataFrame(city_data)\n",
    "\n",
    "weather_data.count()\n",
    "\n"
   ]
  },
  {
   "cell_type": "code",
   "execution_count": 12,
   "metadata": {},
   "outputs": [
    {
     "data": {
      "text/html": [
       "<div>\n",
       "<style scoped>\n",
       "    .dataframe tbody tr th:only-of-type {\n",
       "        vertical-align: middle;\n",
       "    }\n",
       "\n",
       "    .dataframe tbody tr th {\n",
       "        vertical-align: top;\n",
       "    }\n",
       "\n",
       "    .dataframe thead th {\n",
       "        text-align: right;\n",
       "    }\n",
       "</style>\n",
       "<table border=\"1\" class=\"dataframe\">\n",
       "  <thead>\n",
       "    <tr style=\"text-align: right;\">\n",
       "      <th></th>\n",
       "      <th>City</th>\n",
       "      <th>Lat</th>\n",
       "      <th>Lng</th>\n",
       "      <th>Max Temp</th>\n",
       "      <th>Humidity</th>\n",
       "      <th>Cloudiness</th>\n",
       "      <th>Wind Speed</th>\n",
       "      <th>Country</th>\n",
       "      <th>Date</th>\n",
       "    </tr>\n",
       "  </thead>\n",
       "  <tbody>\n",
       "    <tr>\n",
       "      <th>0</th>\n",
       "      <td>nome</td>\n",
       "      <td>64.5011</td>\n",
       "      <td>-165.4064</td>\n",
       "      <td>48.27</td>\n",
       "      <td>87</td>\n",
       "      <td>90</td>\n",
       "      <td>17.27</td>\n",
       "      <td>US</td>\n",
       "      <td>1628961563</td>\n",
       "    </tr>\n",
       "    <tr>\n",
       "      <th>1</th>\n",
       "      <td>arraial do cabo</td>\n",
       "      <td>-22.9661</td>\n",
       "      <td>-42.0278</td>\n",
       "      <td>66.16</td>\n",
       "      <td>88</td>\n",
       "      <td>90</td>\n",
       "      <td>5.75</td>\n",
       "      <td>BR</td>\n",
       "      <td>1628961563</td>\n",
       "    </tr>\n",
       "    <tr>\n",
       "      <th>2</th>\n",
       "      <td>dunedin</td>\n",
       "      <td>-45.8742</td>\n",
       "      <td>170.5036</td>\n",
       "      <td>49.80</td>\n",
       "      <td>47</td>\n",
       "      <td>64</td>\n",
       "      <td>11.01</td>\n",
       "      <td>NZ</td>\n",
       "      <td>1628961563</td>\n",
       "    </tr>\n",
       "    <tr>\n",
       "      <th>3</th>\n",
       "      <td>hobart</td>\n",
       "      <td>-42.8794</td>\n",
       "      <td>147.3294</td>\n",
       "      <td>55.26</td>\n",
       "      <td>63</td>\n",
       "      <td>90</td>\n",
       "      <td>5.01</td>\n",
       "      <td>AU</td>\n",
       "      <td>1628961282</td>\n",
       "    </tr>\n",
       "    <tr>\n",
       "      <th>4</th>\n",
       "      <td>ariquemes</td>\n",
       "      <td>-9.9133</td>\n",
       "      <td>-63.0408</td>\n",
       "      <td>99.34</td>\n",
       "      <td>21</td>\n",
       "      <td>22</td>\n",
       "      <td>3.00</td>\n",
       "      <td>BR</td>\n",
       "      <td>1628961564</td>\n",
       "    </tr>\n",
       "  </tbody>\n",
       "</table>\n",
       "</div>"
      ],
      "text/plain": [
       "              City      Lat       Lng  Max Temp  Humidity  Cloudiness  \\\n",
       "0             nome  64.5011 -165.4064     48.27        87          90   \n",
       "1  arraial do cabo -22.9661  -42.0278     66.16        88          90   \n",
       "2          dunedin -45.8742  170.5036     49.80        47          64   \n",
       "3           hobart -42.8794  147.3294     55.26        63          90   \n",
       "4        ariquemes  -9.9133  -63.0408     99.34        21          22   \n",
       "\n",
       "   Wind Speed Country        Date  \n",
       "0       17.27      US  1628961563  \n",
       "1        5.75      BR  1628961563  \n",
       "2       11.01      NZ  1628961563  \n",
       "3        5.01      AU  1628961282  \n",
       "4        3.00      BR  1628961564  "
      ]
     },
     "execution_count": 12,
     "metadata": {},
     "output_type": "execute_result"
    }
   ],
   "source": [
    "weather_data.head()"
   ]
  },
  {
   "cell_type": "markdown",
   "metadata": {},
   "source": [
    "## Inspect the data and remove the cities where the humidity > 100%.\n",
    "----\n",
    "Skip this step if there are no cities that have humidity > 100%. "
   ]
  },
  {
   "cell_type": "code",
   "execution_count": 13,
   "metadata": {},
   "outputs": [
    {
     "data": {
      "text/html": [
       "<div>\n",
       "<style scoped>\n",
       "    .dataframe tbody tr th:only-of-type {\n",
       "        vertical-align: middle;\n",
       "    }\n",
       "\n",
       "    .dataframe tbody tr th {\n",
       "        vertical-align: top;\n",
       "    }\n",
       "\n",
       "    .dataframe thead th {\n",
       "        text-align: right;\n",
       "    }\n",
       "</style>\n",
       "<table border=\"1\" class=\"dataframe\">\n",
       "  <thead>\n",
       "    <tr style=\"text-align: right;\">\n",
       "      <th></th>\n",
       "      <th>Lat</th>\n",
       "      <th>Lng</th>\n",
       "      <th>Max Temp</th>\n",
       "      <th>Humidity</th>\n",
       "      <th>Cloudiness</th>\n",
       "      <th>Wind Speed</th>\n",
       "      <th>Date</th>\n",
       "    </tr>\n",
       "  </thead>\n",
       "  <tbody>\n",
       "    <tr>\n",
       "      <th>count</th>\n",
       "      <td>552.000000</td>\n",
       "      <td>552.000000</td>\n",
       "      <td>552.000000</td>\n",
       "      <td>552.000000</td>\n",
       "      <td>552.000000</td>\n",
       "      <td>552.000000</td>\n",
       "      <td>5.520000e+02</td>\n",
       "    </tr>\n",
       "    <tr>\n",
       "      <th>mean</th>\n",
       "      <td>21.060162</td>\n",
       "      <td>16.775522</td>\n",
       "      <td>71.074022</td>\n",
       "      <td>69.387681</td>\n",
       "      <td>53.161232</td>\n",
       "      <td>8.070779</td>\n",
       "      <td>1.628962e+09</td>\n",
       "    </tr>\n",
       "    <tr>\n",
       "      <th>std</th>\n",
       "      <td>33.314294</td>\n",
       "      <td>90.902036</td>\n",
       "      <td>14.387665</td>\n",
       "      <td>21.417933</td>\n",
       "      <td>37.622556</td>\n",
       "      <td>5.424012</td>\n",
       "      <td>7.739269e+01</td>\n",
       "    </tr>\n",
       "    <tr>\n",
       "      <th>min</th>\n",
       "      <td>-54.800000</td>\n",
       "      <td>-175.200000</td>\n",
       "      <td>36.660000</td>\n",
       "      <td>6.000000</td>\n",
       "      <td>0.000000</td>\n",
       "      <td>0.000000</td>\n",
       "      <td>1.628961e+09</td>\n",
       "    </tr>\n",
       "    <tr>\n",
       "      <th>25%</th>\n",
       "      <td>-6.925925</td>\n",
       "      <td>-62.304375</td>\n",
       "      <td>59.477500</td>\n",
       "      <td>57.000000</td>\n",
       "      <td>16.000000</td>\n",
       "      <td>4.000000</td>\n",
       "      <td>1.628962e+09</td>\n",
       "    </tr>\n",
       "    <tr>\n",
       "      <th>50%</th>\n",
       "      <td>26.729400</td>\n",
       "      <td>23.433350</td>\n",
       "      <td>73.460000</td>\n",
       "      <td>75.000000</td>\n",
       "      <td>59.500000</td>\n",
       "      <td>6.910000</td>\n",
       "      <td>1.628962e+09</td>\n",
       "    </tr>\n",
       "    <tr>\n",
       "      <th>75%</th>\n",
       "      <td>49.206725</td>\n",
       "      <td>99.316525</td>\n",
       "      <td>80.732500</td>\n",
       "      <td>85.000000</td>\n",
       "      <td>90.000000</td>\n",
       "      <td>10.972500</td>\n",
       "      <td>1.628962e+09</td>\n",
       "    </tr>\n",
       "    <tr>\n",
       "      <th>max</th>\n",
       "      <td>78.218600</td>\n",
       "      <td>179.316700</td>\n",
       "      <td>109.920000</td>\n",
       "      <td>100.000000</td>\n",
       "      <td>100.000000</td>\n",
       "      <td>32.440000</td>\n",
       "      <td>1.628962e+09</td>\n",
       "    </tr>\n",
       "  </tbody>\n",
       "</table>\n",
       "</div>"
      ],
      "text/plain": [
       "              Lat         Lng    Max Temp    Humidity  Cloudiness  Wind Speed  \\\n",
       "count  552.000000  552.000000  552.000000  552.000000  552.000000  552.000000   \n",
       "mean    21.060162   16.775522   71.074022   69.387681   53.161232    8.070779   \n",
       "std     33.314294   90.902036   14.387665   21.417933   37.622556    5.424012   \n",
       "min    -54.800000 -175.200000   36.660000    6.000000    0.000000    0.000000   \n",
       "25%     -6.925925  -62.304375   59.477500   57.000000   16.000000    4.000000   \n",
       "50%     26.729400   23.433350   73.460000   75.000000   59.500000    6.910000   \n",
       "75%     49.206725   99.316525   80.732500   85.000000   90.000000   10.972500   \n",
       "max     78.218600  179.316700  109.920000  100.000000  100.000000   32.440000   \n",
       "\n",
       "               Date  \n",
       "count  5.520000e+02  \n",
       "mean   1.628962e+09  \n",
       "std    7.739269e+01  \n",
       "min    1.628961e+09  \n",
       "25%    1.628962e+09  \n",
       "50%    1.628962e+09  \n",
       "75%    1.628962e+09  \n",
       "max    1.628962e+09  "
      ]
     },
     "execution_count": 13,
     "metadata": {},
     "output_type": "execute_result"
    }
   ],
   "source": [
    "weather_data.describe()"
   ]
  },
  {
   "cell_type": "code",
   "execution_count": 15,
   "metadata": {},
   "outputs": [
    {
     "data": {
      "text/plain": [
       "Int64Index([], dtype='int64')"
      ]
     },
     "execution_count": 15,
     "metadata": {},
     "output_type": "execute_result"
    }
   ],
   "source": [
    "#  Get the indices of cities that have humidity over 100%.\n",
    "dirty_weather_data = weather_data[(weather_data['Humidity'] > 100)].index\n",
    "\n",
    "dirty_weather_data\n",
    "\n"
   ]
  },
  {
   "cell_type": "code",
   "execution_count": 16,
   "metadata": {},
   "outputs": [
    {
     "data": {
      "text/html": [
       "<div>\n",
       "<style scoped>\n",
       "    .dataframe tbody tr th:only-of-type {\n",
       "        vertical-align: middle;\n",
       "    }\n",
       "\n",
       "    .dataframe tbody tr th {\n",
       "        vertical-align: top;\n",
       "    }\n",
       "\n",
       "    .dataframe thead th {\n",
       "        text-align: right;\n",
       "    }\n",
       "</style>\n",
       "<table border=\"1\" class=\"dataframe\">\n",
       "  <thead>\n",
       "    <tr style=\"text-align: right;\">\n",
       "      <th></th>\n",
       "      <th>City</th>\n",
       "      <th>Lat</th>\n",
       "      <th>Lng</th>\n",
       "      <th>Max Temp</th>\n",
       "      <th>Humidity</th>\n",
       "      <th>Cloudiness</th>\n",
       "      <th>Wind Speed</th>\n",
       "      <th>Country</th>\n",
       "      <th>Date</th>\n",
       "    </tr>\n",
       "  </thead>\n",
       "  <tbody>\n",
       "    <tr>\n",
       "      <th>0</th>\n",
       "      <td>nome</td>\n",
       "      <td>64.5011</td>\n",
       "      <td>-165.4064</td>\n",
       "      <td>48.27</td>\n",
       "      <td>87</td>\n",
       "      <td>90</td>\n",
       "      <td>17.27</td>\n",
       "      <td>US</td>\n",
       "      <td>1628961563</td>\n",
       "    </tr>\n",
       "    <tr>\n",
       "      <th>1</th>\n",
       "      <td>arraial do cabo</td>\n",
       "      <td>-22.9661</td>\n",
       "      <td>-42.0278</td>\n",
       "      <td>66.16</td>\n",
       "      <td>88</td>\n",
       "      <td>90</td>\n",
       "      <td>5.75</td>\n",
       "      <td>BR</td>\n",
       "      <td>1628961563</td>\n",
       "    </tr>\n",
       "    <tr>\n",
       "      <th>2</th>\n",
       "      <td>dunedin</td>\n",
       "      <td>-45.8742</td>\n",
       "      <td>170.5036</td>\n",
       "      <td>49.80</td>\n",
       "      <td>47</td>\n",
       "      <td>64</td>\n",
       "      <td>11.01</td>\n",
       "      <td>NZ</td>\n",
       "      <td>1628961563</td>\n",
       "    </tr>\n",
       "    <tr>\n",
       "      <th>3</th>\n",
       "      <td>hobart</td>\n",
       "      <td>-42.8794</td>\n",
       "      <td>147.3294</td>\n",
       "      <td>55.26</td>\n",
       "      <td>63</td>\n",
       "      <td>90</td>\n",
       "      <td>5.01</td>\n",
       "      <td>AU</td>\n",
       "      <td>1628961282</td>\n",
       "    </tr>\n",
       "    <tr>\n",
       "      <th>4</th>\n",
       "      <td>ariquemes</td>\n",
       "      <td>-9.9133</td>\n",
       "      <td>-63.0408</td>\n",
       "      <td>99.34</td>\n",
       "      <td>21</td>\n",
       "      <td>22</td>\n",
       "      <td>3.00</td>\n",
       "      <td>BR</td>\n",
       "      <td>1628961564</td>\n",
       "    </tr>\n",
       "  </tbody>\n",
       "</table>\n",
       "</div>"
      ],
      "text/plain": [
       "              City      Lat       Lng  Max Temp  Humidity  Cloudiness  \\\n",
       "0             nome  64.5011 -165.4064     48.27        87          90   \n",
       "1  arraial do cabo -22.9661  -42.0278     66.16        88          90   \n",
       "2          dunedin -45.8742  170.5036     49.80        47          64   \n",
       "3           hobart -42.8794  147.3294     55.26        63          90   \n",
       "4        ariquemes  -9.9133  -63.0408     99.34        21          22   \n",
       "\n",
       "   Wind Speed Country        Date  \n",
       "0       17.27      US  1628961563  \n",
       "1        5.75      BR  1628961563  \n",
       "2       11.01      NZ  1628961563  \n",
       "3        5.01      AU  1628961282  \n",
       "4        3.00      BR  1628961564  "
      ]
     },
     "execution_count": 16,
     "metadata": {},
     "output_type": "execute_result"
    }
   ],
   "source": [
    "# Make a new DataFrame equal to the city data to drop all humidity outliers by index.\n",
    "# Passing \"inplace=False\" will make a copy of the city_data DataFrame, which we call \"clean_city_data\".\n",
    "clean_weather_data = weather_data.drop(dirty_weather_data, inplace = False)\n",
    "\n",
    "clean_weather_data.head()"
   ]
  },
  {
   "cell_type": "code",
   "execution_count": 17,
   "metadata": {},
   "outputs": [],
   "source": [
    "# Extract relevent fields from the data frame\n",
    "\n",
    "lats = clean_weather_data['Lat']\n",
    "max_temps = clean_weather_data['Max Temp']\n",
    "humidity = clean_weather_data['Humidity']\n",
    "cloudiness = clean_weather_data['Cloudiness']\n",
    "wind_speed = clean_weather_data['Wind Speed']\n",
    "\n",
    "# Export the data in a csv\n",
    "clean_weather_data.to_csv(output_data_file, index_label = \"City_ID\")"
   ]
  },
  {
   "cell_type": "markdown",
   "metadata": {},
   "source": [
    "## Plotting the Data\n",
    "* Use proper labeling of the plots using plot titles (including date of analysis) and axes labels.\n",
    "* Save the plotted figures as .pngs."
   ]
  },
  {
   "cell_type": "markdown",
   "metadata": {},
   "source": [
    "## Latitude vs. Temperature Plot"
   ]
  },
  {
   "cell_type": "code",
   "execution_count": 27,
   "metadata": {
    "scrolled": true
   },
   "outputs": [
    {
     "data": {
      "image/png": "[encoded data removed]",
      "text/plain": [
       "<Figure size 432x288 with 1 Axes>"
      ]
     },
     "metadata": {
      "needs_background": "light"
     },
     "output_type": "display_data"
    }
   ],
   "source": [
    "# Build a scatter plot for each data type\n",
    "plt.scatter(lats, max_temps,linewidths= 1, marker=\"o\", alpha=0.8, label = \"Cities\")\n",
    "\n",
    "# Incorporate the other graph properties\n",
    "plt.title(\"City Latitude vs. Max Temperature (%s)\" % time.strftime(\"%x\") )\n",
    "plt.ylabel(\"Temperature (F)\")\n",
    "plt.xlabel(\"Latitude\")\n",
    "plt.grid(True)\n",
    "\n",
    "# Save the figure\n",
    "plt.savefig(\"output_data/Fig1.png\")\n",
    "\n",
    "# Show plot\n",
    "plt.show()"
   ]
  },
  {
   "cell_type": "markdown",
   "metadata": {},
   "source": [
    "## Latitude vs. Humidity Plot"
   ]
  },
  {
   "cell_type": "code",
   "execution_count": 28,
   "metadata": {},
   "outputs": [
    {
     "data": {
      "image/png": "[encoded data removed]",
      "text/plain": [
       "<Figure size 432x288 with 1 Axes>"
      ]
     },
     "metadata": {
      "needs_background": "light"
     },
     "output_type": "display_data"
    }
   ],
   "source": [
    "# Build a scatter plot for each data type\n",
    "plt.scatter(lats, humidity ,linewidths= 1, marker=\"o\", alpha=0.8, label = \"Cities\")\n",
    "\n",
    "# Incorporate the other graph properties\n",
    "plt.title(\"City Latitude vs. Humidity (%s)\" % time.strftime(\"%x\"))\n",
    "plt.ylabel(\"Humitidy (%)\")\n",
    "plt.xlabel(\"Latitude\")\n",
    "plt.grid(True)\n",
    "\n",
    "# Save the figure\n",
    "plt.savefig(\"output_data/Fig2.png\")\n",
    "\n",
    "# Show plot\n",
    "plt.show()"
   ]
  },
  {
   "cell_type": "markdown",
   "metadata": {},
   "source": [
    "## Latitude vs. Cloudiness Plot"
   ]
  },
  {
   "cell_type": "code",
   "execution_count": 29,
   "metadata": {},
   "outputs": [
    {
     "data": {
      "image/png": "[encoded data removed]",
      "text/plain": [
       "<Figure size 432x288 with 1 Axes>"
      ]
     },
     "metadata": {
      "needs_background": "light"
     },
     "output_type": "display_data"
    }
   ],
   "source": [
    "# Build a scatter plot for each data type\n",
    "plt.scatter(lats, cloudiness, marker=\"o\", linewidths= 1, alpha=0.8, label = \"Cities\")\n",
    "\n",
    "# Incorporate the other graph properties\n",
    "plt.title(\"City Latitude vs Cloudiness (%s)\" % time.strftime(\"%x\"))\n",
    "plt.ylabel(\"cloudiness (%)\")\n",
    "plt.xlabel(\"Latitude\")\n",
    "plt.grid(True)\n",
    "\n",
    "# Save the figure\n",
    "plt.savefig(\"output_data/Fig3.png\")\n",
    "\n",
    "# Show plot\n",
    "plt.show()"
   ]
  },
  {
   "cell_type": "markdown",
   "metadata": {},
   "source": [
    "## Latitude vs. Wind Speed Plot"
   ]
  },
  {
   "cell_type": "code",
   "execution_count": 30,
   "metadata": {},
   "outputs": [
    {
     "data": {
      "image/png": "[encoded data removed]",
      "text/plain": [
       "<Figure size 432x288 with 1 Axes>"
      ]
     },
     "metadata": {
      "needs_background": "light"
     },
     "output_type": "display_data"
    }
   ],
   "source": [
    "# Build a scatter plot for each data type\n",
    "plt.scatter(lats, wind_speed, linewidths=1, marker=\"o\", alpha= 0.8, label = \"Cities\")\n",
    "\n",
    "# Incorporate the other graph properties\n",
    "plt.title(\"City Latitude vs. Wind speed (%s)\" % time.strftime(\"%x\"))\n",
    "plt.ylabel(\"windspeed (mph)\")\n",
    "plt.xlabel(\"Latitude\")\n",
    "plt.grid(True)\n",
    "\n",
    "# Save the figure\n",
    "plt.savefig(\"output_data/Fig4.png\")\n",
    "\n",
    "# Show plot\n",
    "plt.show()"
   ]
  },
  {
   "cell_type": "markdown",
   "metadata": {},
   "source": [
    "## Linear Regression"
   ]
  },
  {
   "cell_type": "code",
   "execution_count": 44,
   "metadata": {},
   "outputs": [],
   "source": [
    "# Create Function to create linear Regression plots\n",
    "def plot_linear_regression(x_values, y_values, title, text_coordinates):\n",
    "    \n",
    "#     Run regression on Southern Hemisphere\n",
    "    (slope, intercept, rvalue, pvalue, stderr) = linregress(x_values, y_values)\n",
    "    regress_values = x_values * slope + intercept\n",
    "    line_eq = \"y = \" + str(round(slope,2)) + \"x + \" + str(round(intercept,2))\n",
    "    \n",
    "#     plot\n",
    "    plt.scatter(x_values,y_values)\n",
    "    plt.plot(x_values, regress_values, \"r-\")\n",
    "    plt.annotate(line_eq, text_coordinates, fontsize=15, color=\"red\")\n",
    "    plt.xlabel(\"Latitude\")\n",
    "    plt.ylabel(title)\n",
    "    \n",
    "    print(f\"the r-value is: {rvalue ** 2}\")\n",
    "    plt.show()"
   ]
  },
  {
   "cell_type": "code",
   "execution_count": 45,
   "metadata": {},
   "outputs": [],
   "source": [
    "# create Northern and Southern Hemisphere DataFrames\n",
    "northern_hemi_df = weather_data.loc[(weather_data[\"Lat\"] >=0)]\n",
    "southern_hemi_df = weather_data.loc[(weather_data[\"Lat\"] < 0)]"
   ]
  },
  {
   "cell_type": "markdown",
   "metadata": {},
   "source": [
    "####  Northern Hemisphere - Max Temp vs. Latitude Linear Regression"
   ]
  },
  {
   "cell_type": "code",
   "execution_count": 46,
   "metadata": {},
   "outputs": [
    {
     "name": "stdout",
     "output_type": "stream",
     "text": [
      "the r-value is: 0.4285815038953721\n"
     ]
    },
    {
     "data": {
      "image/png": "[encoded data removed]",
      "text/plain": [
       "<Figure size 432x288 with 1 Axes>"
      ]
     },
     "metadata": {
      "needs_background": "light"
     },
     "output_type": "display_data"
    }
   ],
   "source": [
    "x_values = northern_hemi_df[\"Lat\"]\n",
    "y_values = northern_hemi_df[\"Max Temp\"]\n",
    "plot_linear_regression(x_values, y_values, \"Max Temp\", (6,30))\n",
    "\n",
    "#print scatter plot with regression\n",
    "# plt.scatter(northern_hem['lat'],northern_hem['temp_max'])\n",
    "# plt.title(\"Northern Hemisphere Temperature Regression\")\n",
    "# plt.ylabel(\"Temperature (Fahrenheit)\")\n",
    "# plt.xlabel(\"Latitude\")\n",
    "# plt.grid(True)\n",
    "\n",
    "# print(plt.scatter)\n",
    "# plt.plot(x_values, y_values, \"r-\")\n",
    "# plt.plot\n"
   ]
  },
  {
   "cell_type": "markdown",
   "metadata": {},
   "source": [
    "####  Southern Hemisphere - Max Temp vs. Latitude Linear Regression"
   ]
  },
  {
   "cell_type": "code",
   "execution_count": 47,
   "metadata": {},
   "outputs": [
    {
     "name": "stdout",
     "output_type": "stream",
     "text": [
      "the r-value is: 0.64944423674575\n"
     ]
    },
    {
     "data": {
      "image/png": "[encoded data removed]",
      "text/plain": [
       "<Figure size 432x288 with 1 Axes>"
      ]
     },
     "metadata": {
      "needs_background": "light"
     },
     "output_type": "display_data"
    }
   ],
   "source": [
    "#southern hem scatter and regress\n",
    "x_values = southern_hemi_df[\"Lat\"]\n",
    "y_values = southern_hemi_df[\"Max Temp\"]\n",
    "plot_linear_regression(x_values, y_values, 'Max Temp', (-55, 90)) "
   ]
  },
  {
   "cell_type": "markdown",
   "metadata": {},
   "source": [
    "The high r value indicates a strong positive correlation between latitude and max temperature. R values ~ 0.5 indicate that there is a moderate positive correlation."
   ]
  },
  {
   "cell_type": "markdown",
   "metadata": {},
   "source": [
    "####  Northern Hemisphere - Humidity (%) vs. Latitude Linear Regression"
   ]
  },
  {
   "cell_type": "code",
   "execution_count": 49,
   "metadata": {},
   "outputs": [
    {
     "name": "stdout",
     "output_type": "stream",
     "text": [
      "the r-value is: 0.006461619708836628\n"
     ]
    },
    {
     "data": {
      "image/png": "[encoded data removed]",
      "text/plain": [
       "<Figure size 432x288 with 1 Axes>"
      ]
     },
     "metadata": {
      "needs_background": "light"
     },
     "output_type": "display_data"
    }
   ],
   "source": [
    "#  Northern Hemisphere\n",
    "x_values = northern_hemi_df[\"Lat\"]\n",
    "y_values = northern_hemi_df[\"Humidity\"]\n",
    "plot_linear_regression(x_values, y_values, 'Humidity',(40,10))"
   ]
  },
  {
   "cell_type": "markdown",
   "metadata": {},
   "source": [
    "####  Southern Hemisphere - Humidity (%) vs. Latitude Linear Regression"
   ]
  },
  {
   "cell_type": "code",
   "execution_count": 50,
   "metadata": {},
   "outputs": [
    {
     "name": "stdout",
     "output_type": "stream",
     "text": [
      "the r-value is: 0.0014875275294427036\n"
     ]
    },
    {
     "data": {
      "image/png": "[encoded data removed]",
      "text/plain": [
       "<Figure size 432x288 with 1 Axes>"
      ]
     },
     "metadata": {
      "needs_background": "light"
     },
     "output_type": "display_data"
    }
   ],
   "source": [
    "# Southern Hemisphere\n",
    "x_values = southern_hemi_df[\"Lat\"]\n",
    "y_values = southern_hemi_df[\"Humidity\"]\n",
    "plot_linear_regression(x_values, y_values, 'Humidity', (-50, 20))"
   ]
  },
  {
   "cell_type": "markdown",
   "metadata": {},
   "source": [
    "The low r values indicate a weak to no relationship between humidity and latitude."
   ]
  },
  {
   "cell_type": "markdown",
   "metadata": {},
   "source": [
    "####  Northern Hemisphere - Cloudiness (%) vs. Latitude Linear Regression"
   ]
  },
  {
   "cell_type": "code",
   "execution_count": 52,
   "metadata": {},
   "outputs": [
    {
     "name": "stdout",
     "output_type": "stream",
     "text": [
      "the r-value is: 0.002027539625914223\n"
     ]
    },
    {
     "data": {
      "image/png": "[encoded data removed]",
      "text/plain": [
       "<Figure size 432x288 with 1 Axes>"
      ]
     },
     "metadata": {
      "needs_background": "light"
     },
     "output_type": "display_data"
    }
   ],
   "source": [
    "# Northern Hemisphere\n",
    "x_values = northern_hemi_df[\"Lat\"]\n",
    "y_values = northern_hemi_df[\"Cloudiness\"]\n",
    "plot_linear_regression(x_values, y_values, 'Cloudiness', (40,10))"
   ]
  },
  {
   "cell_type": "markdown",
   "metadata": {},
   "source": [
    "####  Southern Hemisphere - Cloudiness (%) vs. Latitude Linear Regression"
   ]
  },
  {
   "cell_type": "code",
   "execution_count": 53,
   "metadata": {},
   "outputs": [
    {
     "name": "stdout",
     "output_type": "stream",
     "text": [
      "the r-value is: 0.0035072592930372654\n"
     ]
    },
    {
     "data": {
      "image/png": "[encoded data removed]",
      "text/plain": [
       "<Figure size 432x288 with 1 Axes>"
      ]
     },
     "metadata": {
      "needs_background": "light"
     },
     "output_type": "display_data"
    }
   ],
   "source": [
    "x_values = southern_hemi_df[\"Lat\"]\n",
    "y_values = southern_hemi_df[\"Cloudiness\"]\n",
    "plot_linear_regression(x_values, y_values, 'Cloudiness', (-30,30))"
   ]
  },
  {
   "cell_type": "markdown",
   "metadata": {},
   "source": [
    "####  Northern Hemisphere - Wind Speed (mph) vs. Latitude Linear Regression"
   ]
  },
  {
   "cell_type": "code",
   "execution_count": 54,
   "metadata": {},
   "outputs": [
    {
     "name": "stdout",
     "output_type": "stream",
     "text": [
      "the r-value is: 2.331354351302186e-05\n"
     ]
    },
    {
     "data": {
      "image/png": "[encoded data removed]",
      "text/plain": [
       "<Figure size 432x288 with 1 Axes>"
      ]
     },
     "metadata": {
      "needs_background": "light"
     },
     "output_type": "display_data"
    }
   ],
   "source": [
    "# Northern Hemisphere\n",
    "x_values = northern_hemi_df[\"Lat\"]\n",
    "y_values = northern_hemi_df[\"Wind Speed\"]\n",
    "plot_linear_regression(x_values, y_values, 'Wind Speed', (40,25))"
   ]
  },
  {
   "cell_type": "markdown",
   "metadata": {},
   "source": [
    "####  Southern Hemisphere - Wind Speed (mph) vs. Latitude Linear Regression"
   ]
  },
  {
   "cell_type": "code",
   "execution_count": 55,
   "metadata": {},
   "outputs": [
    {
     "name": "stdout",
     "output_type": "stream",
     "text": [
      "the r-value is: 0.006987851686799489\n"
     ]
    },
    {
     "data": {
      "image/png": "[encoded data removed]",
      "text/plain": [
       "<Figure size 432x288 with 1 Axes>"
      ]
     },
     "metadata": {
      "needs_background": "light"
     },
     "output_type": "display_data"
    }
   ],
   "source": [
    "# Southern Hemisphere\n",
    "x_values = southern_hemi_df[\"Lat\"]\n",
    "y_values = southern_hemi_df[\"Wind Speed\"]\n",
    "plot_linear_regression(x_values, y_values, 'Wind Speed', (-50, 20))"
   ]
  },
  {
   "cell_type": "markdown",
   "metadata": {},
   "source": [
    "The low r values indicate that there is no real relationship between wind speed and latitude.\" The difference between the hemispheres doesn't seem to be significant enough to comment upon."
   ]
  },
  {
   "cell_type": "code",
   "execution_count": null,
   "metadata": {},
   "outputs": [],
   "source": []
  }
 ],
 "metadata": {
  "anaconda-cloud": {},
  "kernel_info": {
   "name": "python3"
  },
  "kernelspec": {
   "display_name": "Python 3",
   "language": "python",
   "name": "python3"
  },
  "language_info": {
   "codemirror_mode": {
    "name": "ipython",
    "version": 3
   },
   "file_extension": ".py",
   "mimetype": "text/x-python",
   "name": "python",
   "nbconvert_exporter": "python",
   "pygments_lexer": "ipython3",
   "version": "3.6.12"
  },
  "latex_envs": {
   "LaTeX_envs_menu_present": true,
   "autoclose": false,
   "autocomplete": true,
   "bibliofile": "biblio.bib",
   "cite_by": "apalike",
   "current_citInitial": 1,
   "eqLabelWithNumbers": true,
   "eqNumInitial": 1,
   "hotkeys": {
    "equation": "Ctrl-E",
    "itemize": "Ctrl-I"
   },
   "labels_anchors": false,
   "latex_user_defs": false,
   "report_style_numbering": false,
   "user_envs_cfg": false
  },
  "nteract": {
   "version": "0.12.3"
  }
 },
 "nbformat": 4,
 "nbformat_minor": 2
}
